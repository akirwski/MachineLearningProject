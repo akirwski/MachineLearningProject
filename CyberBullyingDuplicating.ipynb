{
 "cells": [
  {
   "cell_type": "code",
   "execution_count": 56,
   "id": "7780a41f",
   "metadata": {},
   "outputs": [
    {
     "data": {
      "text/html": [
       "<div>\n",
       "<style scoped>\n",
       "    .dataframe tbody tr th:only-of-type {\n",
       "        vertical-align: middle;\n",
       "    }\n",
       "\n",
       "    .dataframe tbody tr th {\n",
       "        vertical-align: top;\n",
       "    }\n",
       "\n",
       "    .dataframe thead th {\n",
       "        text-align: right;\n",
       "    }\n",
       "</style>\n",
       "<table border=\"1\" class=\"dataframe\">\n",
       "  <thead>\n",
       "    <tr style=\"text-align: right;\">\n",
       "      <th></th>\n",
       "      <th>tweet_text</th>\n",
       "      <th>cyberbullying_type</th>\n",
       "    </tr>\n",
       "  </thead>\n",
       "  <tbody>\n",
       "    <tr>\n",
       "      <th>0</th>\n",
       "      <td>In other words #katandandre, your food was cra...</td>\n",
       "      <td>not_cyberbullying</td>\n",
       "    </tr>\n",
       "    <tr>\n",
       "      <th>1</th>\n",
       "      <td>Why is #aussietv so white? #MKR #theblock #ImA...</td>\n",
       "      <td>not_cyberbullying</td>\n",
       "    </tr>\n",
       "    <tr>\n",
       "      <th>2</th>\n",
       "      <td>@XochitlSuckkks a classy whore? Or more red ve...</td>\n",
       "      <td>not_cyberbullying</td>\n",
       "    </tr>\n",
       "    <tr>\n",
       "      <th>3</th>\n",
       "      <td>@Jason_Gio meh. :P  thanks for the heads up, b...</td>\n",
       "      <td>not_cyberbullying</td>\n",
       "    </tr>\n",
       "    <tr>\n",
       "      <th>4</th>\n",
       "      <td>@RudhoeEnglish This is an ISIS account pretend...</td>\n",
       "      <td>not_cyberbullying</td>\n",
       "    </tr>\n",
       "  </tbody>\n",
       "</table>\n",
       "</div>"
      ],
      "text/plain": [
       "                                          tweet_text cyberbullying_type\n",
       "0  In other words #katandandre, your food was cra...  not_cyberbullying\n",
       "1  Why is #aussietv so white? #MKR #theblock #ImA...  not_cyberbullying\n",
       "2  @XochitlSuckkks a classy whore? Or more red ve...  not_cyberbullying\n",
       "3  @Jason_Gio meh. :P  thanks for the heads up, b...  not_cyberbullying\n",
       "4  @RudhoeEnglish This is an ISIS account pretend...  not_cyberbullying"
      ]
     },
     "execution_count": 56,
     "metadata": {},
     "output_type": "execute_result"
    }
   ],
   "source": [
    "import os\n",
    "os.chdir('/Users/akiratachibana/Downloads/Classes/ECON4763/Project/archive')\n",
    "\n",
    "\n",
    "import numpy as np\n",
    "import pandas as pd\n",
    "import math\n",
    "\n",
    "\n",
    "\n",
    "#notCy = pd.read_csv('not_cyberbullying_dataset.csv')\n",
    "Cy = pd.read_csv('cyberbullying_tweets.csv')\n",
    "Cy.head()"
   ]
  },
  {
   "cell_type": "code",
   "execution_count": 57,
   "id": "b09e87a8",
   "metadata": {},
   "outputs": [
    {
     "data": {
      "text/plain": [
       "(47692, 2)"
      ]
     },
     "execution_count": 57,
     "metadata": {},
     "output_type": "execute_result"
    }
   ],
   "source": [
    "Cy.shape"
   ]
  },
  {
   "cell_type": "code",
   "execution_count": null,
   "id": "4deaafc1",
   "metadata": {},
   "outputs": [],
   "source": [
    "DF = pd.DataFrame()\n",
    "c1 = 0;\n",
    "c2 = 0;\n",
    "c3 = 0;\n",
    "c4 = 0;\n",
    "c5 = 0;\n",
    "\n",
    "for i in range(0, 47692)\n",
    "    if(Cy['cyberbullying_type'][i] == 'not_cyberbullying' && c1 < )\n",
    "        c1 += 1\n",
    "        DF.append(Cy.iloc[0])\n",
    "        "
   ]
  },
  {
   "cell_type": "code",
   "execution_count": 58,
   "id": "2bb9a325",
   "metadata": {},
   "outputs": [],
   "source": [
    "Cy = Cy.rename(columns={\"tweet_text\": \"text\"})"
   ]
  },
  {
   "cell_type": "code",
   "execution_count": 59,
   "id": "fdfc8862",
   "metadata": {},
   "outputs": [],
   "source": [
    "notCy = pd.read_csv('not_cyberbullying_dataset.csv', encoding='latin-1')"
   ]
  },
  {
   "cell_type": "code",
   "execution_count": 60,
   "id": "e228dfd8",
   "metadata": {},
   "outputs": [
    {
     "data": {
      "text/html": [
       "<div>\n",
       "<style scoped>\n",
       "    .dataframe tbody tr th:only-of-type {\n",
       "        vertical-align: middle;\n",
       "    }\n",
       "\n",
       "    .dataframe tbody tr th {\n",
       "        vertical-align: top;\n",
       "    }\n",
       "\n",
       "    .dataframe thead th {\n",
       "        text-align: right;\n",
       "    }\n",
       "</style>\n",
       "<table border=\"1\" class=\"dataframe\">\n",
       "  <thead>\n",
       "    <tr style=\"text-align: right;\">\n",
       "      <th></th>\n",
       "      <th>0</th>\n",
       "      <th>1467810369</th>\n",
       "      <th>Mon Apr 06 22:19:45 PDT 2009</th>\n",
       "      <th>NO_QUERY</th>\n",
       "      <th>_TheSpecialOne_</th>\n",
       "      <th>@switchfoot http://twitpic.com/2y1zl - Awww, that's a bummer.  You shoulda got David Carr of Third Day to do it. ;D</th>\n",
       "    </tr>\n",
       "  </thead>\n",
       "  <tbody>\n",
       "    <tr>\n",
       "      <th>0</th>\n",
       "      <td>0</td>\n",
       "      <td>1467810672</td>\n",
       "      <td>Mon Apr 06 22:19:49 PDT 2009</td>\n",
       "      <td>NO_QUERY</td>\n",
       "      <td>scotthamilton</td>\n",
       "      <td>is upset that he can't update his Facebook by ...</td>\n",
       "    </tr>\n",
       "    <tr>\n",
       "      <th>1</th>\n",
       "      <td>0</td>\n",
       "      <td>1467810917</td>\n",
       "      <td>Mon Apr 06 22:19:53 PDT 2009</td>\n",
       "      <td>NO_QUERY</td>\n",
       "      <td>mattycus</td>\n",
       "      <td>@Kenichan I dived many times for the ball. Man...</td>\n",
       "    </tr>\n",
       "    <tr>\n",
       "      <th>2</th>\n",
       "      <td>0</td>\n",
       "      <td>1467811184</td>\n",
       "      <td>Mon Apr 06 22:19:57 PDT 2009</td>\n",
       "      <td>NO_QUERY</td>\n",
       "      <td>ElleCTF</td>\n",
       "      <td>my whole body feels itchy and like its on fire</td>\n",
       "    </tr>\n",
       "    <tr>\n",
       "      <th>3</th>\n",
       "      <td>0</td>\n",
       "      <td>1467811193</td>\n",
       "      <td>Mon Apr 06 22:19:57 PDT 2009</td>\n",
       "      <td>NO_QUERY</td>\n",
       "      <td>Karoli</td>\n",
       "      <td>@nationwideclass no, it's not behaving at all....</td>\n",
       "    </tr>\n",
       "    <tr>\n",
       "      <th>4</th>\n",
       "      <td>0</td>\n",
       "      <td>1467811372</td>\n",
       "      <td>Mon Apr 06 22:20:00 PDT 2009</td>\n",
       "      <td>NO_QUERY</td>\n",
       "      <td>joy_wolf</td>\n",
       "      <td>@Kwesidei not the whole crew</td>\n",
       "    </tr>\n",
       "  </tbody>\n",
       "</table>\n",
       "</div>"
      ],
      "text/plain": [
       "   0  1467810369  Mon Apr 06 22:19:45 PDT 2009  NO_QUERY _TheSpecialOne_  \\\n",
       "0  0  1467810672  Mon Apr 06 22:19:49 PDT 2009  NO_QUERY   scotthamilton   \n",
       "1  0  1467810917  Mon Apr 06 22:19:53 PDT 2009  NO_QUERY        mattycus   \n",
       "2  0  1467811184  Mon Apr 06 22:19:57 PDT 2009  NO_QUERY         ElleCTF   \n",
       "3  0  1467811193  Mon Apr 06 22:19:57 PDT 2009  NO_QUERY          Karoli   \n",
       "4  0  1467811372  Mon Apr 06 22:20:00 PDT 2009  NO_QUERY        joy_wolf   \n",
       "\n",
       "  @switchfoot http://twitpic.com/2y1zl - Awww, that's a bummer.  You shoulda got David Carr of Third Day to do it. ;D  \n",
       "0  is upset that he can't update his Facebook by ...                                                                   \n",
       "1  @Kenichan I dived many times for the ball. Man...                                                                   \n",
       "2    my whole body feels itchy and like its on fire                                                                    \n",
       "3  @nationwideclass no, it's not behaving at all....                                                                   \n",
       "4                      @Kwesidei not the whole crew                                                                    "
      ]
     },
     "execution_count": 60,
     "metadata": {},
     "output_type": "execute_result"
    }
   ],
   "source": [
    "notCy.head()"
   ]
  },
  {
   "cell_type": "code",
   "execution_count": 61,
   "id": "337c6b68",
   "metadata": {},
   "outputs": [],
   "source": [
    "notCy.columns = ['taret','id', 'date', 'flag', 'user', 'text']"
   ]
  },
  {
   "cell_type": "code",
   "execution_count": 62,
   "id": "05e4e033",
   "metadata": {},
   "outputs": [
    {
     "data": {
      "text/html": [
       "<div>\n",
       "<style scoped>\n",
       "    .dataframe tbody tr th:only-of-type {\n",
       "        vertical-align: middle;\n",
       "    }\n",
       "\n",
       "    .dataframe tbody tr th {\n",
       "        vertical-align: top;\n",
       "    }\n",
       "\n",
       "    .dataframe thead th {\n",
       "        text-align: right;\n",
       "    }\n",
       "</style>\n",
       "<table border=\"1\" class=\"dataframe\">\n",
       "  <thead>\n",
       "    <tr style=\"text-align: right;\">\n",
       "      <th></th>\n",
       "      <th>taret</th>\n",
       "      <th>id</th>\n",
       "      <th>date</th>\n",
       "      <th>flag</th>\n",
       "      <th>user</th>\n",
       "      <th>text</th>\n",
       "    </tr>\n",
       "  </thead>\n",
       "  <tbody>\n",
       "    <tr>\n",
       "      <th>0</th>\n",
       "      <td>0</td>\n",
       "      <td>1467810672</td>\n",
       "      <td>Mon Apr 06 22:19:49 PDT 2009</td>\n",
       "      <td>NO_QUERY</td>\n",
       "      <td>scotthamilton</td>\n",
       "      <td>is upset that he can't update his Facebook by ...</td>\n",
       "    </tr>\n",
       "    <tr>\n",
       "      <th>1</th>\n",
       "      <td>0</td>\n",
       "      <td>1467810917</td>\n",
       "      <td>Mon Apr 06 22:19:53 PDT 2009</td>\n",
       "      <td>NO_QUERY</td>\n",
       "      <td>mattycus</td>\n",
       "      <td>@Kenichan I dived many times for the ball. Man...</td>\n",
       "    </tr>\n",
       "    <tr>\n",
       "      <th>2</th>\n",
       "      <td>0</td>\n",
       "      <td>1467811184</td>\n",
       "      <td>Mon Apr 06 22:19:57 PDT 2009</td>\n",
       "      <td>NO_QUERY</td>\n",
       "      <td>ElleCTF</td>\n",
       "      <td>my whole body feels itchy and like its on fire</td>\n",
       "    </tr>\n",
       "    <tr>\n",
       "      <th>3</th>\n",
       "      <td>0</td>\n",
       "      <td>1467811193</td>\n",
       "      <td>Mon Apr 06 22:19:57 PDT 2009</td>\n",
       "      <td>NO_QUERY</td>\n",
       "      <td>Karoli</td>\n",
       "      <td>@nationwideclass no, it's not behaving at all....</td>\n",
       "    </tr>\n",
       "    <tr>\n",
       "      <th>4</th>\n",
       "      <td>0</td>\n",
       "      <td>1467811372</td>\n",
       "      <td>Mon Apr 06 22:20:00 PDT 2009</td>\n",
       "      <td>NO_QUERY</td>\n",
       "      <td>joy_wolf</td>\n",
       "      <td>@Kwesidei not the whole crew</td>\n",
       "    </tr>\n",
       "  </tbody>\n",
       "</table>\n",
       "</div>"
      ],
      "text/plain": [
       "   taret          id                          date      flag           user  \\\n",
       "0      0  1467810672  Mon Apr 06 22:19:49 PDT 2009  NO_QUERY  scotthamilton   \n",
       "1      0  1467810917  Mon Apr 06 22:19:53 PDT 2009  NO_QUERY       mattycus   \n",
       "2      0  1467811184  Mon Apr 06 22:19:57 PDT 2009  NO_QUERY        ElleCTF   \n",
       "3      0  1467811193  Mon Apr 06 22:19:57 PDT 2009  NO_QUERY         Karoli   \n",
       "4      0  1467811372  Mon Apr 06 22:20:00 PDT 2009  NO_QUERY       joy_wolf   \n",
       "\n",
       "                                                text  \n",
       "0  is upset that he can't update his Facebook by ...  \n",
       "1  @Kenichan I dived many times for the ball. Man...  \n",
       "2    my whole body feels itchy and like its on fire   \n",
       "3  @nationwideclass no, it's not behaving at all....  \n",
       "4                      @Kwesidei not the whole crew   "
      ]
     },
     "execution_count": 62,
     "metadata": {},
     "output_type": "execute_result"
    }
   ],
   "source": [
    "notCy.head()"
   ]
  },
  {
   "cell_type": "code",
   "execution_count": 63,
   "id": "29f8cc32",
   "metadata": {},
   "outputs": [
    {
     "data": {
      "text/plain": [
       "(1599999, 6)"
      ]
     },
     "execution_count": 63,
     "metadata": {},
     "output_type": "execute_result"
    }
   ],
   "source": [
    "notCy.shape"
   ]
  },
  {
   "cell_type": "code",
   "execution_count": 64,
   "id": "bfc67791",
   "metadata": {},
   "outputs": [],
   "source": [
    "#see if there are same text as Cy in the notCy "
   ]
  },
  {
   "cell_type": "code",
   "execution_count": 65,
   "id": "dea11e7e",
   "metadata": {},
   "outputs": [],
   "source": [
    "df = pd.merge(notCy, Cy, how='outer', indicator=True)"
   ]
  },
  {
   "cell_type": "code",
   "execution_count": 66,
   "id": "e7df9bf2",
   "metadata": {},
   "outputs": [
    {
     "data": {
      "text/html": [
       "<div>\n",
       "<style scoped>\n",
       "    .dataframe tbody tr th:only-of-type {\n",
       "        vertical-align: middle;\n",
       "    }\n",
       "\n",
       "    .dataframe tbody tr th {\n",
       "        vertical-align: top;\n",
       "    }\n",
       "\n",
       "    .dataframe thead th {\n",
       "        text-align: right;\n",
       "    }\n",
       "</style>\n",
       "<table border=\"1\" class=\"dataframe\">\n",
       "  <thead>\n",
       "    <tr style=\"text-align: right;\">\n",
       "      <th></th>\n",
       "      <th>text</th>\n",
       "    </tr>\n",
       "  </thead>\n",
       "  <tbody>\n",
       "    <tr>\n",
       "      <th>0</th>\n",
       "      <td>is upset that he can't update his Facebook by ...</td>\n",
       "    </tr>\n",
       "    <tr>\n",
       "      <th>1</th>\n",
       "      <td>@Kenichan I dived many times for the ball. Man...</td>\n",
       "    </tr>\n",
       "    <tr>\n",
       "      <th>2</th>\n",
       "      <td>my whole body feels itchy and like its on fire</td>\n",
       "    </tr>\n",
       "    <tr>\n",
       "      <th>3</th>\n",
       "      <td>@nationwideclass no, it's not behaving at all....</td>\n",
       "    </tr>\n",
       "    <tr>\n",
       "      <th>4</th>\n",
       "      <td>@Kwesidei not the whole crew</td>\n",
       "    </tr>\n",
       "    <tr>\n",
       "      <th>...</th>\n",
       "      <td>...</td>\n",
       "    </tr>\n",
       "    <tr>\n",
       "      <th>1599994</th>\n",
       "      <td>Just woke up. Having no school is the best fee...</td>\n",
       "    </tr>\n",
       "    <tr>\n",
       "      <th>1599995</th>\n",
       "      <td>TheWDB.com - Very cool to hear old Walt interv...</td>\n",
       "    </tr>\n",
       "    <tr>\n",
       "      <th>1599996</th>\n",
       "      <td>Are you ready for your MoJo Makeover? Ask me f...</td>\n",
       "    </tr>\n",
       "    <tr>\n",
       "      <th>1599997</th>\n",
       "      <td>Happy 38th Birthday to my boo of alll time!!! ...</td>\n",
       "    </tr>\n",
       "    <tr>\n",
       "      <th>1599998</th>\n",
       "      <td>happy #charitytuesday @theNSPCC @SparksCharity...</td>\n",
       "    </tr>\n",
       "  </tbody>\n",
       "</table>\n",
       "<p>1599999 rows × 1 columns</p>\n",
       "</div>"
      ],
      "text/plain": [
       "                                                      text\n",
       "0        is upset that he can't update his Facebook by ...\n",
       "1        @Kenichan I dived many times for the ball. Man...\n",
       "2          my whole body feels itchy and like its on fire \n",
       "3        @nationwideclass no, it's not behaving at all....\n",
       "4                            @Kwesidei not the whole crew \n",
       "...                                                    ...\n",
       "1599994  Just woke up. Having no school is the best fee...\n",
       "1599995  TheWDB.com - Very cool to hear old Walt interv...\n",
       "1599996  Are you ready for your MoJo Makeover? Ask me f...\n",
       "1599997  Happy 38th Birthday to my boo of alll time!!! ...\n",
       "1599998  happy #charitytuesday @theNSPCC @SparksCharity...\n",
       "\n",
       "[1599999 rows x 1 columns]"
      ]
     },
     "execution_count": 66,
     "metadata": {},
     "output_type": "execute_result"
    }
   ],
   "source": [
    "df.loc[df._merge == 'left_only', ['text']]"
   ]
  },
  {
   "cell_type": "code",
   "execution_count": 67,
   "id": "bcb7e03c",
   "metadata": {},
   "outputs": [],
   "source": [
    "#take random\n",
    "df2 = df.sample(n = 31802)"
   ]
  },
  {
   "cell_type": "code",
   "execution_count": 68,
   "id": "04c6ae37",
   "metadata": {},
   "outputs": [],
   "source": [
    "df2['cyberbullying_type'] = 'not_cyberbullying'"
   ]
  },
  {
   "cell_type": "code",
   "execution_count": 69,
   "id": "68dcc357",
   "metadata": {},
   "outputs": [
    {
     "data": {
      "text/html": [
       "<div>\n",
       "<style scoped>\n",
       "    .dataframe tbody tr th:only-of-type {\n",
       "        vertical-align: middle;\n",
       "    }\n",
       "\n",
       "    .dataframe tbody tr th {\n",
       "        vertical-align: top;\n",
       "    }\n",
       "\n",
       "    .dataframe thead th {\n",
       "        text-align: right;\n",
       "    }\n",
       "</style>\n",
       "<table border=\"1\" class=\"dataframe\">\n",
       "  <thead>\n",
       "    <tr style=\"text-align: right;\">\n",
       "      <th></th>\n",
       "      <th>taret</th>\n",
       "      <th>id</th>\n",
       "      <th>date</th>\n",
       "      <th>flag</th>\n",
       "      <th>user</th>\n",
       "      <th>text</th>\n",
       "      <th>cyberbullying_type</th>\n",
       "      <th>_merge</th>\n",
       "    </tr>\n",
       "  </thead>\n",
       "  <tbody>\n",
       "    <tr>\n",
       "      <th>1572684</th>\n",
       "      <td>4.0</td>\n",
       "      <td>2.188914e+09</td>\n",
       "      <td>Mon Jun 15 22:50:02 PDT 2009</td>\n",
       "      <td>NO_QUERY</td>\n",
       "      <td>wolfchild59</td>\n",
       "      <td>@LouPimentel lol - I think the movie had enoug...</td>\n",
       "      <td>not_cyberbullying</td>\n",
       "      <td>left_only</td>\n",
       "    </tr>\n",
       "    <tr>\n",
       "      <th>972849</th>\n",
       "      <td>4.0</td>\n",
       "      <td>1.827889e+09</td>\n",
       "      <td>Sun May 17 11:39:28 PDT 2009</td>\n",
       "      <td>NO_QUERY</td>\n",
       "      <td>AnniLovesToSing</td>\n",
       "      <td>just dyed my hair darker  and watchin garfield...</td>\n",
       "      <td>not_cyberbullying</td>\n",
       "      <td>left_only</td>\n",
       "    </tr>\n",
       "    <tr>\n",
       "      <th>112936</th>\n",
       "      <td>0.0</td>\n",
       "      <td>1.824080e+09</td>\n",
       "      <td>Sat May 16 23:58:36 PDT 2009</td>\n",
       "      <td>NO_QUERY</td>\n",
       "      <td>duckydid</td>\n",
       "      <td>SirGoose: i love horsey sauce cause its made f...</td>\n",
       "      <td>not_cyberbullying</td>\n",
       "      <td>left_only</td>\n",
       "    </tr>\n",
       "    <tr>\n",
       "      <th>1232276</th>\n",
       "      <td>4.0</td>\n",
       "      <td>1.991311e+09</td>\n",
       "      <td>Mon Jun 01 06:48:20 PDT 2009</td>\n",
       "      <td>NO_QUERY</td>\n",
       "      <td>KristaKaeCD101</td>\n",
       "      <td>Somebody's got a birthday tomorrow...@CristiVa...</td>\n",
       "      <td>not_cyberbullying</td>\n",
       "      <td>left_only</td>\n",
       "    </tr>\n",
       "    <tr>\n",
       "      <th>1003474</th>\n",
       "      <td>4.0</td>\n",
       "      <td>1.836481e+09</td>\n",
       "      <td>Mon May 18 08:04:28 PDT 2009</td>\n",
       "      <td>NO_QUERY</td>\n",
       "      <td>schwier</td>\n",
       "      <td>@I_am_10_ninjas Looking up Uncle Tupelo &amp;amp; ...</td>\n",
       "      <td>not_cyberbullying</td>\n",
       "      <td>left_only</td>\n",
       "    </tr>\n",
       "  </tbody>\n",
       "</table>\n",
       "</div>"
      ],
      "text/plain": [
       "         taret            id                          date      flag  \\\n",
       "1572684    4.0  2.188914e+09  Mon Jun 15 22:50:02 PDT 2009  NO_QUERY   \n",
       "972849     4.0  1.827889e+09  Sun May 17 11:39:28 PDT 2009  NO_QUERY   \n",
       "112936     0.0  1.824080e+09  Sat May 16 23:58:36 PDT 2009  NO_QUERY   \n",
       "1232276    4.0  1.991311e+09  Mon Jun 01 06:48:20 PDT 2009  NO_QUERY   \n",
       "1003474    4.0  1.836481e+09  Mon May 18 08:04:28 PDT 2009  NO_QUERY   \n",
       "\n",
       "                    user                                               text  \\\n",
       "1572684      wolfchild59  @LouPimentel lol - I think the movie had enoug...   \n",
       "972849   AnniLovesToSing  just dyed my hair darker  and watchin garfield...   \n",
       "112936          duckydid  SirGoose: i love horsey sauce cause its made f...   \n",
       "1232276   KristaKaeCD101  Somebody's got a birthday tomorrow...@CristiVa...   \n",
       "1003474          schwier  @I_am_10_ninjas Looking up Uncle Tupelo &amp; ...   \n",
       "\n",
       "        cyberbullying_type     _merge  \n",
       "1572684  not_cyberbullying  left_only  \n",
       "972849   not_cyberbullying  left_only  \n",
       "112936   not_cyberbullying  left_only  \n",
       "1232276  not_cyberbullying  left_only  \n",
       "1003474  not_cyberbullying  left_only  "
      ]
     },
     "execution_count": 69,
     "metadata": {},
     "output_type": "execute_result"
    }
   ],
   "source": [
    "df2.head()"
   ]
  },
  {
   "cell_type": "code",
   "execution_count": 70,
   "id": "e0fc15e0",
   "metadata": {},
   "outputs": [
    {
     "data": {
      "text/plain": [
       "(31802, 8)"
      ]
     },
     "execution_count": 70,
     "metadata": {},
     "output_type": "execute_result"
    }
   ],
   "source": [
    "df2.shape"
   ]
  },
  {
   "cell_type": "code",
   "execution_count": 71,
   "id": "b4e26f72",
   "metadata": {},
   "outputs": [],
   "source": [
    "df3 = df2.drop(df2.columns[0:5], axis=1)"
   ]
  },
  {
   "cell_type": "code",
   "execution_count": 72,
   "id": "b786488b",
   "metadata": {},
   "outputs": [
    {
     "data": {
      "text/html": [
       "<div>\n",
       "<style scoped>\n",
       "    .dataframe tbody tr th:only-of-type {\n",
       "        vertical-align: middle;\n",
       "    }\n",
       "\n",
       "    .dataframe tbody tr th {\n",
       "        vertical-align: top;\n",
       "    }\n",
       "\n",
       "    .dataframe thead th {\n",
       "        text-align: right;\n",
       "    }\n",
       "</style>\n",
       "<table border=\"1\" class=\"dataframe\">\n",
       "  <thead>\n",
       "    <tr style=\"text-align: right;\">\n",
       "      <th></th>\n",
       "      <th>text</th>\n",
       "      <th>cyberbullying_type</th>\n",
       "      <th>_merge</th>\n",
       "    </tr>\n",
       "  </thead>\n",
       "  <tbody>\n",
       "    <tr>\n",
       "      <th>1572684</th>\n",
       "      <td>@LouPimentel lol - I think the movie had enoug...</td>\n",
       "      <td>not_cyberbullying</td>\n",
       "      <td>left_only</td>\n",
       "    </tr>\n",
       "    <tr>\n",
       "      <th>972849</th>\n",
       "      <td>just dyed my hair darker  and watchin garfield...</td>\n",
       "      <td>not_cyberbullying</td>\n",
       "      <td>left_only</td>\n",
       "    </tr>\n",
       "    <tr>\n",
       "      <th>112936</th>\n",
       "      <td>SirGoose: i love horsey sauce cause its made f...</td>\n",
       "      <td>not_cyberbullying</td>\n",
       "      <td>left_only</td>\n",
       "    </tr>\n",
       "    <tr>\n",
       "      <th>1232276</th>\n",
       "      <td>Somebody's got a birthday tomorrow...@CristiVa...</td>\n",
       "      <td>not_cyberbullying</td>\n",
       "      <td>left_only</td>\n",
       "    </tr>\n",
       "    <tr>\n",
       "      <th>1003474</th>\n",
       "      <td>@I_am_10_ninjas Looking up Uncle Tupelo &amp;amp; ...</td>\n",
       "      <td>not_cyberbullying</td>\n",
       "      <td>left_only</td>\n",
       "    </tr>\n",
       "    <tr>\n",
       "      <th>...</th>\n",
       "      <td>...</td>\n",
       "      <td>...</td>\n",
       "      <td>...</td>\n",
       "    </tr>\n",
       "    <tr>\n",
       "      <th>657386</th>\n",
       "      <td>Math Regents in 2 hours</td>\n",
       "      <td>not_cyberbullying</td>\n",
       "      <td>left_only</td>\n",
       "    </tr>\n",
       "    <tr>\n",
       "      <th>946786</th>\n",
       "      <td>@Abbie_xD Knew you would love them!  Im actual...</td>\n",
       "      <td>not_cyberbullying</td>\n",
       "      <td>left_only</td>\n",
       "    </tr>\n",
       "    <tr>\n",
       "      <th>1273640</th>\n",
       "      <td>@tommcfly oh oh oh i like the first one. It's ...</td>\n",
       "      <td>not_cyberbullying</td>\n",
       "      <td>left_only</td>\n",
       "    </tr>\n",
       "    <tr>\n",
       "      <th>59376</th>\n",
       "      <td>http://www.mixpod.com/playlist/21315388  A guy...</td>\n",
       "      <td>not_cyberbullying</td>\n",
       "      <td>left_only</td>\n",
       "    </tr>\n",
       "    <tr>\n",
       "      <th>1647488</th>\n",
       "      <td>“@holyhoe: RT IF YOU WANT THIS NIGGER TO GET D...</td>\n",
       "      <td>not_cyberbullying</td>\n",
       "      <td>right_only</td>\n",
       "    </tr>\n",
       "  </tbody>\n",
       "</table>\n",
       "<p>31802 rows × 3 columns</p>\n",
       "</div>"
      ],
      "text/plain": [
       "                                                      text cyberbullying_type  \\\n",
       "1572684  @LouPimentel lol - I think the movie had enoug...  not_cyberbullying   \n",
       "972849   just dyed my hair darker  and watchin garfield...  not_cyberbullying   \n",
       "112936   SirGoose: i love horsey sauce cause its made f...  not_cyberbullying   \n",
       "1232276  Somebody's got a birthday tomorrow...@CristiVa...  not_cyberbullying   \n",
       "1003474  @I_am_10_ninjas Looking up Uncle Tupelo &amp; ...  not_cyberbullying   \n",
       "...                                                    ...                ...   \n",
       "657386                            Math Regents in 2 hours   not_cyberbullying   \n",
       "946786   @Abbie_xD Knew you would love them!  Im actual...  not_cyberbullying   \n",
       "1273640  @tommcfly oh oh oh i like the first one. It's ...  not_cyberbullying   \n",
       "59376    http://www.mixpod.com/playlist/21315388  A guy...  not_cyberbullying   \n",
       "1647488  “@holyhoe: RT IF YOU WANT THIS NIGGER TO GET D...  not_cyberbullying   \n",
       "\n",
       "             _merge  \n",
       "1572684   left_only  \n",
       "972849    left_only  \n",
       "112936    left_only  \n",
       "1232276   left_only  \n",
       "1003474   left_only  \n",
       "...             ...  \n",
       "657386    left_only  \n",
       "946786    left_only  \n",
       "1273640   left_only  \n",
       "59376     left_only  \n",
       "1647488  right_only  \n",
       "\n",
       "[31802 rows x 3 columns]"
      ]
     },
     "execution_count": 72,
     "metadata": {},
     "output_type": "execute_result"
    }
   ],
   "source": [
    "df3"
   ]
  },
  {
   "cell_type": "code",
   "execution_count": 73,
   "id": "8b45cfb6",
   "metadata": {},
   "outputs": [],
   "source": [
    "df3 = df3.drop(df3.columns[2], axis=1)"
   ]
  },
  {
   "cell_type": "code",
   "execution_count": 74,
   "id": "2b37a36f",
   "metadata": {},
   "outputs": [
    {
     "data": {
      "text/html": [
       "<div>\n",
       "<style scoped>\n",
       "    .dataframe tbody tr th:only-of-type {\n",
       "        vertical-align: middle;\n",
       "    }\n",
       "\n",
       "    .dataframe tbody tr th {\n",
       "        vertical-align: top;\n",
       "    }\n",
       "\n",
       "    .dataframe thead th {\n",
       "        text-align: right;\n",
       "    }\n",
       "</style>\n",
       "<table border=\"1\" class=\"dataframe\">\n",
       "  <thead>\n",
       "    <tr style=\"text-align: right;\">\n",
       "      <th></th>\n",
       "      <th>text</th>\n",
       "      <th>cyberbullying_type</th>\n",
       "    </tr>\n",
       "  </thead>\n",
       "  <tbody>\n",
       "    <tr>\n",
       "      <th>1572684</th>\n",
       "      <td>@LouPimentel lol - I think the movie had enoug...</td>\n",
       "      <td>not_cyberbullying</td>\n",
       "    </tr>\n",
       "    <tr>\n",
       "      <th>972849</th>\n",
       "      <td>just dyed my hair darker  and watchin garfield...</td>\n",
       "      <td>not_cyberbullying</td>\n",
       "    </tr>\n",
       "    <tr>\n",
       "      <th>112936</th>\n",
       "      <td>SirGoose: i love horsey sauce cause its made f...</td>\n",
       "      <td>not_cyberbullying</td>\n",
       "    </tr>\n",
       "    <tr>\n",
       "      <th>1232276</th>\n",
       "      <td>Somebody's got a birthday tomorrow...@CristiVa...</td>\n",
       "      <td>not_cyberbullying</td>\n",
       "    </tr>\n",
       "    <tr>\n",
       "      <th>1003474</th>\n",
       "      <td>@I_am_10_ninjas Looking up Uncle Tupelo &amp;amp; ...</td>\n",
       "      <td>not_cyberbullying</td>\n",
       "    </tr>\n",
       "    <tr>\n",
       "      <th>...</th>\n",
       "      <td>...</td>\n",
       "      <td>...</td>\n",
       "    </tr>\n",
       "    <tr>\n",
       "      <th>657386</th>\n",
       "      <td>Math Regents in 2 hours</td>\n",
       "      <td>not_cyberbullying</td>\n",
       "    </tr>\n",
       "    <tr>\n",
       "      <th>946786</th>\n",
       "      <td>@Abbie_xD Knew you would love them!  Im actual...</td>\n",
       "      <td>not_cyberbullying</td>\n",
       "    </tr>\n",
       "    <tr>\n",
       "      <th>1273640</th>\n",
       "      <td>@tommcfly oh oh oh i like the first one. It's ...</td>\n",
       "      <td>not_cyberbullying</td>\n",
       "    </tr>\n",
       "    <tr>\n",
       "      <th>59376</th>\n",
       "      <td>http://www.mixpod.com/playlist/21315388  A guy...</td>\n",
       "      <td>not_cyberbullying</td>\n",
       "    </tr>\n",
       "    <tr>\n",
       "      <th>1647488</th>\n",
       "      <td>“@holyhoe: RT IF YOU WANT THIS NIGGER TO GET D...</td>\n",
       "      <td>not_cyberbullying</td>\n",
       "    </tr>\n",
       "  </tbody>\n",
       "</table>\n",
       "<p>31802 rows × 2 columns</p>\n",
       "</div>"
      ],
      "text/plain": [
       "                                                      text cyberbullying_type\n",
       "1572684  @LouPimentel lol - I think the movie had enoug...  not_cyberbullying\n",
       "972849   just dyed my hair darker  and watchin garfield...  not_cyberbullying\n",
       "112936   SirGoose: i love horsey sauce cause its made f...  not_cyberbullying\n",
       "1232276  Somebody's got a birthday tomorrow...@CristiVa...  not_cyberbullying\n",
       "1003474  @I_am_10_ninjas Looking up Uncle Tupelo &amp; ...  not_cyberbullying\n",
       "...                                                    ...                ...\n",
       "657386                            Math Regents in 2 hours   not_cyberbullying\n",
       "946786   @Abbie_xD Knew you would love them!  Im actual...  not_cyberbullying\n",
       "1273640  @tommcfly oh oh oh i like the first one. It's ...  not_cyberbullying\n",
       "59376    http://www.mixpod.com/playlist/21315388  A guy...  not_cyberbullying\n",
       "1647488  “@holyhoe: RT IF YOU WANT THIS NIGGER TO GET D...  not_cyberbullying\n",
       "\n",
       "[31802 rows x 2 columns]"
      ]
     },
     "execution_count": 74,
     "metadata": {},
     "output_type": "execute_result"
    }
   ],
   "source": [
    "df3"
   ]
  },
  {
   "cell_type": "code",
   "execution_count": 75,
   "id": "884ae961",
   "metadata": {},
   "outputs": [],
   "source": [
    "df3.to_excel(\"test_dataset.xlsx\") "
   ]
  },
  {
   "cell_type": "code",
   "execution_count": 84,
   "id": "6ce9fcf5",
   "metadata": {},
   "outputs": [
    {
     "data": {
      "text/plain": [
       "(47692, 2)"
      ]
     },
     "execution_count": 84,
     "metadata": {},
     "output_type": "execute_result"
    }
   ],
   "source": [
    "Cy.shape"
   ]
  },
  {
   "cell_type": "code",
   "execution_count": 90,
   "id": "7403f4fe",
   "metadata": {},
   "outputs": [
    {
     "data": {
      "text/html": [
       "<div>\n",
       "<style scoped>\n",
       "    .dataframe tbody tr th:only-of-type {\n",
       "        vertical-align: middle;\n",
       "    }\n",
       "\n",
       "    .dataframe tbody tr th {\n",
       "        vertical-align: top;\n",
       "    }\n",
       "\n",
       "    .dataframe thead th {\n",
       "        text-align: right;\n",
       "    }\n",
       "</style>\n",
       "<table border=\"1\" class=\"dataframe\">\n",
       "  <thead>\n",
       "    <tr style=\"text-align: right;\">\n",
       "      <th></th>\n",
       "      <th>text</th>\n",
       "      <th>cyberbullying_type</th>\n",
       "    </tr>\n",
       "  </thead>\n",
       "  <tbody>\n",
       "    <tr>\n",
       "      <th>0</th>\n",
       "      <td>In other words #katandandre, your food was cra...</td>\n",
       "      <td>not_cyberbullying</td>\n",
       "    </tr>\n",
       "    <tr>\n",
       "      <th>1</th>\n",
       "      <td>Why is #aussietv so white? #MKR #theblock #ImA...</td>\n",
       "      <td>not_cyberbullying</td>\n",
       "    </tr>\n",
       "  </tbody>\n",
       "</table>\n",
       "</div>"
      ],
      "text/plain": [
       "                                                text cyberbullying_type\n",
       "0  In other words #katandandre, your food was cra...  not_cyberbullying\n",
       "1  Why is #aussietv so white? #MKR #theblock #ImA...  not_cyberbullying"
      ]
     },
     "execution_count": 90,
     "metadata": {},
     "output_type": "execute_result"
    }
   ],
   "source": [
    "DF = pd.DataFrame()\n",
    "DF = DF.append(Cy.iloc[0], ignore_index = True)\n",
    "DF.append(Cy.iloc[1], ignore_index = True)"
   ]
  },
  {
   "cell_type": "code",
   "execution_count": 94,
   "id": "aacafc4b",
   "metadata": {},
   "outputs": [],
   "source": [
    "not_cyber_31802 = pd.DataFrame()\n",
    "c1 = 0\n",
    "while(c1 < 31802):\n",
    "    for i in range(0, 47692):\n",
    "        if(Cy['cyberbullying_type'][i] == 'not_cyberbullying' and c1 < 31802):\n",
    "            c1 += 1\n",
    "            not_cyber_31802 = not_cyber_31802.append(Cy.iloc[0])\n",
    "        elif(c1 == 31802):\n",
    "            break\n",
    "        "
   ]
  },
  {
   "cell_type": "code",
   "execution_count": 95,
   "id": "bef9f7e1",
   "metadata": {},
   "outputs": [
    {
     "data": {
      "text/plain": [
       "(31802, 2)"
      ]
     },
     "execution_count": 95,
     "metadata": {},
     "output_type": "execute_result"
    }
   ],
   "source": [
    "not_cyber_31802.shape"
   ]
  },
  {
   "cell_type": "code",
   "execution_count": 96,
   "id": "28230392",
   "metadata": {},
   "outputs": [
    {
     "data": {
      "text/html": [
       "<div>\n",
       "<style scoped>\n",
       "    .dataframe tbody tr th:only-of-type {\n",
       "        vertical-align: middle;\n",
       "    }\n",
       "\n",
       "    .dataframe tbody tr th {\n",
       "        vertical-align: top;\n",
       "    }\n",
       "\n",
       "    .dataframe thead th {\n",
       "        text-align: right;\n",
       "    }\n",
       "</style>\n",
       "<table border=\"1\" class=\"dataframe\">\n",
       "  <thead>\n",
       "    <tr style=\"text-align: right;\">\n",
       "      <th></th>\n",
       "      <th>text</th>\n",
       "      <th>cyberbullying_type</th>\n",
       "    </tr>\n",
       "  </thead>\n",
       "  <tbody>\n",
       "    <tr>\n",
       "      <th>0</th>\n",
       "      <td>In other words #katandandre, your food was cra...</td>\n",
       "      <td>not_cyberbullying</td>\n",
       "    </tr>\n",
       "    <tr>\n",
       "      <th>1</th>\n",
       "      <td>Why is #aussietv so white? #MKR #theblock #ImA...</td>\n",
       "      <td>not_cyberbullying</td>\n",
       "    </tr>\n",
       "    <tr>\n",
       "      <th>2</th>\n",
       "      <td>@XochitlSuckkks a classy whore? Or more red ve...</td>\n",
       "      <td>not_cyberbullying</td>\n",
       "    </tr>\n",
       "    <tr>\n",
       "      <th>3</th>\n",
       "      <td>@Jason_Gio meh. :P  thanks for the heads up, b...</td>\n",
       "      <td>not_cyberbullying</td>\n",
       "    </tr>\n",
       "    <tr>\n",
       "      <th>4</th>\n",
       "      <td>@RudhoeEnglish This is an ISIS account pretend...</td>\n",
       "      <td>not_cyberbullying</td>\n",
       "    </tr>\n",
       "    <tr>\n",
       "      <th>...</th>\n",
       "      <td>...</td>\n",
       "      <td>...</td>\n",
       "    </tr>\n",
       "    <tr>\n",
       "      <th>0</th>\n",
       "      <td>In other words #katandandre, your food was cra...</td>\n",
       "      <td>not_cyberbullying</td>\n",
       "    </tr>\n",
       "    <tr>\n",
       "      <th>0</th>\n",
       "      <td>In other words #katandandre, your food was cra...</td>\n",
       "      <td>not_cyberbullying</td>\n",
       "    </tr>\n",
       "    <tr>\n",
       "      <th>0</th>\n",
       "      <td>In other words #katandandre, your food was cra...</td>\n",
       "      <td>not_cyberbullying</td>\n",
       "    </tr>\n",
       "    <tr>\n",
       "      <th>0</th>\n",
       "      <td>In other words #katandandre, your food was cra...</td>\n",
       "      <td>not_cyberbullying</td>\n",
       "    </tr>\n",
       "    <tr>\n",
       "      <th>0</th>\n",
       "      <td>In other words #katandandre, your food was cra...</td>\n",
       "      <td>not_cyberbullying</td>\n",
       "    </tr>\n",
       "  </tbody>\n",
       "</table>\n",
       "<p>79494 rows × 2 columns</p>\n",
       "</div>"
      ],
      "text/plain": [
       "                                                 text cyberbullying_type\n",
       "0   In other words #katandandre, your food was cra...  not_cyberbullying\n",
       "1   Why is #aussietv so white? #MKR #theblock #ImA...  not_cyberbullying\n",
       "2   @XochitlSuckkks a classy whore? Or more red ve...  not_cyberbullying\n",
       "3   @Jason_Gio meh. :P  thanks for the heads up, b...  not_cyberbullying\n",
       "4   @RudhoeEnglish This is an ISIS account pretend...  not_cyberbullying\n",
       "..                                                ...                ...\n",
       "0   In other words #katandandre, your food was cra...  not_cyberbullying\n",
       "0   In other words #katandandre, your food was cra...  not_cyberbullying\n",
       "0   In other words #katandandre, your food was cra...  not_cyberbullying\n",
       "0   In other words #katandandre, your food was cra...  not_cyberbullying\n",
       "0   In other words #katandandre, your food was cra...  not_cyberbullying\n",
       "\n",
       "[79494 rows x 2 columns]"
      ]
     },
     "execution_count": 96,
     "metadata": {},
     "output_type": "execute_result"
    }
   ],
   "source": [
    "Cy.append(not_cyber_31802)"
   ]
  },
  {
   "cell_type": "code",
   "execution_count": 97,
   "id": "10ec77ba",
   "metadata": {},
   "outputs": [],
   "source": [
    "Cy.to_excel(\"tweets_for_train.xlsx\") "
   ]
  },
  {
   "cell_type": "code",
   "execution_count": 101,
   "id": "3ff3874d",
   "metadata": {},
   "outputs": [
    {
     "data": {
      "text/plain": [
       "Text(0.5, 1.0, 'Distribution of two classes')"
      ]
     },
     "execution_count": 101,
     "metadata": {},
     "output_type": "execute_result"
    },
    {
     "data": {
      "image/png": "[encoded data removed]",
      "text/plain": [
       "<Figure size 432x288 with 1 Axes>"
      ]
     },
     "metadata": {
      "needs_background": "light"
     },
     "output_type": "display_data"
    }
   ],
   "source": [
    "import matplotlib.pyplot as plt\n",
    " \n",
    "# x-coordinates of left sides of bars\n",
    "left = [1, 2]\n",
    " \n",
    "# heights of bars\n",
    "height = [7945, 39747]\n",
    " \n",
    "# labels for bars\n",
    "tick_label = ['not_cyberbullying', 'cyber_bullying']\n",
    " \n",
    "# plotting a bar chart\n",
    "plt.bar(left, height, tick_label = tick_label,\n",
    "        width = 0.8, color = ['mediumturquoise','paleturquoise'])\n",
    " \n",
    "# naming the x-axis\n",
    "# naming the y-axis\n",
    "plt.ylabel('Frequency')\n",
    "# plot title\n",
    "plt.title('Distribution of two classes')"
   ]
  },
  {
   "cell_type": "code",
   "execution_count": 1,
   "id": "beb8c25a",
   "metadata": {},
   "outputs": [
    {
     "data": {
      "text/html": [
       "<div>\n",
       "<style scoped>\n",
       "    .dataframe tbody tr th:only-of-type {\n",
       "        vertical-align: middle;\n",
       "    }\n",
       "\n",
       "    .dataframe tbody tr th {\n",
       "        vertical-align: top;\n",
       "    }\n",
       "\n",
       "    .dataframe thead th {\n",
       "        text-align: right;\n",
       "    }\n",
       "</style>\n",
       "<table border=\"1\" class=\"dataframe\">\n",
       "  <thead>\n",
       "    <tr style=\"text-align: right;\">\n",
       "      <th></th>\n",
       "      <th>Unnamed: 0</th>\n",
       "      <th>text</th>\n",
       "      <th>cyberbullying_type</th>\n",
       "    </tr>\n",
       "  </thead>\n",
       "  <tbody>\n",
       "    <tr>\n",
       "      <th>0</th>\n",
       "      <td>0</td>\n",
       "      <td>In other words #katandandre, your food was cra...</td>\n",
       "      <td>not_cyberbullying</td>\n",
       "    </tr>\n",
       "    <tr>\n",
       "      <th>1</th>\n",
       "      <td>1</td>\n",
       "      <td>Why is #aussietv so white? #MKR #theblock #ImA...</td>\n",
       "      <td>not_cyberbullying</td>\n",
       "    </tr>\n",
       "    <tr>\n",
       "      <th>2</th>\n",
       "      <td>2</td>\n",
       "      <td>@XochitlSuckkks a classy whore? Or more red ve...</td>\n",
       "      <td>not_cyberbullying</td>\n",
       "    </tr>\n",
       "    <tr>\n",
       "      <th>3</th>\n",
       "      <td>3</td>\n",
       "      <td>@Jason_Gio meh. :P  thanks for the heads up, b...</td>\n",
       "      <td>not_cyberbullying</td>\n",
       "    </tr>\n",
       "    <tr>\n",
       "      <th>4</th>\n",
       "      <td>4</td>\n",
       "      <td>@RudhoeEnglish This is an ISIS account pretend...</td>\n",
       "      <td>not_cyberbullying</td>\n",
       "    </tr>\n",
       "  </tbody>\n",
       "</table>\n",
       "</div>"
      ],
      "text/plain": [
       "   Unnamed: 0                                               text  \\\n",
       "0           0  In other words #katandandre, your food was cra...   \n",
       "1           1  Why is #aussietv so white? #MKR #theblock #ImA...   \n",
       "2           2  @XochitlSuckkks a classy whore? Or more red ve...   \n",
       "3           3  @Jason_Gio meh. :P  thanks for the heads up, b...   \n",
       "4           4  @RudhoeEnglish This is an ISIS account pretend...   \n",
       "\n",
       "  cyberbullying_type  \n",
       "0  not_cyberbullying  \n",
       "1  not_cyberbullying  \n",
       "2  not_cyberbullying  \n",
       "3  not_cyberbullying  \n",
       "4  not_cyberbullying  "
      ]
     },
     "execution_count": 1,
     "metadata": {},
     "output_type": "execute_result"
    }
   ],
   "source": [
    "import os\n",
    "os.chdir('/Users/akiratachibana/Downloads/Classes/ECON4763/Project/archive')\n",
    "\n",
    "\n",
    "import numpy as np\n",
    "import pandas as pd\n",
    "import math\n",
    "\n",
    "\n",
    "Cy = pd.read_excel(\"tweets_for_train.xlsx\")\n",
    "Cy.head()\n",
    "\n",
    "#df['Name'] = df['Name'].replace(['b','c'],'not_a')"
   ]
  },
  {
   "cell_type": "code",
   "execution_count": 2,
   "id": "fece6810",
   "metadata": {},
   "outputs": [],
   "source": [
    "Cy['cyberbullying_type'] = Cy['cyberbullying_type'].replace(['age', 'ethnicity', 'gender', 'religion', 'other_cyberbullying'], 'cyberbullying')"
   ]
  },
  {
   "cell_type": "code",
   "execution_count": 3,
   "id": "f5e5c89c",
   "metadata": {},
   "outputs": [],
   "source": [
    "Cy.to_csv('balanced_two_classes.csv')"
   ]
  },
  {
   "cell_type": "code",
   "execution_count": null,
   "id": "8567aa60",
   "metadata": {},
   "outputs": [],
   "source": []
  }
 ],
 "metadata": {
  "kernelspec": {
   "display_name": "Python 3 (ipykernel)",
   "language": "python",
   "name": "python3"
  },
  "language_info": {
   "codemirror_mode": {
    "name": "ipython",
    "version": 3
   },
   "file_extension": ".py",
   "mimetype": "text/x-python",
   "name": "python",
   "nbconvert_exporter": "python",
   "pygments_lexer": "ipython3",
   "version": "3.9.7"
  }
 },
 "nbformat": 4,
 "nbformat_minor": 5
}
