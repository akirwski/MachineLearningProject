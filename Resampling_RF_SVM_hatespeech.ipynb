{
 "cells": [
  {
   "cell_type": "code",
   "execution_count": 2,
   "metadata": {
    "id": "wESYkKvp4u48"
   },
   "outputs": [],
   "source": [
    "from sklearn import model_selection, preprocessing, metrics, linear_model, svm\n",
    "from sklearn.feature_extraction.text import TfidfVectorizer, CountVectorizer\n",
    "from imblearn.over_sampling import BorderlineSMOTE, SMOTE, ADASYN, SMOTENC, RandomOverSampler\n",
    "from imblearn.under_sampling import (RandomUnderSampler, \n",
    "                                    NearMiss, \n",
    "                                    InstanceHardnessThreshold,\n",
    "                                    CondensedNearestNeighbour,\n",
    "                                    EditedNearestNeighbours,\n",
    "                                    RepeatedEditedNearestNeighbours,\n",
    "                                    AllKNN,\n",
    "                                    NeighbourhoodCleaningRule,\n",
    "                                    OneSidedSelection,\n",
    "                                    TomekLinks)\n",
    "from imblearn.combine import SMOTEENN, SMOTETomek\n",
    "from imblearn.pipeline import make_pipeline\n",
    "import pandas as pd, numpy, string\n",
    "from nltk.tokenize import WordPunctTokenizer\n",
    "from nltk.stem import PorterStemmer\n",
    "from bs4 import BeautifulSoup"
   ]
  },
  {
   "cell_type": "code",
   "execution_count": 3,
   "metadata": {
    "id": "FBPOMY_H5cEI"
   },
   "outputs": [],
   "source": [
    "#Remove Special Charactors\n",
    "import re\n",
    "from nltk.tokenize import WordPunctTokenizer\n",
    "from nltk.stem import PorterStemmer\n",
    "from bs4 import BeautifulSoup\n",
    "\n",
    "\n",
    "#pipeline\n",
    "from numpy import where\n",
    "from matplotlib import pyplot"
   ]
  },
  {
   "cell_type": "code",
   "execution_count": 4,
   "metadata": {
    "id": "dSq5_qpE5cwg"
   },
   "outputs": [],
   "source": [
    "from sklearn.ensemble import RandomForestClassifier\n",
    "from sklearn.metrics import classification_report\n",
    "\n",
    "#Resampling_Pipeline function\n",
    "from imblearn.pipeline import Pipeline\n",
    "from sklearn.model_selection import GridSearchCV\n",
    "import matplotlib.pyplot as plt\n",
    "from matplotlib.gridspec import GridSpec\n",
    "from sklearn.ensemble import RandomForestClassifier as RF"
   ]
  },
  {
   "cell_type": "code",
   "execution_count": 7,
   "metadata": {
    "colab": {
     "base_uri": "https://localhost:8080/",
     "height": 0
    },
    "id": "Go21lEQo5fzc",
    "outputId": "342fa2d7-64f7-42da-fd32-a69ee0cc73d4"
   },
   "outputs": [
    {
     "name": "stdout",
     "output_type": "stream",
     "text": [
      "Training Set: (31962, 3) 31962\n"
     ]
    }
   ],
   "source": [
    "\n",
    "import numpy as np\n",
    "import pandas as pd\n",
    "import math\n",
    "from sklearn.model_selection import train_test_split\n",
    "\n",
    "\n",
    "#Import Training and Testing Data\n",
    "train = pd.read_csv('hate_dataset.csv')\n",
    "print(\"Training Set:\"% train.columns, train.shape, len(train))"
   ]
  },
  {
   "cell_type": "code",
   "execution_count": 8,
   "metadata": {
    "id": "JnsJqdQj5mBs"
   },
   "outputs": [],
   "source": [
    "porter=PorterStemmer()\n",
    "tok = WordPunctTokenizer()\n",
    "pat1 = r'@[A-Za-z0-9]+'\n",
    "pat2 = r'https?://[A-Za-z0-9./]+'\n",
    "combined_pat = r'|'.join((pat1, pat2))\n",
    "def tweet_cleaner(text):\n",
    "    soup = BeautifulSoup(text, 'lxml')\n",
    "    souped = soup.get_text()\n",
    "    stripped = re.sub(combined_pat, '', souped)\n",
    "    try:\n",
    "        clean = stripped.decode(\"utf-8-sig\").replace(u\"\\ufffd\", \"?\")\n",
    "    except:\n",
    "        clean = stripped\n",
    "    letters_only = re.sub(\"[^a-zA-Z]\", \" \", clean)\n",
    "    lower_case = letters_only.lower()\n",
    "    # During the letters_only process two lines above, it has created unnecessay white spaces,\n",
    "    # I will tokenize and join together to remove unneccessary white spaces\n",
    "    words = tok.tokenize(lower_case)\n",
    "    #Stemming\n",
    "    stem_sentence=[]\n",
    "    for word in words:\n",
    "        stem_sentence.append(porter.stem(word))\n",
    "        stem_sentence.append(\" \")\n",
    "    words=\"\".join(stem_sentence).strip()\n",
    "    return words\n",
    "\n",
    "nums = [0,len(train)]\n",
    "clean_tweet_texts = []\n",
    "for i in range(nums[0],nums[1]):\n",
    "    clean_tweet_texts.append(tweet_cleaner(train['tweet'][i]))\n",
    "\n",
    "    \n",
    "train_clean = pd.DataFrame(clean_tweet_texts,columns=['tweet'])\n",
    "train_clean['label'] = train.label\n",
    "train_clean['id'] = train.id\n"
   ]
  },
  {
   "cell_type": "code",
   "execution_count": 9,
   "metadata": {
    "id": "858xKCvK6Oqu"
   },
   "outputs": [],
   "source": [
    "#split the dataset into training and validation datasets \n",
    "train_x, valid_x, train_y, valid_y = model_selection.train_test_split(train_clean['tweet'],train_clean['label'])\n",
    "\n",
    "#label encode the target variable \n",
    "encoder = preprocessing.LabelEncoder()\n",
    "train_y = encoder.fit_transform(train_y)\n",
    "valid_y = encoder.fit_transform(valid_y)"
   ]
  },
  {
   "cell_type": "code",
   "execution_count": 10,
   "metadata": {
    "id": "mbN7_u7b58Bt"
   },
   "outputs": [],
   "source": [
    "# word level tf-idf\n",
    "tfidf_vect = TfidfVectorizer(analyzer='word', token_pattern=r'\\w{1,}', max_features=100000)\n",
    "tfidf_vect.fit(train_clean['tweet'])\n",
    "xtrain_tfidf =  tfidf_vect.transform(train_x)\n",
    "xvalid_tfidf =  tfidf_vect.transform(valid_x)"
   ]
  },
  {
   "cell_type": "code",
   "execution_count": 11,
   "metadata": {
    "colab": {
     "base_uri": "https://localhost:8080/",
     "height": 0
    },
    "id": "B2RC-fiw6DJQ",
    "outputId": "53a06c08-6d3b-4392-886c-48ec7c3f2386"
   },
   "outputs": [
    {
     "name": "stdout",
     "output_type": "stream",
     "text": [
      "Positive:  92.98542018647143 %\n",
      "Negative:  7.014579813528565 %\n",
      "Positive:  29720\n",
      "Negative:  2242\n"
     ]
    }
   ],
   "source": [
    "#Percentage of Positive/Negative\n",
    "print(\"Positive: \", train.label.value_counts()[0]/len(train)*100,\"%\")\n",
    "print(\"Negative: \", train.label.value_counts()[1]/len(train)*100,\"%\")\n",
    "\n",
    "print(\"Positive: \", train.label.value_counts()[0])\n",
    "print(\"Negative: \", train.label.value_counts()[1])"
   ]
  },
  {
   "cell_type": "code",
   "execution_count": 12,
   "metadata": {
    "id": "l9-srQNM6Umo"
   },
   "outputs": [],
   "source": [
    "def train_model(classifier, feature_vector_train, label, feature_vector_valid):\n",
    "    # fit the training dataset on the classifier\n",
    "    classifier.fit(feature_vector_train, label)\n",
    "    \n",
    "    # predict the labels on validation dataset\n",
    "    predictions = classifier.predict(feature_vector_valid)\n",
    "    \n",
    "    return metrics.f1_score(valid_y,predictions)"
   ]
  },
  {
   "cell_type": "markdown",
   "metadata": {
    "id": "r90m3G2h8-vY"
   },
   "source": [
    "### **Original model accuracy without resampling**"
   ]
  },
  {
   "cell_type": "code",
   "execution_count": 19,
   "metadata": {
    "colab": {
     "base_uri": "https://localhost:8080/",
     "height": 0
    },
    "id": "XJTGBTpV6XWl",
    "outputId": "b4e768c5-14bd-4bcd-80a0-d0b08b4f427b"
   },
   "outputs": [
    {
     "name": "stdout",
     "output_type": "stream",
     "text": [
      "SVM Baseline, WordLevel TFIDF:  0.6903225806451612\n",
      "RF Baseline, WordLevel TFIDF:  0.6903225806451612\n"
     ]
    }
   ],
   "source": [
    "accuracyORIGINAL_SVM = train_model(svm.LinearSVC(), xtrain_tfidf, train_y, xvalid_tfidf)\n",
    "print (\"SVM Baseline, WordLevel TFIDF: \", accuracyORIGINAL_SVM)\n",
    "accuracyORIGINAL_RF = train_model(RF(), xtrain_tfidf, train_y, xvalid_tfidf)\n",
    "print (\"RF Baseline, WordLevel TFIDF: \", accuracyORIGINAL_SVM)"
   ]
  },
  {
   "cell_type": "code",
   "execution_count": 14,
   "metadata": {
    "id": "t6ibxpJ_6ZI7"
   },
   "outputs": [],
   "source": [
    "def plotData(Data, x, d, xlabel, ylabel, ax, color, lab):\n",
    "    best_model = max(Data)\n",
    "\n",
    "    for i in range(0, d):\n",
    "        if(Data[i] == best_model):\n",
    "            max_n = i\n",
    "    \n",
    "    ax.plot(x, Data, color=color,marker='o', markerfacecolor=color, markersize=8, label=lab)\n",
    "    ax.plot(x[max_n], best_model, marker='x', markersize=20,  markerfacecolor=color)\n",
    "    \n",
    "    ax.set_xlabel(xlabel)\n",
    "    ax.set_ylabel(ylabel)\n"
   ]
  },
  {
   "cell_type": "code",
   "execution_count": 23,
   "metadata": {
    "colab": {
     "base_uri": "https://localhost:8080/",
     "height": 0
    },
    "id": "AbSdtU7-_KEh",
    "outputId": "05c8f746-6c46-434d-ad64-23f3cc378fc8"
   },
   "outputs": [
    {
     "data": {
      "text/plain": [
       "(23971, 31427)"
      ]
     },
     "execution_count": 23,
     "metadata": {},
     "output_type": "execute_result"
    }
   ],
   "source": [
    "xtrain_tfidf.shape[1]"
   ]
  },
  {
   "cell_type": "code",
   "execution_count": 28,
   "metadata": {
    "id": "zdzmsOVI6hUy"
   },
   "outputs": [],
   "source": [
    "def ResamplingPipe(Model):\n",
    "    score_list_SVM = []\n",
    "    score_list_RF = []\n",
    "    score_list_SVM.append(accuracyORIGINAL_SVM)\n",
    "    score_list_RF.append(accuracyORIGINAL_RF)\n",
    "    ratios = [0.25,0.5,0.75,1]\n",
    "    \n",
    "    for ratio in ratios:\n",
    "        over = Model(sampling_strategy=ratio, random_state=777)\n",
    "        steps = [('o', over)]\n",
    "        pipeline = Pipeline(steps=steps)\n",
    "        new_xtrain_tfidf, new_train_y = pipeline.fit_resample(xtrain_tfidf, train_y)\n",
    "      \n",
    "        \n",
    "        accuracy_SVM = train_model(svm.LinearSVC(),new_xtrain_tfidf, new_train_y, xvalid_tfidf)\n",
    "        print (\"SVM, WordLevel TFIDF: \", accuracy_SVM)\n",
    "        score_list_SVM.append(accuracy_SVM)\n",
    "        \n",
    "        n_features = new_xtrain_tfidf.shape[1]\n",
    "        tuned_params = {'n_estimators': [1000], 'max_depth':[None], 'max_features': [math.floor(math.sqrt(n_features))], 'min_samples_split': [2],}\n",
    "        accuracy_RF = train_model(RF(), new_xtrain_tfidf, new_train_y, xvalid_tfidf)\n",
    "        print (\"RF, WordLevel TFIDF: \", accuracy_SVM)\n",
    "        score_list_RF.append(accuracy_SVM)\n",
    "        \n",
    "    ratios.insert(0, 0.0)\n",
    "    xlabel = \"Oversampling Ratio\"\n",
    "    ylabel = \"F1 Score\"\n",
    "    fig, ax = plt.subplots(figsize=(4, 4))\n",
    "    plotData(score_list_SVM ,ratios, 5, xlabel, ylabel, ax, 'red', lab=\"Support Vector Machine\")\n",
    "    plotData(score_list_RF ,ratios, 5, xlabel, ylabel, ax, 'blue', lab=\"Random Forest\")\n",
    "    #ax.set_ylim([0, 1])\n",
    "    ax.legend(bbox_to_anchor = (1.0, 1), loc = 'lower right')\n",
    "    \n",
    "    result_list = [score_list_SVM, score_list_RF]\n",
    "  \n",
    "    plt.show()\n",
    "    \n",
    "    return result_list"
   ]
  },
  {
   "cell_type": "markdown",
   "metadata": {
    "id": "m_JdY_-F80cV"
   },
   "source": [
    "## **Random Over-sampling**"
   ]
  },
  {
   "cell_type": "code",
   "execution_count": 29,
   "metadata": {
    "colab": {
     "base_uri": "https://localhost:8080/",
     "height": 460
    },
    "id": "TP1gHg298au2",
    "outputId": "c47a67cd-2bd3-40a6-d5c3-992f41160f6e"
   },
   "outputs": [
    {
     "name": "stdout",
     "output_type": "stream",
     "text": [
      "SVM, WordLevel TFIDF:  0.7172675521821632\n",
      "RF, WordLevel TFIDF:  0.7172675521821632\n",
      "SVM, WordLevel TFIDF:  0.7097933513027853\n",
      "RF, WordLevel TFIDF:  0.7097933513027853\n",
      "SVM, WordLevel TFIDF:  0.7031802120141342\n",
      "RF, WordLevel TFIDF:  0.7031802120141342\n",
      "SVM, WordLevel TFIDF:  0.6980802792321117\n",
      "RF, WordLevel TFIDF:  0.6980802792321117\n"
     ]
    },
    {
     "data": {
      "image/png": "[encoded data removed]",
      "text/plain": [
       "<Figure size 288x288 with 1 Axes>"
      ]
     },
     "metadata": {
      "needs_background": "light"
     },
     "output_type": "display_data"
    }
   ],
   "source": [
    "ROS_list = ResamplingPipe(RandomOverSampler)"
   ]
  },
  {
   "cell_type": "markdown",
   "metadata": {
    "id": "SQyj1EGm9LOt"
   },
   "source": [
    "## **SMOTE Over-sampling**"
   ]
  },
  {
   "cell_type": "code",
   "execution_count": 30,
   "metadata": {
    "colab": {
     "base_uri": "https://localhost:8080/",
     "height": 460
    },
    "id": "vtSIltvr8cpT",
    "outputId": "07a42405-08fa-492f-bcd1-658d84d56bab"
   },
   "outputs": [
    {
     "name": "stdout",
     "output_type": "stream",
     "text": [
      "SVM, WordLevel TFIDF:  0.7260663507109004\n",
      "RF, WordLevel TFIDF:  0.7260663507109004\n",
      "SVM, WordLevel TFIDF:  0.7199999999999999\n",
      "RF, WordLevel TFIDF:  0.7199999999999999\n",
      "SVM, WordLevel TFIDF:  0.709849157054126\n",
      "RF, WordLevel TFIDF:  0.709849157054126\n",
      "SVM, WordLevel TFIDF:  0.7049608355091384\n",
      "RF, WordLevel TFIDF:  0.7049608355091384\n"
     ]
    },
    {
     "data": {
      "image/png": "[encoded data removed]",
      "text/plain": [
       "<Figure size 288x288 with 1 Axes>"
      ]
     },
     "metadata": {
      "needs_background": "light"
     },
     "output_type": "display_data"
    }
   ],
   "source": [
    "SMOTE_list = ResamplingPipe(SMOTE)"
   ]
  },
  {
   "cell_type": "markdown",
   "metadata": {
    "id": "kPVuXMEp_o8A"
   },
   "source": [
    "## **ADASYN: Adaptive synthetic sampling (Over-sampling)**"
   ]
  },
  {
   "cell_type": "code",
   "execution_count": 31,
   "metadata": {
    "colab": {
     "base_uri": "https://localhost:8080/",
     "height": 460
    },
    "id": "XUdO33I-8cvr",
    "outputId": "68379be5-9d8f-4ff4-e7e8-bbe546d2a178"
   },
   "outputs": [
    {
     "name": "stdout",
     "output_type": "stream",
     "text": [
      "SVM, WordLevel TFIDF:  0.7187206020696142\n",
      "RF, WordLevel TFIDF:  0.7187206020696142\n",
      "SVM, WordLevel TFIDF:  0.714795008912656\n",
      "RF, WordLevel TFIDF:  0.714795008912656\n",
      "SVM, WordLevel TFIDF:  0.7037358818418766\n",
      "RF, WordLevel TFIDF:  0.7037358818418766\n",
      "SVM, WordLevel TFIDF:  0.7012089810017272\n",
      "RF, WordLevel TFIDF:  0.7012089810017272\n"
     ]
    },
    {
     "data": {
      "image/png": "[encoded data removed]",
      "text/plain": [
       "<Figure size 288x288 with 1 Axes>"
      ]
     },
     "metadata": {
      "needs_background": "light"
     },
     "output_type": "display_data"
    }
   ],
   "source": [
    "ADASYN_list = ResamplingPipe(ADASYN)"
   ]
  },
  {
   "cell_type": "markdown",
   "metadata": {
    "id": "q0B0YXnv_sqP"
   },
   "source": [
    "## **Borderline SMOTE¶**"
   ]
  },
  {
   "cell_type": "code",
   "execution_count": 32,
   "metadata": {
    "colab": {
     "base_uri": "https://localhost:8080/",
     "height": 460
    },
    "id": "5-qG0pyz8hvc",
    "outputId": "8ede6795-d6ef-41cc-c963-91d699571636"
   },
   "outputs": [
    {
     "name": "stdout",
     "output_type": "stream",
     "text": [
      "SVM, WordLevel TFIDF:  0.7192307692307692\n",
      "RF, WordLevel TFIDF:  0.7192307692307692\n",
      "SVM, WordLevel TFIDF:  0.7087912087912088\n",
      "RF, WordLevel TFIDF:  0.7087912087912088\n",
      "SVM, WordLevel TFIDF:  0.7050359712230215\n",
      "RF, WordLevel TFIDF:  0.7050359712230215\n",
      "SVM, WordLevel TFIDF:  0.7004444444444444\n",
      "RF, WordLevel TFIDF:  0.7004444444444444\n"
     ]
    },
    {
     "data": {
      "image/png": "[encoded data removed]",
      "text/plain": [
       "<Figure size 288x288 with 1 Axes>"
      ]
     },
     "metadata": {
      "needs_background": "light"
     },
     "output_type": "display_data"
    }
   ],
   "source": [
    "BS_list = ResamplingPipe(BorderlineSMOTE)"
   ]
  },
  {
   "cell_type": "markdown",
   "metadata": {
    "id": "uhfP4Q0IASpq"
   },
   "source": [
    "**results for SVM**"
   ]
  },
  {
   "cell_type": "code",
   "execution_count": 33,
   "metadata": {
    "colab": {
     "base_uri": "https://localhost:8080/",
     "height": 0
    },
    "id": "YIHbUx5p_zhg",
    "outputId": "fe8b5341-bc3c-4061-f2a2-8081c3fb2faf"
   },
   "outputs": [
    {
     "data": {
      "text/plain": [
       "[0.6903225806451612,\n",
       " 0.7172675521821632,\n",
       " 0.7097933513027853,\n",
       " 0.7031802120141342,\n",
       " 0.6980802792321117]"
      ]
     },
     "execution_count": 33,
     "metadata": {},
     "output_type": "execute_result"
    }
   ],
   "source": [
    "ROS_list[0]#2"
   ]
  },
  {
   "cell_type": "code",
   "execution_count": 6,
   "metadata": {},
   "outputs": [],
   "source": [
    "ROS_list1 = [0.6903225806451612,\n",
    " 0.7172675521821632,\n",
    " 0.7097933513027853,\n",
    " 0.7031802120141342,\n",
    " 0.6980802792321117]"
   ]
  },
  {
   "cell_type": "code",
   "execution_count": 34,
   "metadata": {
    "colab": {
     "base_uri": "https://localhost:8080/",
     "height": 0
    },
    "id": "uj41v2Q0_0Yb",
    "outputId": "0981c216-1388-46e5-8cd2-a810d95e378e"
   },
   "outputs": [
    {
     "data": {
      "text/plain": [
       "[0.6903225806451612,\n",
       " 0.7260663507109004,\n",
       " 0.7199999999999999,\n",
       " 0.709849157054126,\n",
       " 0.7049608355091384]"
      ]
     },
     "execution_count": 34,
     "metadata": {},
     "output_type": "execute_result"
    }
   ],
   "source": [
    "SMOTE_list[0]#2"
   ]
  },
  {
   "cell_type": "code",
   "execution_count": 7,
   "metadata": {},
   "outputs": [],
   "source": [
    "SMOTE_list1 = [0.6903225806451612,\n",
    " 0.7260663507109004,\n",
    " 0.7199999999999999,\n",
    " 0.709849157054126,\n",
    " 0.7049608355091384]"
   ]
  },
  {
   "cell_type": "code",
   "execution_count": 35,
   "metadata": {
    "colab": {
     "base_uri": "https://localhost:8080/",
     "height": 0
    },
    "id": "87fv2_Fz_0kL",
    "outputId": "adfd6837-59f8-494b-e6cb-5c9d61fdf313"
   },
   "outputs": [
    {
     "data": {
      "text/plain": [
       "[0.6903225806451612,\n",
       " 0.7187206020696142,\n",
       " 0.714795008912656,\n",
       " 0.7037358818418766,\n",
       " 0.7012089810017272]"
      ]
     },
     "execution_count": 35,
     "metadata": {},
     "output_type": "execute_result"
    }
   ],
   "source": [
    "ADASYN_list[0]#2"
   ]
  },
  {
   "cell_type": "code",
   "execution_count": 8,
   "metadata": {},
   "outputs": [],
   "source": [
    "ADASYN_list1 = [0.6903225806451612,\n",
    " 0.7187206020696142,\n",
    " 0.714795008912656,\n",
    " 0.7037358818418766,\n",
    " 0.7012089810017272]"
   ]
  },
  {
   "cell_type": "code",
   "execution_count": 36,
   "metadata": {
    "colab": {
     "base_uri": "https://localhost:8080/",
     "height": 0
    },
    "id": "CTTdFRbj_0t8",
    "outputId": "a9e99921-c333-4b96-afb1-92d92531c59a"
   },
   "outputs": [
    {
     "data": {
      "text/plain": [
       "[0.6903225806451612,\n",
       " 0.7192307692307692,\n",
       " 0.7087912087912088,\n",
       " 0.7050359712230215,\n",
       " 0.7004444444444444]"
      ]
     },
     "execution_count": 36,
     "metadata": {},
     "output_type": "execute_result"
    }
   ],
   "source": [
    "BS_list[0]#2"
   ]
  },
  {
   "cell_type": "code",
   "execution_count": 9,
   "metadata": {},
   "outputs": [],
   "source": [
    "BS_list1 = [0.6903225806451612,\n",
    " 0.7192307692307692,\n",
    " 0.7087912087912088,\n",
    " 0.7050359712230215,\n",
    " 0.7004444444444444]"
   ]
  },
  {
   "cell_type": "markdown",
   "metadata": {
    "id": "D_tMGQVtAWjG"
   },
   "source": [
    "**results for RF**"
   ]
  },
  {
   "cell_type": "code",
   "execution_count": 37,
   "metadata": {
    "colab": {
     "base_uri": "https://localhost:8080/",
     "height": 0
    },
    "id": "ZuAPxH3SAlsP",
    "outputId": "da19a85c-9d59-4db1-9158-8a4da8f03ca1"
   },
   "outputs": [
    {
     "data": {
      "text/plain": [
       "[0.6659142212189617,\n",
       " 0.7172675521821632,\n",
       " 0.7097933513027853,\n",
       " 0.7031802120141342,\n",
       " 0.6980802792321117]"
      ]
     },
     "execution_count": 37,
     "metadata": {},
     "output_type": "execute_result"
    }
   ],
   "source": [
    "ROS_list[1]#2"
   ]
  },
  {
   "cell_type": "code",
   "execution_count": 10,
   "metadata": {},
   "outputs": [],
   "source": [
    "ROS_list2 = [0.6659142212189617,\n",
    " 0.7172675521821632,\n",
    " 0.7097933513027853,\n",
    " 0.7031802120141342,\n",
    " 0.6980802792321117]"
   ]
  },
  {
   "cell_type": "code",
   "execution_count": 38,
   "metadata": {
    "colab": {
     "base_uri": "https://localhost:8080/",
     "height": 0
    },
    "id": "rNCU9MwAAnrQ",
    "outputId": "3fda96d6-8d24-428a-a373-8558001db87f"
   },
   "outputs": [
    {
     "data": {
      "text/plain": [
       "[0.6659142212189617,\n",
       " 0.7260663507109004,\n",
       " 0.7199999999999999,\n",
       " 0.709849157054126,\n",
       " 0.7049608355091384]"
      ]
     },
     "execution_count": 38,
     "metadata": {},
     "output_type": "execute_result"
    }
   ],
   "source": [
    "SMOTE_list[1]#2"
   ]
  },
  {
   "cell_type": "code",
   "execution_count": 11,
   "metadata": {},
   "outputs": [],
   "source": [
    "SMOTE_list2 = [0.6659142212189617,\n",
    " 0.7260663507109004,\n",
    " 0.7199999999999999,\n",
    " 0.709849157054126,\n",
    " 0.7049608355091384]"
   ]
  },
  {
   "cell_type": "code",
   "execution_count": 39,
   "metadata": {
    "colab": {
     "base_uri": "https://localhost:8080/",
     "height": 0
    },
    "id": "HRSnM9j9AoDB",
    "outputId": "65bbf696-b3bb-4a6e-aeaa-a13756265923"
   },
   "outputs": [
    {
     "data": {
      "text/plain": [
       "[0.6659142212189617,\n",
       " 0.7187206020696142,\n",
       " 0.714795008912656,\n",
       " 0.7037358818418766,\n",
       " 0.7012089810017272]"
      ]
     },
     "execution_count": 39,
     "metadata": {},
     "output_type": "execute_result"
    }
   ],
   "source": [
    "ADASYN_list[1]#2"
   ]
  },
  {
   "cell_type": "code",
   "execution_count": 12,
   "metadata": {},
   "outputs": [],
   "source": [
    "ADASYN_list2 = [0.6659142212189617,\n",
    " 0.7187206020696142,\n",
    " 0.714795008912656,\n",
    " 0.7037358818418766,\n",
    " 0.7012089810017272]"
   ]
  },
  {
   "cell_type": "code",
   "execution_count": 40,
   "metadata": {
    "colab": {
     "base_uri": "https://localhost:8080/",
     "height": 0
    },
    "id": "JA0h5irwAoIS",
    "outputId": "904bb2f0-ca9d-44eb-9eb4-6be51f04cc72"
   },
   "outputs": [
    {
     "data": {
      "text/plain": [
       "[0.6659142212189617,\n",
       " 0.7192307692307692,\n",
       " 0.7087912087912088,\n",
       " 0.7050359712230215,\n",
       " 0.7004444444444444]"
      ]
     },
     "execution_count": 40,
     "metadata": {},
     "output_type": "execute_result"
    }
   ],
   "source": [
    "BS_list[1]#2"
   ]
  },
  {
   "cell_type": "code",
   "execution_count": 13,
   "metadata": {},
   "outputs": [],
   "source": [
    "BS_list2 = [0.6659142212189617,\n",
    " 0.7192307692307692,\n",
    " 0.7087912087912088,\n",
    " 0.7050359712230215,\n",
    " 0.7004444444444444]"
   ]
  },
  {
   "cell_type": "code",
   "execution_count": null,
   "metadata": {},
   "outputs": [],
   "source": [
    "xlabel = 'Oversampling Ratio'\n",
    "ylabel = 'F1 Score'\n",
    "d = 5\n",
    "\n",
    "ratios = [0.0, 0.25, 0.5, 0.75, 1]\n",
    "fig, (ax1, ax2) =  plt.subplots(1,2, figsize=(10,8))\n",
    "plotData(ROS_list[1], ratios, 5, xlabel, ylabel, ax1, color=\"blue\", lab='ROS')\n",
    "plotData(SMOTE_list[1] ,ratios, 5, xlabel, ylabel, ax1, color=\"red\", lab='SMOTE')\n",
    "plotData(ADASYN_list[1] ,ratios, 5, xlabel, ylabel, ax1, color=\"green\", lab='ADASYN')\n",
    "plotData(BS_list[1] ,ratios, 5, xlabel, ylabel, ax1, color=\"yellow\",lab='B-SMOTE')\n",
    "ax1.set_ylim([0.5, 0.75])\n",
    "ax1.set_title('Random Forest')\n",
    "ax1.axhline(y =0.7260663507109004, color = 'blue', linestyle = ':')\n",
    "    \n",
    "plotData(ROS_list[0], ratios, 5, xlabel, ylabel, ax2, color=\"blue\",lab='ROS')\n",
    "plotData(SMOTE_list[0] ,ratios, 5, xlabel, ylabel, ax2, color=\"red\", lab='SMOTE')\n",
    "plotData(ADASYN_list[0] ,ratios, 5, xlabel, ylabel, ax2, color=\"green\",lab='ADASYN')\n",
    "plotData(BS_list[0] ,ratios, 5, xlabel, ylabel, ax2, color=\"yellow\", lab='B-SMOTE')\n",
    "ax2.set_ylim([0.5, 0.75])\n",
    "ax2.axhline(y =0.7260663507109004, color = 'red', linestyle = ':')\n",
    "ax2.set_title('Support Vector Machine')\n",
    "ax2.legend(bbox_to_anchor = (1.0, 1), loc = 'upper right')\n",
    "\n",
    "plt.show()"
   ]
  },
  {
   "cell_type": "code",
   "execution_count": 28,
   "metadata": {},
   "outputs": [
    {
     "data": {
      "image/png": "[encoded data removed]",
      "text/plain": [
       "<Figure size 720x360 with 2 Axes>"
      ]
     },
     "metadata": {
      "needs_background": "light"
     },
     "output_type": "display_data"
    }
   ],
   "source": [
    "import matplotlib.pyplot as plt\n",
    "xlabel = 'Oversampling Ratio'\n",
    "ylabel = 'F1 Score'\n",
    "d = 5\n",
    "\n",
    "\n",
    "ratios = [0.0, 0.25, 0.5, 0.75, 1]\n",
    "fig, (ax1, ax2) =  plt.subplots(1,2, figsize=(10, 5))\n",
    "plotData(ROS_list2, ratios, 5, xlabel, ylabel, ax1, color=\"blue\", lab='ROS')\n",
    "plotData(SMOTE_list2 ,ratios, 5, xlabel, ylabel, ax1, color=\"red\", lab='SMOTE')\n",
    "plotData(ADASYN_list2 ,ratios, 5, xlabel, ylabel, ax1, color=\"green\", lab='ADASYN')\n",
    "plotData(BS_list2 ,ratios, 5, xlabel, ylabel, ax1, color=\"orange\",lab='B-SMOTE')\n",
    "ax1.set_ylim([0.63, 0.75])\n",
    "ax1.set_title('Random Forest')\n",
    "ax1.axhline(y =0.7260663507109004, color = 'red', linestyle = ':')\n",
    "    \n",
    "plotData(ROS_list1, ratios, 5, xlabel, ylabel, ax2, color=\"blue\",lab='ROS')\n",
    "plotData(SMOTE_list1,ratios, 5, xlabel, ylabel, ax2, color=\"red\", lab='SMOTE')\n",
    "plotData(ADASYN_list1 ,ratios, 5, xlabel, ylabel, ax2, color=\"green\",lab='ADASYN')\n",
    "plotData(BS_list1,ratios, 5, xlabel, ylabel, ax2, color=\"orange\", lab='B-SMOTE')\n",
    "ax2.set_ylim([0.63, 0.75])\n",
    "ax2.axhline(y =0.7260663507109004, color = 'red', linestyle = ':')\n",
    "ax2.set_title('Support Vector Machine')\n",
    "ax2.legend(bbox_to_anchor = (1.0, 1), loc = 'upper right')\n",
    "\n",
    "plt.show()"
   ]
  },
  {
   "cell_type": "code",
   "execution_count": null,
   "metadata": {
    "id": "9xXh1CAxGe3v"
   },
   "outputs": [],
   "source": []
  }
 ],
 "metadata": {
  "accelerator": "GPU",
  "colab": {
   "collapsed_sections": [],
   "name": "Resampling_RF_SVM_hatespeech.ipynb",
   "provenance": []
  },
  "kernelspec": {
   "display_name": "Python 3 (ipykernel)",
   "language": "python",
   "name": "python3"
  },
  "language_info": {
   "codemirror_mode": {
    "name": "ipython",
    "version": 3
   },
   "file_extension": ".py",
   "mimetype": "text/x-python",
   "name": "python",
   "nbconvert_exporter": "python",
   "pygments_lexer": "ipython3",
   "version": "3.9.7"
  }
 },
 "nbformat": 4,
 "nbformat_minor": 1
}
