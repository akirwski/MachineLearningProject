{
 "cells": [
  {
   "cell_type": "code",
   "execution_count": 55,
   "id": "5ae5ede8",
   "metadata": {},
   "outputs": [
    {
     "data": {
      "text/html": [
       "<div>\n",
       "<style scoped>\n",
       "    .dataframe tbody tr th:only-of-type {\n",
       "        vertical-align: middle;\n",
       "    }\n",
       "\n",
       "    .dataframe tbody tr th {\n",
       "        vertical-align: top;\n",
       "    }\n",
       "\n",
       "    .dataframe thead th {\n",
       "        text-align: right;\n",
       "    }\n",
       "</style>\n",
       "<table border=\"1\" class=\"dataframe\">\n",
       "  <thead>\n",
       "    <tr style=\"text-align: right;\">\n",
       "      <th></th>\n",
       "      <th>id</th>\n",
       "      <th>label</th>\n",
       "      <th>tweet</th>\n",
       "    </tr>\n",
       "  </thead>\n",
       "  <tbody>\n",
       "    <tr>\n",
       "      <th>0</th>\n",
       "      <td>1</td>\n",
       "      <td>0</td>\n",
       "      <td>@user when a father is dysfunctional and is s...</td>\n",
       "    </tr>\n",
       "    <tr>\n",
       "      <th>1</th>\n",
       "      <td>2</td>\n",
       "      <td>0</td>\n",
       "      <td>@user @user thanks for #lyft credit i can't us...</td>\n",
       "    </tr>\n",
       "    <tr>\n",
       "      <th>2</th>\n",
       "      <td>3</td>\n",
       "      <td>0</td>\n",
       "      <td>bihday your majesty</td>\n",
       "    </tr>\n",
       "    <tr>\n",
       "      <th>3</th>\n",
       "      <td>4</td>\n",
       "      <td>0</td>\n",
       "      <td>#model   i love u take with u all the time in ...</td>\n",
       "    </tr>\n",
       "    <tr>\n",
       "      <th>4</th>\n",
       "      <td>5</td>\n",
       "      <td>0</td>\n",
       "      <td>factsguide: society now    #motivation</td>\n",
       "    </tr>\n",
       "  </tbody>\n",
       "</table>\n",
       "</div>"
      ],
      "text/plain": [
       "   id  label                                              tweet\n",
       "0   1      0   @user when a father is dysfunctional and is s...\n",
       "1   2      0  @user @user thanks for #lyft credit i can't us...\n",
       "2   3      0                                bihday your majesty\n",
       "3   4      0  #model   i love u take with u all the time in ...\n",
       "4   5      0             factsguide: society now    #motivation"
      ]
     },
     "execution_count": 55,
     "metadata": {},
     "output_type": "execute_result"
    }
   ],
   "source": [
    "import os\n",
    "#os.chdir('C:/Users/mikha/Desktop/ECON 4763/Data')\n",
    "os.chdir('/Users/akiratachibana/Downloads/Classes/ECON4763/Project')\n",
    "import numpy as np\n",
    "import pandas as pd\n",
    "import math\n",
    "from sklearn import model_selection, preprocessing, metrics, linear_model, svm\n",
    "from sklearn.feature_extraction.text import TfidfVectorizer, CountVectorizer\n",
    "from imblearn.over_sampling import SMOTE\n",
    "from imblearn.combine import SMOTEENN, SMOTETomek\n",
    "from imblearn.pipeline import make_pipeline\n",
    "import pandas as pd, numpy, string\n",
    "from nltk.tokenize import WordPunctTokenizer\n",
    "from nltk.stem import PorterStemmer\n",
    "from bs4 import BeautifulSoup\n",
    "\n",
    "import re\n",
    "\n",
    "from sklearn.neighbors import KNeighborsClassifier as KNNC\n",
    "from sklearn.svm import SVC\n",
    "from sklearn.ensemble import RandomForestClassifier as RF\n",
    "from sklearn.ensemble import GradientBoostingClassifier as GB\n",
    "\n",
    "#pipeline\n",
    "from numpy import where\n",
    "from matplotlib import pyplot\n",
    "\n",
    "#Resampling_Pipeline function\n",
    "from imblearn.pipeline import Pipeline\n",
    "from sklearn.model_selection import GridSearchCV\n",
    "import matplotlib.pyplot as plt\n",
    "from matplotlib.gridspec import GridSpec\n",
    "from sklearn.metrics import classification_report\n",
    "\n",
    "from sklearn.feature_extraction.text import TfidfVectorizer \n",
    "\n",
    "#train = pd.read_csv(\"hatespeechtrain.csv\")\n",
    "train = pd.read_csv('hate_dataset.csv')\n",
    "train.head()"
   ]
  },
  {
   "cell_type": "code",
   "execution_count": 56,
   "id": "99b0289e",
   "metadata": {},
   "outputs": [],
   "source": [
    "#data cleaning\n",
    "porter=PorterStemmer()\n",
    "tok = WordPunctTokenizer()\n",
    "pat1 = r'@[A-Za-z0-9]+'\n",
    "pat2 = r'https?://[A-Za-z0-9./]+'\n",
    "combined_pat = r'|'.join((pat1, pat2))\n",
    "def tweet_cleaner(text):\n",
    "    soup = BeautifulSoup(text, 'lxml')\n",
    "    souped = soup.get_text()\n",
    "    stripped = re.sub(combined_pat, '', souped)\n",
    "    try:\n",
    "        clean = stripped.decode(\"utf-8-sig\").replace(u\"\\ufffd\", \"?\")\n",
    "    except:\n",
    "        clean = stripped\n",
    "    letters_only = re.sub(\"[^a-zA-Z]\", \" \", clean)\n",
    "    lower_case = letters_only.lower()\n",
    "    words = tok.tokenize(lower_case)\n",
    "    #Stemming\n",
    "    stem_sentence=[]\n",
    "    for word in words:\n",
    "        stem_sentence.append(porter.stem(word))\n",
    "        stem_sentence.append(\" \")\n",
    "    words=\"\".join(stem_sentence).strip()\n",
    "    return words\n",
    "\n",
    "nums = [0,len(train)]\n",
    "clean_tweet_texts = []\n",
    "for i in range(nums[0],nums[1]):\n",
    "    clean_tweet_texts.append(tweet_cleaner(train['tweet'][i]))\n",
    "\n",
    "    \n",
    "train_clean = pd.DataFrame(clean_tweet_texts,columns=['tweet'])\n",
    "train_clean['label'] = train.label\n",
    "train_clean['id'] = train.id\n",
    "\n"
   ]
  },
  {
   "cell_type": "code",
   "execution_count": null,
   "id": "4b2940e3",
   "metadata": {},
   "outputs": [],
   "source": []
  },
  {
   "cell_type": "code",
   "execution_count": 57,
   "id": "9f2114c2",
   "metadata": {},
   "outputs": [
    {
     "data": {
      "text/plain": [
       "23663    so happi to be with the peopl that i miss the ...\n",
       "6254                   sinc find god thing have got better\n",
       "27203    thank you for the too i hope your weekend ha b...\n",
       "11314          the app storehous will be shut down on juli\n",
       "29524    lot of sponsor on the tabl and cycl mtbrace ci...\n",
       "                               ...                        \n",
       "20269    mtv went fullretard on video nzpol auspol merk...\n",
       "2183     jacksonvil rooster simul i want to climb the v...\n",
       "27432    decid on the next len i want and it s basic th...\n",
       "17860    what dad want in their home mancav father day ...\n",
       "25758    realli need to get some buddha s like these fo...\n",
       "Name: tweet, Length: 23971, dtype: object"
      ]
     },
     "execution_count": 57,
     "metadata": {},
     "output_type": "execute_result"
    }
   ],
   "source": [
    "#split the dataset into training and validation datasets \n",
    "train_x, valid_x, train_y, valid_y = model_selection.train_test_split(train_clean['tweet'],train_clean['label'])\n",
    "\n",
    "train_x"
   ]
  },
  {
   "cell_type": "code",
   "execution_count": 58,
   "id": "5b24fd08",
   "metadata": {},
   "outputs": [
    {
     "data": {
      "text/plain": [
       "(23971,)"
      ]
     },
     "execution_count": 58,
     "metadata": {},
     "output_type": "execute_result"
    }
   ],
   "source": [
    "train_x.shape"
   ]
  },
  {
   "cell_type": "code",
   "execution_count": 63,
   "id": "1a090417",
   "metadata": {},
   "outputs": [
    {
     "data": {
      "text/plain": [
       "23663    so happi to be with the peopl that i miss the ...\n",
       "6254                   sinc find god thing have got better\n",
       "27203    thank you for the too i hope your weekend ha b...\n",
       "11314          the app storehous will be shut down on juli\n",
       "29524    lot of sponsor on the tabl and cycl mtbrace ci...\n",
       "Name: tweet, dtype: object"
      ]
     },
     "execution_count": 63,
     "metadata": {},
     "output_type": "execute_result"
    }
   ],
   "source": [
    "train_x.head()"
   ]
  },
  {
   "cell_type": "code",
   "execution_count": 67,
   "id": "62b5a600",
   "metadata": {},
   "outputs": [],
   "source": [
    "#label encode the target variable \n",
    "encoder = preprocessing.LabelEncoder()\n",
    "train_y = encoder.fit_transform(train_y)\n",
    "valid_y = encoder.fit_transform(valid_y)\n",
    "\n",
    "# word level tf-idf\n",
    "tfidf_vect = TfidfVectorizer(analyzer='word', token_pattern=r'\\w{1,}', max_features=100000,stop_words='english')\n",
    "tfidf_vect.fit(train_clean['tweet'])\n",
    "xtrain_tfidf =  tfidf_vect.transform(train_x)\n",
    "xvalid_tfidf =  tfidf_vect.transform(valid_x)"
   ]
  },
  {
   "cell_type": "code",
   "execution_count": 68,
   "id": "63e0e701",
   "metadata": {},
   "outputs": [
    {
     "data": {
      "text/plain": [
       "(23971, 31216)"
      ]
     },
     "execution_count": 68,
     "metadata": {},
     "output_type": "execute_result"
    }
   ],
   "source": [
    "xtrain_tfidf.shape"
   ]
  },
  {
   "cell_type": "code",
   "execution_count": 69,
   "id": "1241c78c",
   "metadata": {},
   "outputs": [
    {
     "data": {
      "text/plain": [
       "(43352,)"
      ]
     },
     "execution_count": 69,
     "metadata": {},
     "output_type": "execute_result"
    }
   ],
   "source": [
    "# Testing model on Donald Trump tweets\n",
    "\n",
    "test = pd.read_csv(\"realdonaldtrump.csv\")\n",
    "test.head()\n",
    "trumptest = test.iloc[:,2]\n",
    "trumptest_x = trumptest\n",
    "trumptest.shape"
   ]
  },
  {
   "cell_type": "code",
   "execution_count": 70,
   "id": "bdbf6147",
   "metadata": {},
   "outputs": [],
   "source": [
    "# word level tf-idf\n",
    "tfidf_vect = TfidfVectorizer(analyzer='word', token_pattern=r'\\w{1,}', max_features=100000,stop_words='english')\n",
    "tfidf_vect.fit(train_clean['tweet'])\n",
    "trumptest_x = tfidf_vect.transform(trumptest_x)"
   ]
  },
  {
   "cell_type": "code",
   "execution_count": 72,
   "id": "4a2b498d",
   "metadata": {},
   "outputs": [
    {
     "data": {
      "text/plain": [
       "(43352, 31216)"
      ]
     },
     "execution_count": 72,
     "metadata": {},
     "output_type": "execute_result"
    }
   ],
   "source": [
    "trumptest_x.shape"
   ]
  },
  {
   "cell_type": "code",
   "execution_count": 8,
   "id": "3e6b5bee",
   "metadata": {},
   "outputs": [
    {
     "name": "stdout",
     "output_type": "stream",
     "text": [
      "Positive:  92.98542018647143 %\n",
      "Negative:  7.014579813528565 %\n",
      "Positive:  29720\n",
      "Negative:  2242\n"
     ]
    }
   ],
   "source": [
    "#Percentage of Positive/Negative, before oversampling\n",
    "print(\"Positive: \", train.label.value_counts()[0]/len(train)*100,\"%\")\n",
    "print(\"Negative: \", train.label.value_counts()[1]/len(train)*100,\"%\")\n",
    "\n",
    "print(\"Positive: \", train.label.value_counts()[0])\n",
    "print(\"Negative: \", train.label.value_counts()[1])"
   ]
  },
  {
   "cell_type": "code",
   "execution_count": 9,
   "id": "dbd0f78c",
   "metadata": {},
   "outputs": [],
   "source": [
    "oversample = SMOTE()\n",
    "xtrain_tfidf, train_y = oversample.fit_resample(xtrain_tfidf, train_y)"
   ]
  },
  {
   "cell_type": "code",
   "execution_count": null,
   "id": "2caf8d12",
   "metadata": {},
   "outputs": [],
   "source": []
  },
  {
   "cell_type": "markdown",
   "id": "2cc3cc80",
   "metadata": {},
   "source": [
    "### <font color='darkblue'> AKIRA"
   ]
  },
  {
   "cell_type": "code",
   "execution_count": 17,
   "id": "c854dd10",
   "metadata": {},
   "outputs": [
    {
     "data": {
      "text/plain": [
       "<44676x31216 sparse matrix of type '<class 'numpy.float64'>'\n",
       "\twith 373165 stored elements in Compressed Sparse Row format>"
      ]
     },
     "execution_count": 17,
     "metadata": {},
     "output_type": "execute_result"
    }
   ],
   "source": [
    "xtrain_tfidf"
   ]
  },
  {
   "cell_type": "code",
   "execution_count": 18,
   "id": "0117604d",
   "metadata": {},
   "outputs": [],
   "source": [
    "arr_xtrain = xtrain_tfidf.toarray()"
   ]
  },
  {
   "cell_type": "code",
   "execution_count": 19,
   "id": "01e2df25",
   "metadata": {},
   "outputs": [
    {
     "data": {
      "text/plain": [
       "array([[0., 0., 0., ..., 0., 0., 0.],\n",
       "       [0., 0., 0., ..., 0., 0., 0.],\n",
       "       [0., 0., 0., ..., 0., 0., 0.],\n",
       "       ...,\n",
       "       [0., 0., 0., ..., 0., 0., 0.],\n",
       "       [0., 0., 0., ..., 0., 0., 0.],\n",
       "       [0., 0., 0., ..., 0., 0., 0.]])"
      ]
     },
     "execution_count": 19,
     "metadata": {},
     "output_type": "execute_result"
    }
   ],
   "source": [
    "arr_xtrain"
   ]
  },
  {
   "cell_type": "code",
   "execution_count": 20,
   "id": "a2984da1",
   "metadata": {},
   "outputs": [],
   "source": [
    "df_xtrain = pd.DataFrame(arr_xtrain)"
   ]
  },
  {
   "cell_type": "code",
   "execution_count": 21,
   "id": "9fd4484c",
   "metadata": {},
   "outputs": [
    {
     "data": {
      "text/plain": [
       "(44676, 31216)"
      ]
     },
     "execution_count": 21,
     "metadata": {},
     "output_type": "execute_result"
    }
   ],
   "source": [
    "df_xtrain.shape"
   ]
  },
  {
   "cell_type": "code",
   "execution_count": 22,
   "id": "aa59d7df",
   "metadata": {},
   "outputs": [
    {
     "data": {
      "text/html": [
       "<div>\n",
       "<style scoped>\n",
       "    .dataframe tbody tr th:only-of-type {\n",
       "        vertical-align: middle;\n",
       "    }\n",
       "\n",
       "    .dataframe tbody tr th {\n",
       "        vertical-align: top;\n",
       "    }\n",
       "\n",
       "    .dataframe thead th {\n",
       "        text-align: right;\n",
       "    }\n",
       "</style>\n",
       "<table border=\"1\" class=\"dataframe\">\n",
       "  <thead>\n",
       "    <tr style=\"text-align: right;\">\n",
       "      <th></th>\n",
       "      <th>0</th>\n",
       "      <th>1</th>\n",
       "      <th>2</th>\n",
       "      <th>3</th>\n",
       "      <th>4</th>\n",
       "      <th>5</th>\n",
       "      <th>6</th>\n",
       "      <th>7</th>\n",
       "      <th>8</th>\n",
       "      <th>9</th>\n",
       "      <th>...</th>\n",
       "      <th>31206</th>\n",
       "      <th>31207</th>\n",
       "      <th>31208</th>\n",
       "      <th>31209</th>\n",
       "      <th>31210</th>\n",
       "      <th>31211</th>\n",
       "      <th>31212</th>\n",
       "      <th>31213</th>\n",
       "      <th>31214</th>\n",
       "      <th>31215</th>\n",
       "    </tr>\n",
       "  </thead>\n",
       "  <tbody>\n",
       "    <tr>\n",
       "      <th>0</th>\n",
       "      <td>0.0</td>\n",
       "      <td>0.0</td>\n",
       "      <td>0.0</td>\n",
       "      <td>0.0</td>\n",
       "      <td>0.0</td>\n",
       "      <td>0.0</td>\n",
       "      <td>0.0</td>\n",
       "      <td>0.0</td>\n",
       "      <td>0.0</td>\n",
       "      <td>0.0</td>\n",
       "      <td>...</td>\n",
       "      <td>0.0</td>\n",
       "      <td>0.0</td>\n",
       "      <td>0.0</td>\n",
       "      <td>0.0</td>\n",
       "      <td>0.0</td>\n",
       "      <td>0.0</td>\n",
       "      <td>0.0</td>\n",
       "      <td>0.0</td>\n",
       "      <td>0.0</td>\n",
       "      <td>0.0</td>\n",
       "    </tr>\n",
       "    <tr>\n",
       "      <th>1</th>\n",
       "      <td>0.0</td>\n",
       "      <td>0.0</td>\n",
       "      <td>0.0</td>\n",
       "      <td>0.0</td>\n",
       "      <td>0.0</td>\n",
       "      <td>0.0</td>\n",
       "      <td>0.0</td>\n",
       "      <td>0.0</td>\n",
       "      <td>0.0</td>\n",
       "      <td>0.0</td>\n",
       "      <td>...</td>\n",
       "      <td>0.0</td>\n",
       "      <td>0.0</td>\n",
       "      <td>0.0</td>\n",
       "      <td>0.0</td>\n",
       "      <td>0.0</td>\n",
       "      <td>0.0</td>\n",
       "      <td>0.0</td>\n",
       "      <td>0.0</td>\n",
       "      <td>0.0</td>\n",
       "      <td>0.0</td>\n",
       "    </tr>\n",
       "    <tr>\n",
       "      <th>2</th>\n",
       "      <td>0.0</td>\n",
       "      <td>0.0</td>\n",
       "      <td>0.0</td>\n",
       "      <td>0.0</td>\n",
       "      <td>0.0</td>\n",
       "      <td>0.0</td>\n",
       "      <td>0.0</td>\n",
       "      <td>0.0</td>\n",
       "      <td>0.0</td>\n",
       "      <td>0.0</td>\n",
       "      <td>...</td>\n",
       "      <td>0.0</td>\n",
       "      <td>0.0</td>\n",
       "      <td>0.0</td>\n",
       "      <td>0.0</td>\n",
       "      <td>0.0</td>\n",
       "      <td>0.0</td>\n",
       "      <td>0.0</td>\n",
       "      <td>0.0</td>\n",
       "      <td>0.0</td>\n",
       "      <td>0.0</td>\n",
       "    </tr>\n",
       "    <tr>\n",
       "      <th>3</th>\n",
       "      <td>0.0</td>\n",
       "      <td>0.0</td>\n",
       "      <td>0.0</td>\n",
       "      <td>0.0</td>\n",
       "      <td>0.0</td>\n",
       "      <td>0.0</td>\n",
       "      <td>0.0</td>\n",
       "      <td>0.0</td>\n",
       "      <td>0.0</td>\n",
       "      <td>0.0</td>\n",
       "      <td>...</td>\n",
       "      <td>0.0</td>\n",
       "      <td>0.0</td>\n",
       "      <td>0.0</td>\n",
       "      <td>0.0</td>\n",
       "      <td>0.0</td>\n",
       "      <td>0.0</td>\n",
       "      <td>0.0</td>\n",
       "      <td>0.0</td>\n",
       "      <td>0.0</td>\n",
       "      <td>0.0</td>\n",
       "    </tr>\n",
       "    <tr>\n",
       "      <th>4</th>\n",
       "      <td>0.0</td>\n",
       "      <td>0.0</td>\n",
       "      <td>0.0</td>\n",
       "      <td>0.0</td>\n",
       "      <td>0.0</td>\n",
       "      <td>0.0</td>\n",
       "      <td>0.0</td>\n",
       "      <td>0.0</td>\n",
       "      <td>0.0</td>\n",
       "      <td>0.0</td>\n",
       "      <td>...</td>\n",
       "      <td>0.0</td>\n",
       "      <td>0.0</td>\n",
       "      <td>0.0</td>\n",
       "      <td>0.0</td>\n",
       "      <td>0.0</td>\n",
       "      <td>0.0</td>\n",
       "      <td>0.0</td>\n",
       "      <td>0.0</td>\n",
       "      <td>0.0</td>\n",
       "      <td>0.0</td>\n",
       "    </tr>\n",
       "  </tbody>\n",
       "</table>\n",
       "<p>5 rows × 31216 columns</p>\n",
       "</div>"
      ],
      "text/plain": [
       "   0      1      2      3      4      5      6      7      8      9      ...  \\\n",
       "0    0.0    0.0    0.0    0.0    0.0    0.0    0.0    0.0    0.0    0.0  ...   \n",
       "1    0.0    0.0    0.0    0.0    0.0    0.0    0.0    0.0    0.0    0.0  ...   \n",
       "2    0.0    0.0    0.0    0.0    0.0    0.0    0.0    0.0    0.0    0.0  ...   \n",
       "3    0.0    0.0    0.0    0.0    0.0    0.0    0.0    0.0    0.0    0.0  ...   \n",
       "4    0.0    0.0    0.0    0.0    0.0    0.0    0.0    0.0    0.0    0.0  ...   \n",
       "\n",
       "   31206  31207  31208  31209  31210  31211  31212  31213  31214  31215  \n",
       "0    0.0    0.0    0.0    0.0    0.0    0.0    0.0    0.0    0.0    0.0  \n",
       "1    0.0    0.0    0.0    0.0    0.0    0.0    0.0    0.0    0.0    0.0  \n",
       "2    0.0    0.0    0.0    0.0    0.0    0.0    0.0    0.0    0.0    0.0  \n",
       "3    0.0    0.0    0.0    0.0    0.0    0.0    0.0    0.0    0.0    0.0  \n",
       "4    0.0    0.0    0.0    0.0    0.0    0.0    0.0    0.0    0.0    0.0  \n",
       "\n",
       "[5 rows x 31216 columns]"
      ]
     },
     "execution_count": 22,
     "metadata": {},
     "output_type": "execute_result"
    }
   ],
   "source": [
    "df_xtrain.head()"
   ]
  },
  {
   "cell_type": "code",
   "execution_count": null,
   "id": "cc7e4d78",
   "metadata": {},
   "outputs": [],
   "source": []
  },
  {
   "cell_type": "code",
   "execution_count": 10,
   "id": "2d7fda38",
   "metadata": {},
   "outputs": [
    {
     "name": "stdout",
     "output_type": "stream",
     "text": [
      "Positive = 50.0 %,  22338 observations.\n",
      "Negative = 50.0 %,  22338 observations.\n"
     ]
    }
   ],
   "source": [
    "#Testing data proportion after SMOTE oversampling\n",
    "positive = 0\n",
    "negative = 0\n",
    "\n",
    "for n in train_y:\n",
    "    if n == 0:\n",
    "        positive = positive + 1\n",
    "    elif n == 1:\n",
    "        negative = negative + 1\n",
    "\n",
    "print(\"Positive =\", (positive/(positive+negative))*100,\"%, \",positive,\"observations.\")\n",
    "print(\"Negative =\", (negative/(positive+negative))*100,\"%, \",negative,\"observations.\")"
   ]
  },
  {
   "cell_type": "code",
   "execution_count": 46,
   "id": "41db2cea",
   "metadata": {},
   "outputs": [
    {
     "name": "stdout",
     "output_type": "stream",
     "text": [
      "# Tuning for recall\n",
      "\n",
      "Best parameters set found on KNNC train set: \n",
      "{'n_neighbors': 2}\n",
      "\n",
      "Grid scores on KNNC train set:\n",
      "\n",
      "0.761 (+/-0.007) for {'n_neighbors': 1}\n",
      "0.772 (+/-0.008) for {'n_neighbors': 2}\n",
      "0.692 (+/-0.006) for {'n_neighbors': 3}\n",
      "0.700 (+/-0.006) for {'n_neighbors': 4}\n",
      "0.661 (+/-0.003) for {'n_neighbors': 5}\n",
      "0.666 (+/-0.002) for {'n_neighbors': 6}\n",
      "0.641 (+/-0.002) for {'n_neighbors': 7}\n",
      "0.646 (+/-0.003) for {'n_neighbors': 8}\n",
      "0.629 (+/-0.002) for {'n_neighbors': 9}\n",
      "0.633 (+/-0.002) for {'n_neighbors': 10}\n",
      "\n",
      "Classification Report:\n",
      "\n",
      "              precision    recall  f1-score   support\n",
      "\n",
      "           0       0.99      0.58      0.73      7413\n",
      "           1       0.15      0.96      0.26       578\n",
      "\n",
      "    accuracy                           0.61      7991\n",
      "   macro avg       0.57      0.77      0.50      7991\n",
      "weighted avg       0.93      0.61      0.70      7991\n",
      "\n"
     ]
    }
   ],
   "source": [
    "#Tuning KNNC n_neighbors using GridSearchCV\n",
    "count = 0\n",
    "KNNCscorearray = [1,2,3,4,5,6,7,8,9,10]\n",
    "\n",
    "tuned_parameters = {'n_neighbors': KNNCscorearray}\n",
    "\n",
    "scores = ['recall']\n",
    "\n",
    "for score in scores:\n",
    "    print(\"# Tuning for %s\\n\" % score)\n",
    "\n",
    "    clf = GridSearchCV(KNNC(), tuned_parameters, cv=5, scoring='%s_macro' % score).fit(xtrain_tfidf, train_y)\n",
    "\n",
    "    print(\"Best parameters set found on KNNC train set: \")\n",
    "    print(clf.best_params_)\n",
    "    print(\"\\nGrid scores on KNNC train set:\\n\")\n",
    "    \n",
    "    means = clf.cv_results_['mean_test_score']\n",
    "    stds = clf.cv_results_['std_test_score']\n",
    "    for mean, std, params in zip(means, stds, clf.cv_results_['params']):\n",
    "        print(\"%0.3f (+/-%0.03f) for %r\"\n",
    "              % (mean, std * 2, params))\n",
    "        KNNCres = KNNC(n_neighbors = KNNCscorearray[count]).fit(xtrain_tfidf, train_y)\n",
    "        KNNCscorearray[count] = KNNCres.score(xvalid_tfidf,valid_y)\n",
    "        count=count+1\n",
    "        \n",
    "    print(\"\\nClassification Report:\\n\")\n",
    "    print(classification_report(valid_y, clf.predict(xvalid_tfidf)))"
   ]
  },
  {
   "cell_type": "code",
   "execution_count": 50,
   "id": "d04eea8d",
   "metadata": {},
   "outputs": [
    {
     "data": {
      "text/plain": [
       "Text(0.5, 1.0, 'KNNC Optimized Neighbors')"
      ]
     },
     "execution_count": 50,
     "metadata": {},
     "output_type": "execute_result"
    },
    {
     "data": {
      "image/png": "[encoded data removed]",
      "text/plain": [
       "<Figure size 432x288 with 1 Axes>"
      ]
     },
     "metadata": {
      "needs_background": "light"
     },
     "output_type": "display_data"
    }
   ],
   "source": [
    "#Visualizing KNN by score\n",
    "neighbors = [1,2,3,4,5,6,7,8,9,10]\n",
    "\n",
    "plt.plot(neighbors, KNNCscorearray)\n",
    "plt.xlim(1,10)\n",
    "plt.ylim(0.2,0.65)\n",
    "\n",
    "plt.ylabel('Classification Accuracy')\n",
    "plt.xlabel('Neighbors')\n",
    "plt.title('KNNC Optimized Neighbors')"
   ]
  },
  {
   "cell_type": "code",
   "execution_count": 74,
   "id": "c2338868",
   "metadata": {},
   "outputs": [
    {
     "name": "stdout",
     "output_type": "stream",
     "text": [
      "# Tuning for recall\n",
      "\n",
      "Best parameters set found on train set: \n",
      "{'C': 10, 'kernel': 'rbf'}\n",
      "\n",
      "Grid scores on train set:\n",
      "\n",
      "0.989 (+/-0.026) for {'C': 1, 'kernel': 'rbf'}\n",
      "0.990 (+/-0.022) for {'C': 10, 'kernel': 'rbf'}\n",
      "0.990 (+/-0.023) for {'C': 100, 'kernel': 'rbf'}\n",
      "0.987 (+/-0.032) for {'C': 1000, 'kernel': 'rbf'}\n",
      "\n",
      "Classification Report:\n",
      "\n",
      "              precision    recall  f1-score   support\n",
      "\n",
      "           0       0.96      1.00      0.98      7413\n",
      "           1       0.93      0.47      0.63       578\n",
      "\n",
      "    accuracy                           0.96      7991\n",
      "   macro avg       0.95      0.74      0.80      7991\n",
      "weighted avg       0.96      0.96      0.95      7991\n",
      "\n"
     ]
    }
   ],
   "source": [
    "#Support Vector Machine tuning C\n",
    "count = 0\n",
    "SVCscorearray = [1, 10, 100, 1000]\n",
    "\n",
    "tuned_parameters = {'kernel': ['rbf'], 'C': SVCscorearray}\n",
    "\n",
    "scores = ['recall']\n",
    "\n",
    "for score in scores:\n",
    "    print(\"# Tuning for %s\\n\" % score)\n",
    "\n",
    "    clf = GridSearchCV(SVC(), tuned_parameters, cv=3, scoring='%s_macro' % score).fit(xtrain_tfidf, train_y)\n",
    "\n",
    "    print(\"Best parameters set found on train set: \")\n",
    "    print(clf.best_params_)\n",
    "    print(\"\\nGrid scores on train set:\\n\")\n",
    "    \n",
    "    means = clf.cv_results_['mean_test_score']\n",
    "    stds = clf.cv_results_['std_test_score']\n",
    "    for mean, std, params in zip(means, stds, clf.cv_results_['params']):\n",
    "        print(\"%0.3f (+/-%0.03f) for %r\" % (mean, std * 2, params))\n",
    "        \n",
    "        SVCres = SVC(C = SVCscorearray[count]).fit(xtrain_tfidf, train_y)\n",
    "        SVCscorearray[count] = SVCres.score(xvalid_tfidf,valid_y)\n",
    "        count = count+1\n",
    "                     \n",
    "print(\"\\nClassification Report:\\n\")\n",
    "print(classification_report(valid_y, clf.predict(xvalid_tfidf)))"
   ]
  },
  {
   "cell_type": "code",
   "execution_count": 75,
   "id": "435a2758",
   "metadata": {},
   "outputs": [
    {
     "data": {
      "text/plain": [
       "Text(0.5, 1.0, 'SVC Tuning C')"
      ]
     },
     "execution_count": 75,
     "metadata": {},
     "output_type": "execute_result"
    },
    {
     "data": {
      "image/png": "[encoded data removed]",
      "text/plain": [
       "<Figure size 432x288 with 1 Axes>"
      ]
     },
     "metadata": {
      "needs_background": "light"
     },
     "output_type": "display_data"
    }
   ],
   "source": [
    "#Visualizing SVC\n",
    "neighbors = [1,10,100,1000]\n",
    "\n",
    "plt.plot(neighbors, SVCscorearray)\n",
    "plt.xlim(0,1000)\n",
    "\n",
    "plt.ylabel('Classification Accuracy')\n",
    "plt.xlabel('C')\n",
    "plt.title('SVC Tuning C')"
   ]
  },
  {
   "cell_type": "code",
   "execution_count": 88,
   "id": "d994a374",
   "metadata": {},
   "outputs": [
    {
     "data": {
      "text/plain": [
       "array([0.    , 0.0001, 0.0002, 0.0003, 0.0004, 0.0005, 0.0006, 0.0007,\n",
       "       0.0008, 0.0009, 0.001 , 0.0011, 0.0012, 0.0013, 0.0014, 0.0015,\n",
       "       0.0016, 0.0017, 0.0018, 0.0019, 0.002 , 0.0021, 0.0022, 0.0023,\n",
       "       0.0024, 0.0025, 0.0026, 0.0027, 0.0028, 0.0029, 0.003 , 0.0031,\n",
       "       0.0032, 0.0033, 0.0034, 0.0035, 0.0036, 0.0037, 0.0038, 0.0039,\n",
       "       0.004 , 0.0041, 0.0042, 0.0043, 0.0044, 0.0045, 0.0046, 0.0047,\n",
       "       0.0048, 0.0049, 0.005 , 0.0051, 0.0052, 0.0053, 0.0054, 0.0055,\n",
       "       0.0056, 0.0057, 0.0058, 0.0059, 0.006 , 0.0061, 0.0062, 0.0063,\n",
       "       0.0064, 0.0065, 0.0066, 0.0067, 0.0068, 0.0069, 0.007 , 0.0071,\n",
       "       0.0072, 0.0073, 0.0074, 0.0075, 0.0076, 0.0077, 0.0078, 0.0079,\n",
       "       0.008 , 0.0081, 0.0082, 0.0083, 0.0084, 0.0085, 0.0086, 0.0087,\n",
       "       0.0088, 0.0089, 0.009 , 0.0091, 0.0092, 0.0093, 0.0094, 0.0095,\n",
       "       0.0096, 0.0097, 0.0098, 0.0099])"
      ]
     },
     "execution_count": 88,
     "metadata": {},
     "output_type": "execute_result"
    }
   ],
   "source": [
    "array = np.arange(1,100)\n",
    "finegrid = 0.0001*np.arange(100)\n",
    "finegrid"
   ]
  },
  {
   "cell_type": "code",
   "execution_count": 131,
   "id": "82bf869a",
   "metadata": {},
   "outputs": [
    {
     "name": "stdout",
     "output_type": "stream",
     "text": [
      "# Tuning for recall\n",
      "\n",
      "Best parameters set found on train set: \n",
      "{'alpha': 0.0088}\n",
      "\n",
      "Grid scores on train set:\n",
      "\n",
      "0.774 (+/-0.015) for {'alpha': 0.0001}\n",
      "0.778 (+/-0.016) for {'alpha': 0.0002}\n",
      "0.779 (+/-0.013) for {'alpha': 0.00030000000000000003}\n",
      "0.780 (+/-0.014) for {'alpha': 0.0004}\n",
      "0.781 (+/-0.013) for {'alpha': 0.0005}\n",
      "0.782 (+/-0.014) for {'alpha': 0.0006000000000000001}\n",
      "0.782 (+/-0.013) for {'alpha': 0.0007}\n",
      "0.783 (+/-0.014) for {'alpha': 0.0008}\n",
      "0.784 (+/-0.015) for {'alpha': 0.0009000000000000001}\n",
      "0.784 (+/-0.015) for {'alpha': 0.001}\n",
      "0.784 (+/-0.014) for {'alpha': 0.0011}\n",
      "0.785 (+/-0.013) for {'alpha': 0.0012000000000000001}\n",
      "0.785 (+/-0.014) for {'alpha': 0.0013000000000000002}\n",
      "0.785 (+/-0.014) for {'alpha': 0.0014}\n",
      "0.786 (+/-0.015) for {'alpha': 0.0015}\n",
      "0.787 (+/-0.015) for {'alpha': 0.0016}\n",
      "0.787 (+/-0.015) for {'alpha': 0.0017000000000000001}\n",
      "0.787 (+/-0.015) for {'alpha': 0.0018000000000000002}\n",
      "0.788 (+/-0.016) for {'alpha': 0.0019}\n",
      "0.788 (+/-0.016) for {'alpha': 0.002}\n",
      "0.789 (+/-0.017) for {'alpha': 0.0021000000000000003}\n",
      "0.789 (+/-0.017) for {'alpha': 0.0022}\n",
      "0.789 (+/-0.017) for {'alpha': 0.0023}\n",
      "0.790 (+/-0.018) for {'alpha': 0.0024000000000000002}\n",
      "0.790 (+/-0.017) for {'alpha': 0.0025}\n",
      "0.790 (+/-0.017) for {'alpha': 0.0026000000000000003}\n",
      "0.790 (+/-0.017) for {'alpha': 0.0027}\n",
      "0.790 (+/-0.015) for {'alpha': 0.0028}\n",
      "0.790 (+/-0.016) for {'alpha': 0.0029000000000000002}\n",
      "0.790 (+/-0.016) for {'alpha': 0.003}\n",
      "0.791 (+/-0.016) for {'alpha': 0.0031000000000000003}\n",
      "0.791 (+/-0.016) for {'alpha': 0.0032}\n",
      "0.791 (+/-0.016) for {'alpha': 0.0033}\n",
      "0.791 (+/-0.018) for {'alpha': 0.0034000000000000002}\n",
      "0.791 (+/-0.018) for {'alpha': 0.0035}\n",
      "0.791 (+/-0.018) for {'alpha': 0.0036000000000000003}\n",
      "0.791 (+/-0.018) for {'alpha': 0.0037}\n",
      "0.791 (+/-0.018) for {'alpha': 0.0038}\n",
      "0.791 (+/-0.017) for {'alpha': 0.0039000000000000003}\n",
      "0.791 (+/-0.017) for {'alpha': 0.004}\n",
      "0.791 (+/-0.017) for {'alpha': 0.0041}\n",
      "0.791 (+/-0.017) for {'alpha': 0.004200000000000001}\n",
      "0.791 (+/-0.017) for {'alpha': 0.0043}\n",
      "0.791 (+/-0.017) for {'alpha': 0.0044}\n",
      "0.791 (+/-0.017) for {'alpha': 0.0045000000000000005}\n",
      "0.791 (+/-0.017) for {'alpha': 0.0046}\n",
      "0.791 (+/-0.017) for {'alpha': 0.0047}\n",
      "0.791 (+/-0.018) for {'alpha': 0.0048000000000000004}\n",
      "0.791 (+/-0.018) for {'alpha': 0.0049}\n",
      "0.791 (+/-0.017) for {'alpha': 0.005}\n",
      "0.791 (+/-0.017) for {'alpha': 0.0051}\n",
      "0.791 (+/-0.018) for {'alpha': 0.005200000000000001}\n",
      "0.791 (+/-0.018) for {'alpha': 0.0053}\n",
      "0.791 (+/-0.018) for {'alpha': 0.0054}\n",
      "0.792 (+/-0.019) for {'alpha': 0.0055000000000000005}\n",
      "0.792 (+/-0.019) for {'alpha': 0.0056}\n",
      "0.792 (+/-0.019) for {'alpha': 0.0057}\n",
      "0.792 (+/-0.020) for {'alpha': 0.0058000000000000005}\n",
      "0.792 (+/-0.020) for {'alpha': 0.0059}\n",
      "0.793 (+/-0.020) for {'alpha': 0.006}\n",
      "0.793 (+/-0.020) for {'alpha': 0.0061}\n",
      "0.793 (+/-0.022) for {'alpha': 0.006200000000000001}\n",
      "0.793 (+/-0.022) for {'alpha': 0.0063}\n",
      "0.793 (+/-0.023) for {'alpha': 0.0064}\n",
      "0.793 (+/-0.023) for {'alpha': 0.006500000000000001}\n",
      "0.793 (+/-0.023) for {'alpha': 0.0066}\n",
      "0.793 (+/-0.023) for {'alpha': 0.0067}\n",
      "0.793 (+/-0.023) for {'alpha': 0.0068000000000000005}\n",
      "0.794 (+/-0.023) for {'alpha': 0.006900000000000001}\n",
      "0.793 (+/-0.023) for {'alpha': 0.007}\n",
      "0.793 (+/-0.023) for {'alpha': 0.0071}\n",
      "0.793 (+/-0.023) for {'alpha': 0.007200000000000001}\n",
      "0.794 (+/-0.024) for {'alpha': 0.0073}\n",
      "0.794 (+/-0.024) for {'alpha': 0.0074}\n",
      "0.794 (+/-0.024) for {'alpha': 0.007500000000000001}\n",
      "0.794 (+/-0.024) for {'alpha': 0.0076}\n",
      "0.794 (+/-0.024) for {'alpha': 0.0077}\n",
      "0.793 (+/-0.023) for {'alpha': 0.0078000000000000005}\n",
      "0.793 (+/-0.023) for {'alpha': 0.0079}\n",
      "0.793 (+/-0.023) for {'alpha': 0.008}\n",
      "0.793 (+/-0.024) for {'alpha': 0.0081}\n",
      "0.793 (+/-0.023) for {'alpha': 0.0082}\n",
      "0.794 (+/-0.022) for {'alpha': 0.0083}\n",
      "0.794 (+/-0.023) for {'alpha': 0.008400000000000001}\n",
      "0.794 (+/-0.023) for {'alpha': 0.0085}\n",
      "0.794 (+/-0.023) for {'alpha': 0.0086}\n",
      "0.794 (+/-0.023) for {'alpha': 0.008700000000000001}\n",
      "0.794 (+/-0.022) for {'alpha': 0.0088}\n",
      "0.794 (+/-0.022) for {'alpha': 0.0089}\n",
      "0.794 (+/-0.022) for {'alpha': 0.009000000000000001}\n",
      "0.794 (+/-0.022) for {'alpha': 0.0091}\n",
      "0.794 (+/-0.022) for {'alpha': 0.0092}\n",
      "0.794 (+/-0.022) for {'alpha': 0.009300000000000001}\n",
      "0.794 (+/-0.022) for {'alpha': 0.0094}\n",
      "0.794 (+/-0.023) for {'alpha': 0.0095}\n",
      "0.794 (+/-0.023) for {'alpha': 0.009600000000000001}\n",
      "0.794 (+/-0.023) for {'alpha': 0.0097}\n",
      "0.794 (+/-0.023) for {'alpha': 0.0098}\n",
      "0.794 (+/-0.024) for {'alpha': 0.0099}\n",
      "0.794 (+/-0.024) for {'alpha': 0.01}\n",
      "0.794 (+/-0.024) for {'alpha': 0.010100000000000001}\n",
      "0.794 (+/-0.024) for {'alpha': 0.0102}\n",
      "0.794 (+/-0.024) for {'alpha': 0.0103}\n",
      "0.794 (+/-0.024) for {'alpha': 0.010400000000000001}\n",
      "0.793 (+/-0.023) for {'alpha': 0.0105}\n",
      "0.793 (+/-0.023) for {'alpha': 0.0106}\n",
      "0.793 (+/-0.023) for {'alpha': 0.010700000000000001}\n",
      "0.793 (+/-0.023) for {'alpha': 0.0108}\n",
      "0.793 (+/-0.023) for {'alpha': 0.0109}\n",
      "0.793 (+/-0.023) for {'alpha': 0.011000000000000001}\n",
      "0.793 (+/-0.023) for {'alpha': 0.0111}\n",
      "0.793 (+/-0.023) for {'alpha': 0.0112}\n",
      "0.793 (+/-0.023) for {'alpha': 0.011300000000000001}\n",
      "0.794 (+/-0.024) for {'alpha': 0.0114}\n",
      "0.794 (+/-0.024) for {'alpha': 0.0115}\n",
      "0.794 (+/-0.024) for {'alpha': 0.011600000000000001}\n",
      "0.794 (+/-0.024) for {'alpha': 0.0117}\n",
      "0.794 (+/-0.024) for {'alpha': 0.0118}\n",
      "0.794 (+/-0.024) for {'alpha': 0.0119}\n",
      "0.793 (+/-0.025) for {'alpha': 0.012}\n",
      "0.793 (+/-0.025) for {'alpha': 0.012100000000000001}\n",
      "0.793 (+/-0.025) for {'alpha': 0.0122}\n",
      "0.793 (+/-0.025) for {'alpha': 0.0123}\n",
      "0.793 (+/-0.024) for {'alpha': 0.012400000000000001}\n",
      "0.793 (+/-0.024) for {'alpha': 0.0125}\n",
      "0.793 (+/-0.024) for {'alpha': 0.0126}\n",
      "0.793 (+/-0.024) for {'alpha': 0.012700000000000001}\n",
      "0.793 (+/-0.024) for {'alpha': 0.0128}\n",
      "0.793 (+/-0.024) for {'alpha': 0.0129}\n",
      "0.793 (+/-0.024) for {'alpha': 0.013000000000000001}\n",
      "0.793 (+/-0.024) for {'alpha': 0.0131}\n",
      "0.792 (+/-0.024) for {'alpha': 0.0132}\n",
      "0.792 (+/-0.024) for {'alpha': 0.013300000000000001}\n",
      "0.792 (+/-0.024) for {'alpha': 0.0134}\n",
      "0.792 (+/-0.024) for {'alpha': 0.0135}\n",
      "0.792 (+/-0.024) for {'alpha': 0.013600000000000001}\n",
      "0.792 (+/-0.024) for {'alpha': 0.0137}\n",
      "0.792 (+/-0.024) for {'alpha': 0.013800000000000002}\n",
      "0.793 (+/-0.024) for {'alpha': 0.013900000000000001}\n",
      "0.792 (+/-0.025) for {'alpha': 0.014}\n",
      "0.793 (+/-0.026) for {'alpha': 0.014100000000000001}\n",
      "0.793 (+/-0.026) for {'alpha': 0.0142}\n",
      "0.793 (+/-0.026) for {'alpha': 0.0143}\n",
      "0.793 (+/-0.027) for {'alpha': 0.014400000000000001}\n",
      "0.793 (+/-0.027) for {'alpha': 0.0145}\n",
      "0.793 (+/-0.027) for {'alpha': 0.0146}\n",
      "0.793 (+/-0.026) for {'alpha': 0.014700000000000001}\n",
      "0.793 (+/-0.026) for {'alpha': 0.0148}\n",
      "0.793 (+/-0.026) for {'alpha': 0.0149}\n",
      "0.793 (+/-0.026) for {'alpha': 0.015000000000000001}\n",
      "0.793 (+/-0.026) for {'alpha': 0.0151}\n",
      "0.793 (+/-0.027) for {'alpha': 0.0152}\n",
      "0.793 (+/-0.027) for {'alpha': 0.015300000000000001}\n",
      "0.793 (+/-0.027) for {'alpha': 0.0154}\n",
      "0.793 (+/-0.027) for {'alpha': 0.0155}\n",
      "0.793 (+/-0.026) for {'alpha': 0.015600000000000001}\n",
      "0.793 (+/-0.026) for {'alpha': 0.015700000000000002}\n",
      "0.793 (+/-0.026) for {'alpha': 0.0158}\n",
      "0.793 (+/-0.026) for {'alpha': 0.0159}\n",
      "0.793 (+/-0.026) for {'alpha': 0.016}\n",
      "0.793 (+/-0.026) for {'alpha': 0.0161}\n",
      "0.793 (+/-0.026) for {'alpha': 0.0162}\n",
      "0.793 (+/-0.026) for {'alpha': 0.016300000000000002}\n",
      "0.793 (+/-0.026) for {'alpha': 0.0164}\n",
      "0.792 (+/-0.025) for {'alpha': 0.0165}\n",
      "0.793 (+/-0.026) for {'alpha': 0.0166}\n",
      "0.793 (+/-0.026) for {'alpha': 0.0167}\n",
      "0.792 (+/-0.026) for {'alpha': 0.016800000000000002}\n",
      "0.792 (+/-0.026) for {'alpha': 0.016900000000000002}\n",
      "0.792 (+/-0.025) for {'alpha': 0.017}\n",
      "0.792 (+/-0.025) for {'alpha': 0.0171}\n",
      "0.792 (+/-0.025) for {'alpha': 0.0172}\n",
      "0.791 (+/-0.026) for {'alpha': 0.0173}\n",
      "0.791 (+/-0.026) for {'alpha': 0.017400000000000002}\n",
      "0.791 (+/-0.026) for {'alpha': 0.0175}\n",
      "0.791 (+/-0.026) for {'alpha': 0.0176}\n",
      "0.791 (+/-0.026) for {'alpha': 0.0177}\n",
      "0.792 (+/-0.026) for {'alpha': 0.0178}\n",
      "0.791 (+/-0.027) for {'alpha': 0.0179}\n",
      "0.791 (+/-0.027) for {'alpha': 0.018000000000000002}\n",
      "0.791 (+/-0.027) for {'alpha': 0.0181}\n",
      "0.791 (+/-0.027) for {'alpha': 0.0182}\n",
      "0.791 (+/-0.027) for {'alpha': 0.0183}\n",
      "0.791 (+/-0.027) for {'alpha': 0.0184}\n",
      "0.791 (+/-0.027) for {'alpha': 0.018500000000000003}\n",
      "0.791 (+/-0.027) for {'alpha': 0.018600000000000002}\n",
      "0.791 (+/-0.027) for {'alpha': 0.0187}\n"
     ]
    },
    {
     "name": "stdout",
     "output_type": "stream",
     "text": [
      "0.792 (+/-0.028) for {'alpha': 0.0188}\n",
      "0.791 (+/-0.029) for {'alpha': 0.0189}\n",
      "0.791 (+/-0.029) for {'alpha': 0.019}\n",
      "0.791 (+/-0.029) for {'alpha': 0.019100000000000002}\n",
      "0.791 (+/-0.029) for {'alpha': 0.019200000000000002}\n",
      "0.791 (+/-0.029) for {'alpha': 0.0193}\n",
      "0.792 (+/-0.029) for {'alpha': 0.0194}\n",
      "0.792 (+/-0.029) for {'alpha': 0.0195}\n",
      "0.792 (+/-0.029) for {'alpha': 0.0196}\n",
      "0.792 (+/-0.029) for {'alpha': 0.019700000000000002}\n",
      "0.792 (+/-0.029) for {'alpha': 0.0198}\n",
      "0.791 (+/-0.030) for {'alpha': 0.0199}\n",
      "0.791 (+/-0.029) for {'alpha': 0.02}\n",
      "0.791 (+/-0.029) for {'alpha': 0.0201}\n",
      "0.791 (+/-0.029) for {'alpha': 0.020200000000000003}\n",
      "0.791 (+/-0.029) for {'alpha': 0.020300000000000002}\n",
      "0.791 (+/-0.029) for {'alpha': 0.0204}\n",
      "0.791 (+/-0.029) for {'alpha': 0.0205}\n",
      "0.791 (+/-0.029) for {'alpha': 0.0206}\n",
      "0.791 (+/-0.029) for {'alpha': 0.0207}\n",
      "0.791 (+/-0.029) for {'alpha': 0.020800000000000003}\n",
      "0.791 (+/-0.029) for {'alpha': 0.020900000000000002}\n",
      "0.791 (+/-0.029) for {'alpha': 0.021}\n",
      "0.791 (+/-0.029) for {'alpha': 0.0211}\n",
      "0.790 (+/-0.029) for {'alpha': 0.0212}\n",
      "0.790 (+/-0.028) for {'alpha': 0.0213}\n",
      "0.790 (+/-0.028) for {'alpha': 0.021400000000000002}\n",
      "0.789 (+/-0.028) for {'alpha': 0.021500000000000002}\n",
      "0.788 (+/-0.029) for {'alpha': 0.0216}\n",
      "0.788 (+/-0.029) for {'alpha': 0.0217}\n",
      "0.788 (+/-0.029) for {'alpha': 0.0218}\n",
      "0.788 (+/-0.029) for {'alpha': 0.0219}\n",
      "0.788 (+/-0.029) for {'alpha': 0.022000000000000002}\n",
      "0.788 (+/-0.029) for {'alpha': 0.0221}\n",
      "0.788 (+/-0.029) for {'alpha': 0.0222}\n",
      "0.788 (+/-0.029) for {'alpha': 0.0223}\n",
      "0.788 (+/-0.029) for {'alpha': 0.0224}\n",
      "0.788 (+/-0.029) for {'alpha': 0.022500000000000003}\n",
      "0.788 (+/-0.029) for {'alpha': 0.022600000000000002}\n",
      "0.788 (+/-0.029) for {'alpha': 0.0227}\n",
      "0.788 (+/-0.029) for {'alpha': 0.0228}\n",
      "0.788 (+/-0.029) for {'alpha': 0.0229}\n",
      "0.788 (+/-0.029) for {'alpha': 0.023}\n",
      "0.788 (+/-0.029) for {'alpha': 0.023100000000000002}\n",
      "0.788 (+/-0.029) for {'alpha': 0.023200000000000002}\n",
      "0.788 (+/-0.029) for {'alpha': 0.0233}\n",
      "0.788 (+/-0.029) for {'alpha': 0.0234}\n",
      "0.788 (+/-0.029) for {'alpha': 0.0235}\n",
      "0.788 (+/-0.029) for {'alpha': 0.0236}\n",
      "0.788 (+/-0.029) for {'alpha': 0.023700000000000002}\n",
      "0.788 (+/-0.029) for {'alpha': 0.0238}\n",
      "0.788 (+/-0.029) for {'alpha': 0.0239}\n",
      "0.788 (+/-0.029) for {'alpha': 0.024}\n",
      "0.788 (+/-0.029) for {'alpha': 0.0241}\n",
      "0.788 (+/-0.029) for {'alpha': 0.024200000000000003}\n",
      "0.788 (+/-0.029) for {'alpha': 0.024300000000000002}\n",
      "0.788 (+/-0.028) for {'alpha': 0.0244}\n",
      "0.788 (+/-0.028) for {'alpha': 0.0245}\n",
      "0.787 (+/-0.028) for {'alpha': 0.0246}\n",
      "0.787 (+/-0.028) for {'alpha': 0.0247}\n",
      "0.787 (+/-0.028) for {'alpha': 0.024800000000000003}\n",
      "0.787 (+/-0.028) for {'alpha': 0.024900000000000002}\n",
      "0.787 (+/-0.028) for {'alpha': 0.025}\n",
      "0.788 (+/-0.028) for {'alpha': 0.0251}\n",
      "0.787 (+/-0.028) for {'alpha': 0.0252}\n",
      "0.787 (+/-0.028) for {'alpha': 0.0253}\n",
      "0.787 (+/-0.028) for {'alpha': 0.025400000000000002}\n",
      "0.787 (+/-0.028) for {'alpha': 0.025500000000000002}\n",
      "0.787 (+/-0.028) for {'alpha': 0.0256}\n",
      "0.787 (+/-0.028) for {'alpha': 0.0257}\n",
      "0.787 (+/-0.028) for {'alpha': 0.0258}\n",
      "0.787 (+/-0.028) for {'alpha': 0.025900000000000003}\n",
      "0.787 (+/-0.028) for {'alpha': 0.026000000000000002}\n",
      "0.787 (+/-0.028) for {'alpha': 0.0261}\n",
      "0.787 (+/-0.028) for {'alpha': 0.0262}\n",
      "0.786 (+/-0.027) for {'alpha': 0.0263}\n",
      "0.786 (+/-0.027) for {'alpha': 0.0264}\n",
      "0.787 (+/-0.028) for {'alpha': 0.026500000000000003}\n",
      "0.787 (+/-0.028) for {'alpha': 0.026600000000000002}\n",
      "0.787 (+/-0.027) for {'alpha': 0.0267}\n",
      "0.787 (+/-0.027) for {'alpha': 0.0268}\n",
      "0.787 (+/-0.027) for {'alpha': 0.0269}\n",
      "0.787 (+/-0.027) for {'alpha': 0.027}\n",
      "0.786 (+/-0.027) for {'alpha': 0.027100000000000003}\n",
      "0.787 (+/-0.027) for {'alpha': 0.027200000000000002}\n",
      "0.787 (+/-0.027) for {'alpha': 0.0273}\n",
      "0.787 (+/-0.027) for {'alpha': 0.0274}\n",
      "0.786 (+/-0.027) for {'alpha': 0.0275}\n",
      "0.786 (+/-0.027) for {'alpha': 0.027600000000000003}\n",
      "0.786 (+/-0.027) for {'alpha': 0.027700000000000002}\n",
      "0.786 (+/-0.027) for {'alpha': 0.027800000000000002}\n",
      "0.786 (+/-0.027) for {'alpha': 0.0279}\n",
      "0.786 (+/-0.027) for {'alpha': 0.028}\n",
      "0.787 (+/-0.027) for {'alpha': 0.0281}\n",
      "0.787 (+/-0.027) for {'alpha': 0.028200000000000003}\n",
      "0.786 (+/-0.027) for {'alpha': 0.028300000000000002}\n",
      "0.786 (+/-0.027) for {'alpha': 0.0284}\n",
      "0.786 (+/-0.027) for {'alpha': 0.0285}\n",
      "0.786 (+/-0.027) for {'alpha': 0.0286}\n",
      "0.786 (+/-0.027) for {'alpha': 0.0287}\n",
      "0.786 (+/-0.027) for {'alpha': 0.028800000000000003}\n",
      "0.786 (+/-0.027) for {'alpha': 0.028900000000000002}\n",
      "0.786 (+/-0.027) for {'alpha': 0.029}\n",
      "0.786 (+/-0.027) for {'alpha': 0.0291}\n",
      "0.786 (+/-0.027) for {'alpha': 0.0292}\n",
      "0.786 (+/-0.027) for {'alpha': 0.029300000000000003}\n",
      "0.786 (+/-0.027) for {'alpha': 0.029400000000000003}\n",
      "0.786 (+/-0.027) for {'alpha': 0.029500000000000002}\n",
      "0.786 (+/-0.027) for {'alpha': 0.0296}\n",
      "0.787 (+/-0.027) for {'alpha': 0.0297}\n",
      "0.787 (+/-0.027) for {'alpha': 0.0298}\n",
      "0.787 (+/-0.027) for {'alpha': 0.029900000000000003}\n",
      "0.787 (+/-0.027) for {'alpha': 0.030000000000000002}\n",
      "0.787 (+/-0.027) for {'alpha': 0.030100000000000002}\n",
      "0.787 (+/-0.027) for {'alpha': 0.0302}\n",
      "0.786 (+/-0.026) for {'alpha': 0.0303}\n",
      "0.786 (+/-0.026) for {'alpha': 0.0304}\n",
      "0.786 (+/-0.026) for {'alpha': 0.030500000000000003}\n",
      "0.786 (+/-0.026) for {'alpha': 0.030600000000000002}\n",
      "0.786 (+/-0.026) for {'alpha': 0.0307}\n",
      "0.786 (+/-0.026) for {'alpha': 0.0308}\n",
      "0.786 (+/-0.026) for {'alpha': 0.0309}\n",
      "0.786 (+/-0.027) for {'alpha': 0.031}\n",
      "0.786 (+/-0.027) for {'alpha': 0.031100000000000003}\n",
      "0.786 (+/-0.027) for {'alpha': 0.031200000000000002}\n",
      "0.786 (+/-0.027) for {'alpha': 0.0313}\n",
      "0.786 (+/-0.027) for {'alpha': 0.031400000000000004}\n",
      "0.786 (+/-0.027) for {'alpha': 0.0315}\n",
      "0.786 (+/-0.027) for {'alpha': 0.0316}\n",
      "0.786 (+/-0.027) for {'alpha': 0.0317}\n",
      "0.786 (+/-0.028) for {'alpha': 0.0318}\n",
      "0.786 (+/-0.027) for {'alpha': 0.031900000000000005}\n",
      "0.786 (+/-0.027) for {'alpha': 0.032}\n",
      "0.786 (+/-0.027) for {'alpha': 0.032100000000000004}\n",
      "0.786 (+/-0.027) for {'alpha': 0.0322}\n",
      "0.785 (+/-0.027) for {'alpha': 0.0323}\n",
      "0.785 (+/-0.027) for {'alpha': 0.0324}\n",
      "0.785 (+/-0.027) for {'alpha': 0.0325}\n",
      "0.785 (+/-0.027) for {'alpha': 0.032600000000000004}\n",
      "0.785 (+/-0.027) for {'alpha': 0.0327}\n",
      "0.785 (+/-0.027) for {'alpha': 0.0328}\n",
      "0.785 (+/-0.027) for {'alpha': 0.0329}\n",
      "0.785 (+/-0.028) for {'alpha': 0.033}\n",
      "0.785 (+/-0.028) for {'alpha': 0.033100000000000004}\n",
      "0.785 (+/-0.028) for {'alpha': 0.0332}\n",
      "0.785 (+/-0.028) for {'alpha': 0.0333}\n",
      "0.785 (+/-0.028) for {'alpha': 0.0334}\n",
      "0.785 (+/-0.028) for {'alpha': 0.0335}\n",
      "0.785 (+/-0.028) for {'alpha': 0.033600000000000005}\n",
      "0.785 (+/-0.028) for {'alpha': 0.0337}\n",
      "0.785 (+/-0.028) for {'alpha': 0.033800000000000004}\n",
      "0.785 (+/-0.028) for {'alpha': 0.0339}\n",
      "0.785 (+/-0.028) for {'alpha': 0.034}\n",
      "0.785 (+/-0.028) for {'alpha': 0.0341}\n",
      "0.785 (+/-0.028) for {'alpha': 0.0342}\n",
      "0.785 (+/-0.028) for {'alpha': 0.034300000000000004}\n",
      "0.785 (+/-0.027) for {'alpha': 0.0344}\n",
      "0.785 (+/-0.027) for {'alpha': 0.0345}\n",
      "0.785 (+/-0.027) for {'alpha': 0.0346}\n",
      "0.784 (+/-0.027) for {'alpha': 0.0347}\n",
      "0.784 (+/-0.027) for {'alpha': 0.034800000000000005}\n",
      "0.784 (+/-0.027) for {'alpha': 0.0349}\n",
      "0.784 (+/-0.027) for {'alpha': 0.035}\n",
      "0.784 (+/-0.027) for {'alpha': 0.0351}\n",
      "0.784 (+/-0.027) for {'alpha': 0.0352}\n",
      "0.784 (+/-0.027) for {'alpha': 0.035300000000000005}\n",
      "0.784 (+/-0.027) for {'alpha': 0.0354}\n",
      "0.784 (+/-0.027) for {'alpha': 0.035500000000000004}\n",
      "0.784 (+/-0.027) for {'alpha': 0.0356}\n",
      "0.784 (+/-0.028) for {'alpha': 0.0357}\n",
      "0.784 (+/-0.028) for {'alpha': 0.0358}\n",
      "0.784 (+/-0.028) for {'alpha': 0.0359}\n",
      "0.784 (+/-0.028) for {'alpha': 0.036000000000000004}\n",
      "0.784 (+/-0.028) for {'alpha': 0.0361}\n",
      "0.784 (+/-0.028) for {'alpha': 0.0362}\n",
      "0.784 (+/-0.028) for {'alpha': 0.0363}\n",
      "0.784 (+/-0.028) for {'alpha': 0.0364}\n",
      "0.784 (+/-0.029) for {'alpha': 0.036500000000000005}\n",
      "0.783 (+/-0.029) for {'alpha': 0.0366}\n",
      "0.783 (+/-0.029) for {'alpha': 0.0367}\n",
      "0.783 (+/-0.029) for {'alpha': 0.0368}\n",
      "0.783 (+/-0.029) for {'alpha': 0.0369}\n",
      "0.783 (+/-0.029) for {'alpha': 0.037000000000000005}\n",
      "0.783 (+/-0.029) for {'alpha': 0.0371}\n",
      "0.783 (+/-0.029) for {'alpha': 0.037200000000000004}\n",
      "0.783 (+/-0.029) for {'alpha': 0.0373}\n",
      "0.783 (+/-0.029) for {'alpha': 0.0374}\n",
      "0.783 (+/-0.029) for {'alpha': 0.0375}\n",
      "0.783 (+/-0.029) for {'alpha': 0.0376}\n",
      "0.783 (+/-0.029) for {'alpha': 0.037700000000000004}\n"
     ]
    },
    {
     "name": "stdout",
     "output_type": "stream",
     "text": [
      "0.783 (+/-0.029) for {'alpha': 0.0378}\n",
      "0.783 (+/-0.029) for {'alpha': 0.0379}\n",
      "0.782 (+/-0.029) for {'alpha': 0.038}\n",
      "0.782 (+/-0.029) for {'alpha': 0.0381}\n",
      "0.782 (+/-0.029) for {'alpha': 0.038200000000000005}\n",
      "0.782 (+/-0.029) for {'alpha': 0.0383}\n",
      "0.782 (+/-0.029) for {'alpha': 0.038400000000000004}\n",
      "0.782 (+/-0.029) for {'alpha': 0.0385}\n",
      "0.782 (+/-0.029) for {'alpha': 0.0386}\n",
      "0.782 (+/-0.029) for {'alpha': 0.038700000000000005}\n",
      "0.782 (+/-0.029) for {'alpha': 0.0388}\n",
      "0.782 (+/-0.029) for {'alpha': 0.038900000000000004}\n",
      "0.782 (+/-0.029) for {'alpha': 0.039}\n",
      "0.782 (+/-0.029) for {'alpha': 0.0391}\n",
      "0.782 (+/-0.029) for {'alpha': 0.0392}\n",
      "0.782 (+/-0.029) for {'alpha': 0.0393}\n",
      "0.782 (+/-0.029) for {'alpha': 0.039400000000000004}\n",
      "0.782 (+/-0.029) for {'alpha': 0.0395}\n",
      "0.782 (+/-0.029) for {'alpha': 0.0396}\n",
      "0.782 (+/-0.029) for {'alpha': 0.0397}\n",
      "0.782 (+/-0.029) for {'alpha': 0.0398}\n",
      "0.782 (+/-0.029) for {'alpha': 0.039900000000000005}\n",
      "0.782 (+/-0.029) for {'alpha': 0.04}\n",
      "0.782 (+/-0.029) for {'alpha': 0.040100000000000004}\n",
      "0.782 (+/-0.030) for {'alpha': 0.0402}\n",
      "0.782 (+/-0.030) for {'alpha': 0.0403}\n",
      "0.782 (+/-0.030) for {'alpha': 0.040400000000000005}\n",
      "0.782 (+/-0.030) for {'alpha': 0.0405}\n",
      "0.782 (+/-0.030) for {'alpha': 0.040600000000000004}\n",
      "0.781 (+/-0.031) for {'alpha': 0.0407}\n",
      "0.781 (+/-0.031) for {'alpha': 0.0408}\n",
      "0.781 (+/-0.031) for {'alpha': 0.0409}\n",
      "0.781 (+/-0.031) for {'alpha': 0.041}\n",
      "0.781 (+/-0.031) for {'alpha': 0.041100000000000005}\n",
      "0.781 (+/-0.031) for {'alpha': 0.0412}\n",
      "0.781 (+/-0.031) for {'alpha': 0.0413}\n",
      "0.781 (+/-0.031) for {'alpha': 0.0414}\n",
      "0.781 (+/-0.031) for {'alpha': 0.0415}\n",
      "0.781 (+/-0.031) for {'alpha': 0.041600000000000005}\n",
      "0.781 (+/-0.031) for {'alpha': 0.0417}\n",
      "0.781 (+/-0.030) for {'alpha': 0.041800000000000004}\n",
      "0.781 (+/-0.030) for {'alpha': 0.0419}\n",
      "0.780 (+/-0.029) for {'alpha': 0.042}\n",
      "0.780 (+/-0.029) for {'alpha': 0.042100000000000005}\n",
      "0.780 (+/-0.029) for {'alpha': 0.0422}\n",
      "0.780 (+/-0.029) for {'alpha': 0.042300000000000004}\n",
      "0.780 (+/-0.029) for {'alpha': 0.0424}\n",
      "0.780 (+/-0.029) for {'alpha': 0.0425}\n",
      "0.780 (+/-0.029) for {'alpha': 0.0426}\n",
      "0.780 (+/-0.029) for {'alpha': 0.0427}\n",
      "0.780 (+/-0.030) for {'alpha': 0.042800000000000005}\n",
      "0.780 (+/-0.030) for {'alpha': 0.0429}\n",
      "0.779 (+/-0.029) for {'alpha': 0.043000000000000003}\n",
      "0.779 (+/-0.030) for {'alpha': 0.0431}\n",
      "0.779 (+/-0.030) for {'alpha': 0.0432}\n",
      "0.779 (+/-0.030) for {'alpha': 0.043300000000000005}\n",
      "0.779 (+/-0.030) for {'alpha': 0.0434}\n",
      "0.778 (+/-0.029) for {'alpha': 0.043500000000000004}\n",
      "0.778 (+/-0.029) for {'alpha': 0.0436}\n",
      "0.778 (+/-0.029) for {'alpha': 0.0437}\n",
      "0.778 (+/-0.029) for {'alpha': 0.0438}\n",
      "0.779 (+/-0.029) for {'alpha': 0.0439}\n",
      "0.779 (+/-0.029) for {'alpha': 0.044000000000000004}\n",
      "0.779 (+/-0.029) for {'alpha': 0.0441}\n",
      "0.779 (+/-0.029) for {'alpha': 0.0442}\n",
      "0.779 (+/-0.029) for {'alpha': 0.0443}\n",
      "0.779 (+/-0.029) for {'alpha': 0.0444}\n",
      "0.779 (+/-0.029) for {'alpha': 0.044500000000000005}\n",
      "0.779 (+/-0.029) for {'alpha': 0.0446}\n",
      "0.778 (+/-0.029) for {'alpha': 0.044700000000000004}\n",
      "0.778 (+/-0.029) for {'alpha': 0.0448}\n",
      "0.778 (+/-0.029) for {'alpha': 0.0449}\n",
      "0.778 (+/-0.028) for {'alpha': 0.045000000000000005}\n",
      "0.778 (+/-0.028) for {'alpha': 0.0451}\n",
      "0.778 (+/-0.028) for {'alpha': 0.045200000000000004}\n",
      "0.778 (+/-0.028) for {'alpha': 0.0453}\n",
      "0.778 (+/-0.028) for {'alpha': 0.0454}\n",
      "0.778 (+/-0.028) for {'alpha': 0.0455}\n",
      "0.778 (+/-0.028) for {'alpha': 0.0456}\n",
      "0.778 (+/-0.028) for {'alpha': 0.045700000000000005}\n",
      "0.778 (+/-0.028) for {'alpha': 0.0458}\n",
      "0.778 (+/-0.028) for {'alpha': 0.0459}\n",
      "0.778 (+/-0.028) for {'alpha': 0.046}\n",
      "0.778 (+/-0.027) for {'alpha': 0.0461}\n",
      "0.778 (+/-0.027) for {'alpha': 0.046200000000000005}\n",
      "0.778 (+/-0.027) for {'alpha': 0.0463}\n",
      "0.778 (+/-0.027) for {'alpha': 0.046400000000000004}\n",
      "0.777 (+/-0.027) for {'alpha': 0.0465}\n",
      "0.777 (+/-0.027) for {'alpha': 0.0466}\n",
      "0.777 (+/-0.027) for {'alpha': 0.046700000000000005}\n",
      "0.777 (+/-0.027) for {'alpha': 0.0468}\n",
      "0.777 (+/-0.027) for {'alpha': 0.046900000000000004}\n",
      "0.777 (+/-0.027) for {'alpha': 0.047}\n",
      "0.777 (+/-0.027) for {'alpha': 0.0471}\n",
      "0.777 (+/-0.027) for {'alpha': 0.0472}\n",
      "0.777 (+/-0.027) for {'alpha': 0.0473}\n",
      "0.777 (+/-0.027) for {'alpha': 0.047400000000000005}\n",
      "0.777 (+/-0.027) for {'alpha': 0.0475}\n",
      "0.777 (+/-0.027) for {'alpha': 0.0476}\n",
      "0.777 (+/-0.027) for {'alpha': 0.0477}\n",
      "0.777 (+/-0.027) for {'alpha': 0.0478}\n",
      "0.777 (+/-0.027) for {'alpha': 0.047900000000000005}\n",
      "0.777 (+/-0.027) for {'alpha': 0.048}\n",
      "0.777 (+/-0.028) for {'alpha': 0.048100000000000004}\n",
      "0.777 (+/-0.028) for {'alpha': 0.0482}\n",
      "0.777 (+/-0.028) for {'alpha': 0.0483}\n",
      "0.777 (+/-0.028) for {'alpha': 0.048400000000000006}\n",
      "0.777 (+/-0.028) for {'alpha': 0.0485}\n",
      "0.777 (+/-0.028) for {'alpha': 0.048600000000000004}\n",
      "0.777 (+/-0.028) for {'alpha': 0.0487}\n",
      "0.777 (+/-0.028) for {'alpha': 0.0488}\n",
      "0.777 (+/-0.028) for {'alpha': 0.0489}\n",
      "0.777 (+/-0.027) for {'alpha': 0.049}\n",
      "0.777 (+/-0.027) for {'alpha': 0.049100000000000005}\n",
      "0.777 (+/-0.027) for {'alpha': 0.0492}\n",
      "0.777 (+/-0.027) for {'alpha': 0.049300000000000004}\n",
      "0.777 (+/-0.027) for {'alpha': 0.0494}\n",
      "0.777 (+/-0.027) for {'alpha': 0.0495}\n",
      "0.776 (+/-0.027) for {'alpha': 0.049600000000000005}\n",
      "0.777 (+/-0.027) for {'alpha': 0.0497}\n",
      "0.777 (+/-0.027) for {'alpha': 0.049800000000000004}\n",
      "0.777 (+/-0.027) for {'alpha': 0.0499}\n",
      "\n",
      "Classification Report:\n",
      "\n",
      "              precision    recall  f1-score   support\n",
      "\n",
      "           0       0.97      0.97      0.97      7431\n",
      "           1       0.61      0.60      0.60       560\n",
      "\n",
      "    accuracy                           0.94      7991\n",
      "   macro avg       0.79      0.78      0.79      7991\n",
      "weighted avg       0.94      0.94      0.94      7991\n",
      "\n"
     ]
    }
   ],
   "source": [
    "#Multinomial Naive Bayes tuning alpha\n",
    "from sklearn.naive_bayes import MultinomialNB as NB\n",
    "from sklearn.model_selection import GridSearchCV\n",
    "\n",
    "array = np.arange(1,100)\n",
    "finegrid = 0.0001*np.arange(500)\n",
    "\n",
    "NBscorearray = finegrid\n",
    "\n",
    "count = 0\n",
    "\n",
    "tuned_parameters = {'alpha': NBscorearray[1:]}\n",
    "\n",
    "scores = ['recall']\n",
    "\n",
    "for score in scores:\n",
    "    print(\"# Tuning for %s\\n\" % score)\n",
    "\n",
    "    clf = GridSearchCV(NB(), tuned_parameters, cv=5, scoring='%s_macro' % score).fit(xtrain_tfidf, train_y)\n",
    "\n",
    "    print(\"Best parameters set found on train set: \")\n",
    "    print(clf.best_params_)\n",
    "    print(\"\\nGrid scores on train set:\\n\")\n",
    "    \n",
    "    means = clf.cv_results_['mean_test_score']\n",
    "    stds = clf.cv_results_['std_test_score']\n",
    "    for mean, std, params in zip(means, stds, clf.cv_results_['params']):\n",
    "        print(\"%0.3f (+/-%0.03f) for %r\" % (mean, std * 2, params))\n",
    "        \n",
    "        NBres = NB(alpha = NBscorearray[count]).fit(xtrain_tfidf, train_y)\n",
    "        NBscorearray[count] = NBres.score(xvalid_tfidf, valid_y)\n",
    "        count = count+1\n",
    "                     \n",
    "    print(\"\\nClassification Report:\\n\")\n",
    "    print(classification_report(valid_y, clf.predict(xvalid_tfidf)))\n"
   ]
  },
  {
   "cell_type": "code",
   "execution_count": 138,
   "id": "b99800f2",
   "metadata": {},
   "outputs": [
    {
     "data": {
      "text/plain": [
       "Text(0.5, 1.0, 'Naive Bayes Tuning Alpha')"
      ]
     },
     "execution_count": 138,
     "metadata": {},
     "output_type": "execute_result"
    },
    {
     "data": {
      "image/png": "[encoded data removed]",
      "text/plain": [
       "<Figure size 432x288 with 1 Axes>"
      ]
     },
     "metadata": {
      "needs_background": "light"
     },
     "output_type": "display_data"
    }
   ],
   "source": [
    "import matplotlib.pyplot as plt\n",
    "\n",
    "array = np.arange(1,100)\n",
    "finegrid = 0.0001*np.arange(500)\n",
    "\n",
    "plt.plot(finegrid, NBscorearray)\n",
    "plt.xlim(0,0.0495)\n",
    "plt.ylim(0.94,0.95)\n",
    "\n",
    "plt.ylabel('Classification Accuracy')\n",
    "plt.xlabel('alpha')\n",
    "plt.title('Naive Bayes Tuning Alpha')"
   ]
  },
  {
   "cell_type": "code",
   "execution_count": 1,
   "id": "e9f45142",
   "metadata": {},
   "outputs": [
    {
     "ename": "NameError",
     "evalue": "name 'np' is not defined",
     "output_type": "error",
     "traceback": [
      "\u001b[1;31m---------------------------------------------------------------------------\u001b[0m",
      "\u001b[1;31mNameError\u001b[0m                                 Traceback (most recent call last)",
      "\u001b[1;32m~\\AppData\\Local\\Temp/ipykernel_54504/2335893619.py\u001b[0m in \u001b[0;36m<module>\u001b[1;34m\u001b[0m\n\u001b[1;32m----> 1\u001b[1;33m \u001b[0mNBTop\u001b[0m \u001b[1;33m=\u001b[0m \u001b[0mnp\u001b[0m\u001b[1;33m.\u001b[0m\u001b[0mamax\u001b[0m\u001b[1;33m(\u001b[0m\u001b[0mNBscorearray\u001b[0m\u001b[1;33m[\u001b[0m\u001b[1;33m:\u001b[0m\u001b[1;33m]\u001b[0m\u001b[1;33m)\u001b[0m\u001b[1;33m\u001b[0m\u001b[1;33m\u001b[0m\u001b[0m\n\u001b[0m\u001b[0;32m      2\u001b[0m \u001b[0mNBTopIndex\u001b[0m \u001b[1;33m=\u001b[0m \u001b[0mnp\u001b[0m\u001b[1;33m.\u001b[0m\u001b[0mwhere\u001b[0m\u001b[1;33m(\u001b[0m\u001b[0mNBscorearray\u001b[0m\u001b[1;33m==\u001b[0m\u001b[0mNBTop\u001b[0m\u001b[1;33m)\u001b[0m\u001b[1;33m\u001b[0m\u001b[1;33m\u001b[0m\u001b[0m\n\u001b[0;32m      3\u001b[0m \u001b[0mNBTopIndex\u001b[0m\u001b[1;33m\u001b[0m\u001b[1;33m\u001b[0m\u001b[0m\n",
      "\u001b[1;31mNameError\u001b[0m: name 'np' is not defined"
     ]
    }
   ],
   "source": [
    "NBTop = np.amax(NBscorearray[:])\n",
    "NBTopIndex = np.where(NBscorearray==NBTop)\n",
    "NBTopIndex"
   ]
  },
  {
   "cell_type": "code",
   "execution_count": 146,
   "id": "79277975",
   "metadata": {},
   "outputs": [
    {
     "name": "stdout",
     "output_type": "stream",
     "text": [
      "['love' 'day' 's' 'thank' 'thi' 'happi' 't' 'posit' 'u' 'time']\n",
      "['libtard' 'trump' 'white' 'black' 's' 't' 'like' 'thi' 'racist' 'liber']\n"
     ]
    }
   ],
   "source": [
    "#Top hate speech classifiers based on tuned Naive Bayes\n",
    "NBres = NB(alpha = 0.0088).fit(xtrain_tfidf, train_y)\n",
    "\n",
    "HateSpeechSorted = NBres.feature_log_prob_[0, :].argsort()[::-1]\n",
    "NotHateSpeechSorted = NBres.feature_log_prob_[1, :].argsort()[::-1]\n",
    "\n",
    "print(np.take(tfidf_vect.get_feature_names(), HateSpeechSorted[:10]))\n",
    "print(np.take(tfidf_vect.get_feature_names(), NotHateSpeechSorted[:10]))"
   ]
  },
  {
   "cell_type": "code",
   "execution_count": 144,
   "id": "1b86319c",
   "metadata": {},
   "outputs": [
    {
     "name": "stdout",
     "output_type": "stream",
     "text": [
      "# Tuning for recall\n",
      "\n",
      "Best parameters set found on train set: \n",
      "{'n_estimators': 125}\n",
      "\n",
      "Grid scores on train set:\n",
      "\n",
      "0.283 (+/-0.028) for {'n_estimators': 100}\n",
      "0.292 (+/-0.026) for {'n_estimators': 125}\n",
      "0.287 (+/-0.028) for {'n_estimators': 175}\n",
      "0.287 (+/-0.019) for {'n_estimators': 300}\n",
      "\n",
      "Classification Report:\n",
      "\n",
      "              precision    recall  f1-score   support\n",
      "\n",
      "           0       0.95      1.00      0.98      7431\n",
      "           1       0.99      0.36      0.52       560\n",
      "\n",
      "    accuracy                           0.95      7991\n",
      "   macro avg       0.97      0.68      0.75      7991\n",
      "weighted avg       0.96      0.95      0.94      7991\n",
      "\n"
     ]
    }
   ],
   "source": [
    "#Random Forest, optimizing n_estimators\n",
    "\n",
    "count = 0\n",
    "\n",
    "estimators = [100,125,175,300]\n",
    "RFscorearray = [0]*4\n",
    "\n",
    "tuned_parameters = {'n_estimators': estimators}\n",
    "\n",
    "print(\"# Tuning for recall\\n\")\n",
    "\n",
    "clf = GridSearchCV(RF(max_depth=None, max_features = math.floor(math.sqrt(n_features)),min_samples_split = 2), \n",
    "                   tuned_parameters,cv=3, scoring='recall').fit(xtrain_tfidf, train_y)\n",
    "\n",
    "print(\"Best parameters set found on train set: \")\n",
    "print(clf.best_params_)\n",
    "print(\"\\nGrid scores on train set:\\n\")\n",
    "    \n",
    "means = clf.cv_results_['mean_test_score']\n",
    "stds = clf.cv_results_['std_test_score']\n",
    "for mean, std, params in zip(means, stds, clf.cv_results_['params']):\n",
    "    print(\"%0.3f (+/-%0.03f) for %r\" % (mean, std * 2, params))\n",
    "        \n",
    "    RFcalc = RF(n_estimators=estimators[count], max_depth=None, max_features=math.floor(math.sqrt(n_features)), min_samples_split = 2)\n",
    "    RFres = RFcalc.fit(xtrain_tfidf, train_y)\n",
    "    RFscorearray[count] = RFres.score(xvalid_tfidf, valid_y)\n",
    "    count=count+1\n",
    "                     \n",
    "print(\"\\nClassification Report:\\n\")\n",
    "print(classification_report(valid_y, clf.predict(xvalid_tfidf)))"
   ]
  },
  {
   "cell_type": "code",
   "execution_count": 147,
   "id": "9797df1b",
   "metadata": {},
   "outputs": [
    {
     "data": {
      "text/plain": [
       "[0.953072206232011, 0.9544487548492053, 0.9533224877987736, 0.9539481917156801]"
      ]
     },
     "execution_count": 147,
     "metadata": {},
     "output_type": "execute_result"
    }
   ],
   "source": [
    "RFscorearray"
   ]
  },
  {
   "cell_type": "code",
   "execution_count": 150,
   "id": "9e4fa947",
   "metadata": {},
   "outputs": [
    {
     "name": "stdout",
     "output_type": "stream",
     "text": [
      "0.953072206232011\n"
     ]
    }
   ],
   "source": [
    "RFcalc = RF(n_estimators=120, max_depth=None, max_features=math.floor(math.sqrt(n_features)), min_samples_split = 2)\n",
    "RFres = RFcalc.fit(xtrain_tfidf, train_y)\n",
    "print(RFres.score(xvalid_tfidf, valid_y))"
   ]
  },
  {
   "cell_type": "code",
   "execution_count": 7,
   "id": "5f3da3f3",
   "metadata": {},
   "outputs": [
    {
     "name": "stdout",
     "output_type": "stream",
     "text": [
      "# Tuning for recall\n",
      "\n"
     ]
    },
    {
     "ename": "KeyboardInterrupt",
     "evalue": "",
     "output_type": "error",
     "traceback": [
      "\u001b[1;31m---------------------------------------------------------------------------\u001b[0m",
      "\u001b[1;31mKeyboardInterrupt\u001b[0m                         Traceback (most recent call last)",
      "\u001b[1;32m~\\AppData\\Local\\Temp/ipykernel_54504/1316741883.py\u001b[0m in \u001b[0;36m<module>\u001b[1;34m\u001b[0m\n\u001b[0;32m     10\u001b[0m \u001b[0mprint\u001b[0m\u001b[1;33m(\u001b[0m\u001b[1;34m\"# Tuning for recall\\n\"\u001b[0m\u001b[1;33m)\u001b[0m\u001b[1;33m\u001b[0m\u001b[1;33m\u001b[0m\u001b[0m\n\u001b[0;32m     11\u001b[0m \u001b[1;33m\u001b[0m\u001b[0m\n\u001b[1;32m---> 12\u001b[1;33m clf = GridSearchCV(GB(n_estimators=n, learning_rate=0.1, max_depth=2), \n\u001b[0m\u001b[0;32m     13\u001b[0m                    tuned_parameters,cv=3, scoring='recall').fit(xtrain_tfidf, train_y)\n\u001b[0;32m     14\u001b[0m \u001b[1;33m\u001b[0m\u001b[0m\n",
      "\u001b[1;32m~\\anaconda3\\lib\\site-packages\\sklearn\\model_selection\\_search.py\u001b[0m in \u001b[0;36mfit\u001b[1;34m(self, X, y, groups, **fit_params)\u001b[0m\n\u001b[0;32m    924\u001b[0m             \u001b[0mrefit_start_time\u001b[0m \u001b[1;33m=\u001b[0m \u001b[0mtime\u001b[0m\u001b[1;33m.\u001b[0m\u001b[0mtime\u001b[0m\u001b[1;33m(\u001b[0m\u001b[1;33m)\u001b[0m\u001b[1;33m\u001b[0m\u001b[1;33m\u001b[0m\u001b[0m\n\u001b[0;32m    925\u001b[0m             \u001b[1;32mif\u001b[0m \u001b[0my\u001b[0m \u001b[1;32mis\u001b[0m \u001b[1;32mnot\u001b[0m \u001b[1;32mNone\u001b[0m\u001b[1;33m:\u001b[0m\u001b[1;33m\u001b[0m\u001b[1;33m\u001b[0m\u001b[0m\n\u001b[1;32m--> 926\u001b[1;33m                 \u001b[0mself\u001b[0m\u001b[1;33m.\u001b[0m\u001b[0mbest_estimator_\u001b[0m\u001b[1;33m.\u001b[0m\u001b[0mfit\u001b[0m\u001b[1;33m(\u001b[0m\u001b[0mX\u001b[0m\u001b[1;33m,\u001b[0m \u001b[0my\u001b[0m\u001b[1;33m,\u001b[0m \u001b[1;33m**\u001b[0m\u001b[0mfit_params\u001b[0m\u001b[1;33m)\u001b[0m\u001b[1;33m\u001b[0m\u001b[1;33m\u001b[0m\u001b[0m\n\u001b[0m\u001b[0;32m    927\u001b[0m             \u001b[1;32melse\u001b[0m\u001b[1;33m:\u001b[0m\u001b[1;33m\u001b[0m\u001b[1;33m\u001b[0m\u001b[0m\n\u001b[0;32m    928\u001b[0m                 \u001b[0mself\u001b[0m\u001b[1;33m.\u001b[0m\u001b[0mbest_estimator_\u001b[0m\u001b[1;33m.\u001b[0m\u001b[0mfit\u001b[0m\u001b[1;33m(\u001b[0m\u001b[0mX\u001b[0m\u001b[1;33m,\u001b[0m \u001b[1;33m**\u001b[0m\u001b[0mfit_params\u001b[0m\u001b[1;33m)\u001b[0m\u001b[1;33m\u001b[0m\u001b[1;33m\u001b[0m\u001b[0m\n",
      "\u001b[1;32m~\\anaconda3\\lib\\site-packages\\sklearn\\ensemble\\_gb.py\u001b[0m in \u001b[0;36mfit\u001b[1;34m(self, X, y, sample_weight, monitor)\u001b[0m\n\u001b[0;32m    584\u001b[0m \u001b[1;33m\u001b[0m\u001b[0m\n\u001b[0;32m    585\u001b[0m         \u001b[1;31m# fit the boosting stages\u001b[0m\u001b[1;33m\u001b[0m\u001b[1;33m\u001b[0m\u001b[0m\n\u001b[1;32m--> 586\u001b[1;33m         n_stages = self._fit_stages(\n\u001b[0m\u001b[0;32m    587\u001b[0m             \u001b[0mX\u001b[0m\u001b[1;33m,\u001b[0m\u001b[1;33m\u001b[0m\u001b[1;33m\u001b[0m\u001b[0m\n\u001b[0;32m    588\u001b[0m             \u001b[0my\u001b[0m\u001b[1;33m,\u001b[0m\u001b[1;33m\u001b[0m\u001b[1;33m\u001b[0m\u001b[0m\n",
      "\u001b[1;32m~\\anaconda3\\lib\\site-packages\\sklearn\\ensemble\\_gb.py\u001b[0m in \u001b[0;36m_fit_stages\u001b[1;34m(self, X, y, raw_predictions, sample_weight, random_state, X_val, y_val, sample_weight_val, begin_at_stage, monitor)\u001b[0m\n\u001b[0;32m    661\u001b[0m \u001b[1;33m\u001b[0m\u001b[0m\n\u001b[0;32m    662\u001b[0m             \u001b[1;31m# fit next stage of trees\u001b[0m\u001b[1;33m\u001b[0m\u001b[1;33m\u001b[0m\u001b[0m\n\u001b[1;32m--> 663\u001b[1;33m             raw_predictions = self._fit_stage(\n\u001b[0m\u001b[0;32m    664\u001b[0m                 \u001b[0mi\u001b[0m\u001b[1;33m,\u001b[0m\u001b[1;33m\u001b[0m\u001b[1;33m\u001b[0m\u001b[0m\n\u001b[0;32m    665\u001b[0m                 \u001b[0mX\u001b[0m\u001b[1;33m,\u001b[0m\u001b[1;33m\u001b[0m\u001b[1;33m\u001b[0m\u001b[0m\n",
      "\u001b[1;32m~\\anaconda3\\lib\\site-packages\\sklearn\\ensemble\\_gb.py\u001b[0m in \u001b[0;36m_fit_stage\u001b[1;34m(self, i, X, y, raw_predictions, sample_weight, sample_mask, random_state, X_csc, X_csr)\u001b[0m\n\u001b[0;32m    244\u001b[0m \u001b[1;33m\u001b[0m\u001b[0m\n\u001b[0;32m    245\u001b[0m             \u001b[0mX\u001b[0m \u001b[1;33m=\u001b[0m \u001b[0mX_csr\u001b[0m \u001b[1;32mif\u001b[0m \u001b[0mX_csr\u001b[0m \u001b[1;32mis\u001b[0m \u001b[1;32mnot\u001b[0m \u001b[1;32mNone\u001b[0m \u001b[1;32melse\u001b[0m \u001b[0mX\u001b[0m\u001b[1;33m\u001b[0m\u001b[1;33m\u001b[0m\u001b[0m\n\u001b[1;32m--> 246\u001b[1;33m             \u001b[0mtree\u001b[0m\u001b[1;33m.\u001b[0m\u001b[0mfit\u001b[0m\u001b[1;33m(\u001b[0m\u001b[0mX\u001b[0m\u001b[1;33m,\u001b[0m \u001b[0mresidual\u001b[0m\u001b[1;33m,\u001b[0m \u001b[0msample_weight\u001b[0m\u001b[1;33m=\u001b[0m\u001b[0msample_weight\u001b[0m\u001b[1;33m,\u001b[0m \u001b[0mcheck_input\u001b[0m\u001b[1;33m=\u001b[0m\u001b[1;32mFalse\u001b[0m\u001b[1;33m)\u001b[0m\u001b[1;33m\u001b[0m\u001b[1;33m\u001b[0m\u001b[0m\n\u001b[0m\u001b[0;32m    247\u001b[0m \u001b[1;33m\u001b[0m\u001b[0m\n\u001b[0;32m    248\u001b[0m             \u001b[1;31m# update tree leaves\u001b[0m\u001b[1;33m\u001b[0m\u001b[1;33m\u001b[0m\u001b[0m\n",
      "\u001b[1;32m~\\anaconda3\\lib\\site-packages\\sklearn\\tree\\_classes.py\u001b[0m in \u001b[0;36mfit\u001b[1;34m(self, X, y, sample_weight, check_input, X_idx_sorted)\u001b[0m\n\u001b[0;32m   1313\u001b[0m         \"\"\"\n\u001b[0;32m   1314\u001b[0m \u001b[1;33m\u001b[0m\u001b[0m\n\u001b[1;32m-> 1315\u001b[1;33m         super().fit(\n\u001b[0m\u001b[0;32m   1316\u001b[0m             \u001b[0mX\u001b[0m\u001b[1;33m,\u001b[0m\u001b[1;33m\u001b[0m\u001b[1;33m\u001b[0m\u001b[0m\n\u001b[0;32m   1317\u001b[0m             \u001b[0my\u001b[0m\u001b[1;33m,\u001b[0m\u001b[1;33m\u001b[0m\u001b[1;33m\u001b[0m\u001b[0m\n",
      "\u001b[1;32m~\\anaconda3\\lib\\site-packages\\sklearn\\tree\\_classes.py\u001b[0m in \u001b[0;36mfit\u001b[1;34m(self, X, y, sample_weight, check_input, X_idx_sorted)\u001b[0m\n\u001b[0;32m    418\u001b[0m             )\n\u001b[0;32m    419\u001b[0m \u001b[1;33m\u001b[0m\u001b[0m\n\u001b[1;32m--> 420\u001b[1;33m         \u001b[0mbuilder\u001b[0m\u001b[1;33m.\u001b[0m\u001b[0mbuild\u001b[0m\u001b[1;33m(\u001b[0m\u001b[0mself\u001b[0m\u001b[1;33m.\u001b[0m\u001b[0mtree_\u001b[0m\u001b[1;33m,\u001b[0m \u001b[0mX\u001b[0m\u001b[1;33m,\u001b[0m \u001b[0my\u001b[0m\u001b[1;33m,\u001b[0m \u001b[0msample_weight\u001b[0m\u001b[1;33m)\u001b[0m\u001b[1;33m\u001b[0m\u001b[1;33m\u001b[0m\u001b[0m\n\u001b[0m\u001b[0;32m    421\u001b[0m \u001b[1;33m\u001b[0m\u001b[0m\n\u001b[0;32m    422\u001b[0m         \u001b[1;32mif\u001b[0m \u001b[0mself\u001b[0m\u001b[1;33m.\u001b[0m\u001b[0mn_outputs_\u001b[0m \u001b[1;33m==\u001b[0m \u001b[1;36m1\u001b[0m \u001b[1;32mand\u001b[0m \u001b[0mis_classifier\u001b[0m\u001b[1;33m(\u001b[0m\u001b[0mself\u001b[0m\u001b[1;33m)\u001b[0m\u001b[1;33m:\u001b[0m\u001b[1;33m\u001b[0m\u001b[1;33m\u001b[0m\u001b[0m\n",
      "\u001b[1;31mKeyboardInterrupt\u001b[0m: "
     ]
    }
   ],
   "source": [
    "#Gradient Boosting, optimizing n_estimators\n",
    "\n",
    "count = 0\n",
    "\n",
    "GBestimators = [1000, 5000, 10000]\n",
    "GBscorearray = [0]*3\n",
    "\n",
    "tuned_parameters = {'n_estimators': GBestimators}\n",
    "\n",
    "print(\"# Tuning for recall\\n\")\n",
    "\n",
    "clf = GridSearchCV(GB(n_estimators=n, learning_rate=0.1, max_depth=2), \n",
    "                   tuned_parameters,cv=3, scoring='recall').fit(xtrain_tfidf, train_y)\n",
    "\n",
    "print(\"Best parameters set found on train set: \")\n",
    "print(clf.best_params_)\n",
    "print(\"\\nGrid scores on train set:\\n\")\n",
    "    \n",
    "means = clf.cv_results_['mean_test_score']\n",
    "stds = clf.cv_results_['std_test_score']\n",
    "for mean, std, params in zip(means, stds, clf.cv_results_['params']):\n",
    "    print(\"%0.3f (+/-%0.03f) for %r\" % (mean, std * 2, params))\n",
    "        \n",
    "    GBcalc = GB(n_estimators=GBestimators[count], learning_rate=0.1, max_depth=2)\n",
    "    GBres = GBcalc.fit(xtrain_tfidf, train_y)\n",
    "    GBscorearray[count] = GBres.score(xvalid_tfidf, valid_y)\n",
    "    count=count+1\n",
    "                     \n",
    "print(\"\\nClassification Report:\\n\")\n",
    "print(classification_report(valid_y, clf.predict(xvalid_tfidf)))"
   ]
  },
  {
   "cell_type": "code",
   "execution_count": 158,
   "id": "1205d552",
   "metadata": {},
   "outputs": [
    {
     "data": {
      "text/plain": [
       "[0.9428106619947441,\n",
       " 0.9443123513953198,\n",
       " 0.9454386184457515,\n",
       " 0.9501939682142411]"
      ]
     },
     "execution_count": 158,
     "metadata": {},
     "output_type": "execute_result"
    }
   ],
   "source": [
    "GBscorearray"
   ]
  },
  {
   "cell_type": "code",
   "execution_count": 162,
   "id": "ab0e590c",
   "metadata": {},
   "outputs": [
    {
     "name": "stdout",
     "output_type": "stream",
     "text": [
      "1. trump (0.009604)\n",
      "2. polit (0.009452)\n",
      "3. liber (0.008127)\n",
      "4. racist (0.007959)\n",
      "5. libtard (0.007803)\n",
      "6. white (0.007722)\n",
      "7. sjw (0.007333)\n",
      "8. allahsoil (0.007131)\n",
      "9. black (0.006304)\n",
      "10. s (0.004860)\n"
     ]
    },
    {
     "data": {
      "image/png": "[encoded data removed]",
      "text/plain": [
       "<Figure size 1080x504 with 1 Axes>"
      ]
     },
     "metadata": {
      "needs_background": "light"
     },
     "output_type": "display_data"
    }
   ],
   "source": [
    "#Important Feature results from RF\n",
    "RFcalc = RF(n_estimators=125, max_depth=None, max_features=math.floor(math.sqrt(n_features)), min_samples_split = 2)\n",
    "RFres = RFcalc.fit(xtrain_tfidf, train_y)\n",
    "importances = RFres.feature_importances_ \n",
    "\n",
    "top10v = np.sort(importances)[-10:][::-1] \n",
    "top10n = np.argsort(importances)[-10:][::-1] \n",
    "\n",
    "feature_names = np.asarray(tfidf_vect.get_feature_names()) \n",
    "\n",
    "for f in range(10):\n",
    "    print(\"%d. %s (%f)\" % (f + 1, feature_names[top10n[f]], top10v[f]))\n",
    "\n",
    "plt.figure(figsize=(15,7))\n",
    "plt.title(\"Feature Importance Chart\",  fontsize=20)\n",
    "plt.bar(feature_names[top10n], top10v, color=\"r\")\n",
    "plt.xticks(fontsize= 15)\n",
    "plt.show()"
   ]
  },
  {
   "cell_type": "markdown",
   "id": "9184f51d",
   "metadata": {},
   "source": [
    "# Summary\n",
    "\n",
    "First step: data was cleaned of bad text, links, unnecessary spaces, and anything else that wasn't necessary.\n",
    "Second, the clean data was split into training and test data by train_test_split.\n",
    "This turned train_x and valid_x into trainx_tfidf and validx_tfidf\n",
    "The train_x and valid_x (tweet content) were vectorized by word. stop_words were a generic English list for now.\n",
    "\n",
    "We determined that the best fitting synthetic oversampling algorithm for our project is SMOTE.\n",
    "xtrain_tfidf and train_y were oversampled via oversample.fit_resample().\n",
    "The proportion of hate speech vs not hate speech was tested after the oversampling.\n",
    "After oversampling, the two new training sets had an equal proportion of hate speech vs not. Success!\n",
    "\n",
    "For each algorithm, we decided to score using recall to minimize Type II errors.\n",
    "\n",
    "\n",
    "kNN was tuned to n_neighbors using GridSearchCV.\n",
    "The optimal n_neighbors value was calculated to be 2 with a classification score of 0.941934676511075.\n",
    "A graph was created to show relationship between n_neighbors and classification accuracy.\n",
    "\n",
    "SVC was tuned by the C value, again using GridSearchCV.\n",
    "Optimal C value was calculated to be 10 with a classification accuracy of 0.9624577649856088.\n",
    "A graph was created to show relationship between C and classification accuracy.\n",
    "\n",
    "Multinominal Naive Bayes was tuned to the alpha parameter using a fine grid in GridSearchCV.\n",
    "Optimal alpha value was calculated to be 0.0088 with a classification accuracy of 0.9449380553122263.\n",
    "A graph was created to show relationship between alpha and classification accuracy.\n",
    "Using these results, we calculated the top 10 words by weight for each classification, as follows:\n",
    "Not Hate Speech: ['love' 'day' 's' 'thank' 'thi' 'happi' 't' 'posit' 'u' 'time']\n",
    "Hate Speech: ['libtard' 'trump' 'white' 'black' 's' 't' 'like' 'thi' 'racist' 'liber']\n",
    "\n",
    "Random Forest was optimized by n_estimators using GridSearchCV.\n",
    "Because of the time RF takes to process, I haven't found a precise value for n_estimators yet.\n",
    "I know that the optimal value is between 120 and 130.\n",
    "125 n_neighbors has been the highest scoring so far, with a classification accuracy of 0.9544487548492053.\n",
    "\n",
    "Gradient Boosting was optimized by n_estimators using GridSearchCV.\n",
    "Because of the time GB takes to process, I haven't found a precise value for n_estimators yet.\n",
    "I know that the optimal value is probably above 300.\n",
    "\n",
    "\n",
    "Best scores so far:\n",
    "kNN : 0.941934676511075, n_neighbors = 2\n",
    "SVC : 0.9624577649856088, C = 10\n",
    "NB  : 0.9449380553122263, alpha = 0.0088\n",
    "RF  : 0.9544487548492053, n_estimators = 125\n",
    "GB  : 0.9501939682142411, n_estimators = 300"
   ]
  },
  {
   "cell_type": "code",
   "execution_count": null,
   "id": "2fbe9c3e",
   "metadata": {},
   "outputs": [],
   "source": [
    "trumptest.s"
   ]
  },
  {
   "cell_type": "code",
   "execution_count": 24,
   "id": "554b92f9",
   "metadata": {},
   "outputs": [
    {
     "name": "stderr",
     "output_type": "stream",
     "text": [
      "/Users/akiratachibana/opt/anaconda3/lib/python3.9/site-packages/bs4/__init__.py:431: MarkupResemblesLocatorWarning: \"https://www.whitehouse.gov/openingamerica/\" looks like a URL. Beautiful Soup is not an HTTP client. You should probably use an HTTP client like requests to get the document behind the URL, and feed that document to Beautiful Soup.\n",
      "  warnings.warn(\n"
     ]
    }
   ],
   "source": [
    "nums = [0,len(trumptest)]\n",
    "clean_tweet_texts = []\n",
    "for i in range(nums[1]):\n",
    "    clean_tweet_texts.append(tweet_cleaner(trumptest[i]))\n",
    "   \n",
    "trump_clean = pd.DataFrame(clean_tweet_texts,columns=['tweet'])"
   ]
  },
  {
   "cell_type": "code",
   "execution_count": 25,
   "id": "790c93fd",
   "metadata": {},
   "outputs": [],
   "source": [
    "trump_clean['label'] = \"\""
   ]
  },
  {
   "cell_type": "code",
   "execution_count": 26,
   "id": "5cb21b4d",
   "metadata": {},
   "outputs": [
    {
     "data": {
      "text/html": [
       "<div>\n",
       "<style scoped>\n",
       "    .dataframe tbody tr th:only-of-type {\n",
       "        vertical-align: middle;\n",
       "    }\n",
       "\n",
       "    .dataframe tbody tr th {\n",
       "        vertical-align: top;\n",
       "    }\n",
       "\n",
       "    .dataframe thead th {\n",
       "        text-align: right;\n",
       "    }\n",
       "</style>\n",
       "<table border=\"1\" class=\"dataframe\">\n",
       "  <thead>\n",
       "    <tr style=\"text-align: right;\">\n",
       "      <th></th>\n",
       "      <th>tweet</th>\n",
       "      <th>label</th>\n",
       "    </tr>\n",
       "  </thead>\n",
       "  <tbody>\n",
       "    <tr>\n",
       "      <th>0</th>\n",
       "      <td>be sure to tune in and watch donald trump on l...</td>\n",
       "      <td></td>\n",
       "    </tr>\n",
       "    <tr>\n",
       "      <th>1</th>\n",
       "      <td>donald trump will be appear on the view tomorr...</td>\n",
       "      <td></td>\n",
       "    </tr>\n",
       "    <tr>\n",
       "      <th>2</th>\n",
       "      <td>donald trump read top ten financi tip on late ...</td>\n",
       "      <td></td>\n",
       "    </tr>\n",
       "    <tr>\n",
       "      <th>3</th>\n",
       "      <td>new blog post celebr apprentic final and lesso...</td>\n",
       "      <td></td>\n",
       "    </tr>\n",
       "    <tr>\n",
       "      <th>4</th>\n",
       "      <td>my persona will never be that of a wallflow i ...</td>\n",
       "      <td></td>\n",
       "    </tr>\n",
       "  </tbody>\n",
       "</table>\n",
       "</div>"
      ],
      "text/plain": [
       "                                               tweet label\n",
       "0  be sure to tune in and watch donald trump on l...      \n",
       "1  donald trump will be appear on the view tomorr...      \n",
       "2  donald trump read top ten financi tip on late ...      \n",
       "3  new blog post celebr apprentic final and lesso...      \n",
       "4  my persona will never be that of a wallflow i ...      "
      ]
     },
     "execution_count": 26,
     "metadata": {},
     "output_type": "execute_result"
    }
   ],
   "source": [
    "trump_clean.head()"
   ]
  },
  {
   "cell_type": "code",
   "execution_count": 49,
   "id": "c8bff0ac",
   "metadata": {},
   "outputs": [],
   "source": [
    "tfidf_vect.fit(trump_clean['tweet'])\n",
    "trump_tfidf =  tfidf_vect.transform(trump_clean)"
   ]
  },
  {
   "cell_type": "code",
   "execution_count": 53,
   "id": "11e142a3",
   "metadata": {},
   "outputs": [],
   "source": [
    "xtrain_array = xtrain_tfidf.toarray()\n",
    "trump_array = trump_tfidf.toarray()"
   ]
  },
  {
   "cell_type": "code",
   "execution_count": 56,
   "id": "3f756fb5",
   "metadata": {},
   "outputs": [
    {
     "ename": "ValueError",
     "evalue": "Shape of passed values is (44540, 31216), indices imply (44540, 3)",
     "output_type": "error",
     "traceback": [
      "\u001b[1;31m---------------------------------------------------------------------------\u001b[0m",
      "\u001b[1;31mValueError\u001b[0m                                Traceback (most recent call last)",
      "\u001b[1;32m~\\AppData\\Local\\Temp/ipykernel_72468/2593525965.py\u001b[0m in \u001b[0;36m<module>\u001b[1;34m\u001b[0m\n\u001b[1;32m----> 1\u001b[1;33m \u001b[0mxtrain_tfidf\u001b[0m \u001b[1;33m=\u001b[0m \u001b[0mpd\u001b[0m\u001b[1;33m.\u001b[0m\u001b[0mDataFrame\u001b[0m\u001b[1;33m(\u001b[0m\u001b[0mxtrain_array\u001b[0m\u001b[1;33m,\u001b[0m \u001b[0mcolumns\u001b[0m\u001b[1;33m=\u001b[0m\u001b[1;33m[\u001b[0m\u001b[1;34m'id'\u001b[0m\u001b[1;33m,\u001b[0m\u001b[1;34m'label'\u001b[0m\u001b[1;33m,\u001b[0m\u001b[1;34m'tweet'\u001b[0m\u001b[1;33m]\u001b[0m\u001b[1;33m)\u001b[0m\u001b[1;33m\u001b[0m\u001b[1;33m\u001b[0m\u001b[0m\n\u001b[0m",
      "\u001b[1;32m~\\anaconda3\\lib\\site-packages\\pandas\\core\\frame.py\u001b[0m in \u001b[0;36m__init__\u001b[1;34m(self, data, index, columns, dtype, copy)\u001b[0m\n\u001b[0;32m    670\u001b[0m                 )\n\u001b[0;32m    671\u001b[0m             \u001b[1;32melse\u001b[0m\u001b[1;33m:\u001b[0m\u001b[1;33m\u001b[0m\u001b[1;33m\u001b[0m\u001b[0m\n\u001b[1;32m--> 672\u001b[1;33m                 mgr = ndarray_to_mgr(\n\u001b[0m\u001b[0;32m    673\u001b[0m                     \u001b[0mdata\u001b[0m\u001b[1;33m,\u001b[0m\u001b[1;33m\u001b[0m\u001b[1;33m\u001b[0m\u001b[0m\n\u001b[0;32m    674\u001b[0m                     \u001b[0mindex\u001b[0m\u001b[1;33m,\u001b[0m\u001b[1;33m\u001b[0m\u001b[1;33m\u001b[0m\u001b[0m\n",
      "\u001b[1;32m~\\anaconda3\\lib\\site-packages\\pandas\\core\\internals\\construction.py\u001b[0m in \u001b[0;36mndarray_to_mgr\u001b[1;34m(values, index, columns, dtype, copy, typ)\u001b[0m\n\u001b[0;32m    322\u001b[0m     )\n\u001b[0;32m    323\u001b[0m \u001b[1;33m\u001b[0m\u001b[0m\n\u001b[1;32m--> 324\u001b[1;33m     \u001b[0m_check_values_indices_shape_match\u001b[0m\u001b[1;33m(\u001b[0m\u001b[0mvalues\u001b[0m\u001b[1;33m,\u001b[0m \u001b[0mindex\u001b[0m\u001b[1;33m,\u001b[0m \u001b[0mcolumns\u001b[0m\u001b[1;33m)\u001b[0m\u001b[1;33m\u001b[0m\u001b[1;33m\u001b[0m\u001b[0m\n\u001b[0m\u001b[0;32m    325\u001b[0m \u001b[1;33m\u001b[0m\u001b[0m\n\u001b[0;32m    326\u001b[0m     \u001b[1;32mif\u001b[0m \u001b[0mtyp\u001b[0m \u001b[1;33m==\u001b[0m \u001b[1;34m\"array\"\u001b[0m\u001b[1;33m:\u001b[0m\u001b[1;33m\u001b[0m\u001b[1;33m\u001b[0m\u001b[0m\n",
      "\u001b[1;32m~\\anaconda3\\lib\\site-packages\\pandas\\core\\internals\\construction.py\u001b[0m in \u001b[0;36m_check_values_indices_shape_match\u001b[1;34m(values, index, columns)\u001b[0m\n\u001b[0;32m    391\u001b[0m         \u001b[0mpassed\u001b[0m \u001b[1;33m=\u001b[0m \u001b[0mvalues\u001b[0m\u001b[1;33m.\u001b[0m\u001b[0mshape\u001b[0m\u001b[1;33m\u001b[0m\u001b[1;33m\u001b[0m\u001b[0m\n\u001b[0;32m    392\u001b[0m         \u001b[0mimplied\u001b[0m \u001b[1;33m=\u001b[0m \u001b[1;33m(\u001b[0m\u001b[0mlen\u001b[0m\u001b[1;33m(\u001b[0m\u001b[0mindex\u001b[0m\u001b[1;33m)\u001b[0m\u001b[1;33m,\u001b[0m \u001b[0mlen\u001b[0m\u001b[1;33m(\u001b[0m\u001b[0mcolumns\u001b[0m\u001b[1;33m)\u001b[0m\u001b[1;33m)\u001b[0m\u001b[1;33m\u001b[0m\u001b[1;33m\u001b[0m\u001b[0m\n\u001b[1;32m--> 393\u001b[1;33m         \u001b[1;32mraise\u001b[0m \u001b[0mValueError\u001b[0m\u001b[1;33m(\u001b[0m\u001b[1;34mf\"Shape of passed values is {passed}, indices imply {implied}\"\u001b[0m\u001b[1;33m)\u001b[0m\u001b[1;33m\u001b[0m\u001b[1;33m\u001b[0m\u001b[0m\n\u001b[0m\u001b[0;32m    394\u001b[0m \u001b[1;33m\u001b[0m\u001b[0m\n\u001b[0;32m    395\u001b[0m \u001b[1;33m\u001b[0m\u001b[0m\n",
      "\u001b[1;31mValueError\u001b[0m: Shape of passed values is (44540, 31216), indices imply (44540, 3)"
     ]
    }
   ],
   "source": [
    "xtrain_tfidf = pd.DataFrame(xtrain_array, columns=['id','label','tweet'])"
   ]
  },
  {
   "cell_type": "code",
   "execution_count": null,
   "id": "bf66e890",
   "metadata": {},
   "outputs": [],
   "source": []
  },
  {
   "cell_type": "code",
   "execution_count": 45,
   "id": "9cc89d12",
   "metadata": {},
   "outputs": [],
   "source": [
    "missingcols = set(xtrain_tfidf.columns) - set(trump_tfidf.columns)\n",
    "for c in missingcols:\n",
    "    trump_tfidf[c] = 0\n",
    "trump_tfidf = trump_tfidf[xtrain_tfidf.columns]"
   ]
  },
  {
   "cell_type": "code",
   "execution_count": 26,
   "id": "af5b0747",
   "metadata": {},
   "outputs": [],
   "source": [
    "SVCres = SVC(C = 10).fit(xtrain_tfidf, train_y)"
   ]
  },
  {
   "cell_type": "code",
   "execution_count": 37,
   "id": "e24fd313",
   "metadata": {},
   "outputs": [
    {
     "data": {
      "text/html": [
       "<div>\n",
       "<style scoped>\n",
       "    .dataframe tbody tr th:only-of-type {\n",
       "        vertical-align: middle;\n",
       "    }\n",
       "\n",
       "    .dataframe tbody tr th {\n",
       "        vertical-align: top;\n",
       "    }\n",
       "\n",
       "    .dataframe thead th {\n",
       "        text-align: right;\n",
       "    }\n",
       "</style>\n",
       "<table border=\"1\" class=\"dataframe\">\n",
       "  <thead>\n",
       "    <tr style=\"text-align: right;\">\n",
       "      <th></th>\n",
       "      <th>tweet</th>\n",
       "      <th>label</th>\n",
       "      <th>id</th>\n",
       "    </tr>\n",
       "  </thead>\n",
       "  <tbody>\n",
       "    <tr>\n",
       "      <th>0</th>\n",
       "      <td>when a father is dysfunct and is so selfish he...</td>\n",
       "      <td>0</td>\n",
       "      <td>1</td>\n",
       "    </tr>\n",
       "    <tr>\n",
       "      <th>1</th>\n",
       "      <td>thank for lyft credit i can t use caus they do...</td>\n",
       "      <td>0</td>\n",
       "      <td>2</td>\n",
       "    </tr>\n",
       "    <tr>\n",
       "      <th>2</th>\n",
       "      <td>bihday your majesti</td>\n",
       "      <td>0</td>\n",
       "      <td>3</td>\n",
       "    </tr>\n",
       "    <tr>\n",
       "      <th>3</th>\n",
       "      <td>model i love u take with u all the time in ur</td>\n",
       "      <td>0</td>\n",
       "      <td>4</td>\n",
       "    </tr>\n",
       "    <tr>\n",
       "      <th>4</th>\n",
       "      <td>factsguid societi now motiv</td>\n",
       "      <td>0</td>\n",
       "      <td>5</td>\n",
       "    </tr>\n",
       "    <tr>\n",
       "      <th>...</th>\n",
       "      <td>...</td>\n",
       "      <td>...</td>\n",
       "      <td>...</td>\n",
       "    </tr>\n",
       "    <tr>\n",
       "      <th>31957</th>\n",
       "      <td>ate isz that youuu</td>\n",
       "      <td>0</td>\n",
       "      <td>31958</td>\n",
       "    </tr>\n",
       "    <tr>\n",
       "      <th>31958</th>\n",
       "      <td>to see nina turner on the airwav tri to wrap h...</td>\n",
       "      <td>0</td>\n",
       "      <td>31959</td>\n",
       "    </tr>\n",
       "    <tr>\n",
       "      <th>31959</th>\n",
       "      <td>listen to sad song on a monday morn otw to wor...</td>\n",
       "      <td>0</td>\n",
       "      <td>31960</td>\n",
       "    </tr>\n",
       "    <tr>\n",
       "      <th>31960</th>\n",
       "      <td>sikh templ vandalis in in calgari wso condemn act</td>\n",
       "      <td>1</td>\n",
       "      <td>31961</td>\n",
       "    </tr>\n",
       "    <tr>\n",
       "      <th>31961</th>\n",
       "      <td>thank you for you follow</td>\n",
       "      <td>0</td>\n",
       "      <td>31962</td>\n",
       "    </tr>\n",
       "  </tbody>\n",
       "</table>\n",
       "<p>31962 rows × 3 columns</p>\n",
       "</div>"
      ],
      "text/plain": [
       "                                                   tweet  label     id\n",
       "0      when a father is dysfunct and is so selfish he...      0      1\n",
       "1      thank for lyft credit i can t use caus they do...      0      2\n",
       "2                                    bihday your majesti      0      3\n",
       "3          model i love u take with u all the time in ur      0      4\n",
       "4                            factsguid societi now motiv      0      5\n",
       "...                                                  ...    ...    ...\n",
       "31957                                 ate isz that youuu      0  31958\n",
       "31958  to see nina turner on the airwav tri to wrap h...      0  31959\n",
       "31959  listen to sad song on a monday morn otw to wor...      0  31960\n",
       "31960  sikh templ vandalis in in calgari wso condemn act      1  31961\n",
       "31961                           thank you for you follow      0  31962\n",
       "\n",
       "[31962 rows x 3 columns]"
      ]
     },
     "execution_count": 37,
     "metadata": {},
     "output_type": "execute_result"
    }
   ],
   "source": [
    "train_clean"
   ]
  },
  {
   "cell_type": "code",
   "execution_count": null,
   "id": "3af28f33",
   "metadata": {},
   "outputs": [],
   "source": []
  }
 ],
 "metadata": {
  "kernelspec": {
   "display_name": "Python 3 (ipykernel)",
   "language": "python",
   "name": "python3"
  },
  "language_info": {
   "codemirror_mode": {
    "name": "ipython",
    "version": 3
   },
   "file_extension": ".py",
   "mimetype": "text/x-python",
   "name": "python",
   "nbconvert_exporter": "python",
   "pygments_lexer": "ipython3",
   "version": "3.9.7"
  }
 },
 "nbformat": 4,
 "nbformat_minor": 5
}
