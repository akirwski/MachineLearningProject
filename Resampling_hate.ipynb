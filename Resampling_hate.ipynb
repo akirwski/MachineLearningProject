{
 "cells": [
  {
   "cell_type": "code",
   "execution_count": 1,
   "id": "cfe08c30",
   "metadata": {},
   "outputs": [],
   "source": [
    "#reference\n",
    "#https://medium.com/analytics-vidhya/re-sampling-imbalanced-training-corpus-for-sentiment-analysis-c9dc97f9eae1\n",
    "#https://machinelearningmastery.com/random-oversampling-and-undersampling-for-imbalanced-classification/\n",
    "#https://www.datasciencecentral.com/handling-imbalanced-data-sets-in-supervised-learning-using-family/\n",
    "#https://towardsdatascience.com/comparative-analysis-of-oversampling-techniques-on-imbalanced-data-cd46f172d49d\n",
    "#https://stackoverflow.com/questions/62658215/convergencewarning-lbfgs-failed-to-converge-status-1-stop-total-no-of-iter\n",
    "#python\n",
    "#https://imbalanced-learn.org/stable/references/generated/imblearn.over_sampling.RandomOverSampler.html#imblearn.over_sampling.RandomOverSampler.fit_resample\n",
    "#https://pypi.org/project/imbalanced-learn/\n",
    "\n",
    "#details on ADASYN\n",
    "#https://medium.com/@ruinian/an-introduction-to-adasyn-with-code-1383a5ece7aa\n",
    "#https://medium.com/quantyca/oversampling-and-undersampling-adasyn-vs-enn-60828a58db39\n"
   ]
  },
  {
   "cell_type": "code",
   "execution_count": 2,
   "id": "a76a38d6",
   "metadata": {},
   "outputs": [],
   "source": [
    "from sklearn import model_selection, preprocessing, metrics, linear_model, svm\n",
    "from sklearn.feature_extraction.text import TfidfVectorizer, CountVectorizer\n",
    "from imblearn.over_sampling import BorderlineSMOTE, SMOTE, ADASYN, SMOTENC, RandomOverSampler\n",
    "from imblearn.under_sampling import (RandomUnderSampler, \n",
    "                                    NearMiss, \n",
    "                                    InstanceHardnessThreshold,\n",
    "                                    CondensedNearestNeighbour,\n",
    "                                    EditedNearestNeighbours,\n",
    "                                    RepeatedEditedNearestNeighbours,\n",
    "                                    AllKNN,\n",
    "                                    NeighbourhoodCleaningRule,\n",
    "                                    OneSidedSelection,\n",
    "                                    TomekLinks)\n",
    "from imblearn.combine import SMOTEENN, SMOTETomek\n",
    "from imblearn.pipeline import make_pipeline\n",
    "import pandas as pd, numpy, string\n",
    "from nltk.tokenize import WordPunctTokenizer\n",
    "from nltk.stem import PorterStemmer\n",
    "from bs4 import BeautifulSoup\n",
    "\n",
    "#Remove Special Charactors\n",
    "import re\n",
    "from nltk.tokenize import WordPunctTokenizer\n",
    "from nltk.stem import PorterStemmer\n",
    "from bs4 import BeautifulSoup\n",
    "\n",
    "\n",
    "#pipeline\n",
    "from numpy import where\n",
    "from matplotlib import pyplot"
   ]
  },
  {
   "cell_type": "code",
   "execution_count": 3,
   "id": "b0b85bc1",
   "metadata": {},
   "outputs": [],
   "source": [
    "#randome forest\n",
    "from sklearn.ensemble import RandomForestClassifier\n",
    "from sklearn.metrics import classification_report"
   ]
  },
  {
   "cell_type": "code",
   "execution_count": 4,
   "id": "8c24e651",
   "metadata": {},
   "outputs": [],
   "source": [
    "#Resampling_Pipeline function\n",
    "from imblearn.pipeline import Pipeline\n",
    "from sklearn.model_selection import GridSearchCV\n",
    "import matplotlib.pyplot as plt\n",
    "from matplotlib.gridspec import GridSpec\n",
    "from sklearn.ensemble import RandomForestClassifier as RF"
   ]
  },
  {
   "cell_type": "code",
   "execution_count": 5,
   "id": "3d903572",
   "metadata": {},
   "outputs": [
    {
     "name": "stdout",
     "output_type": "stream",
     "text": [
      "Training Set: (31962, 3) 31962\n"
     ]
    }
   ],
   "source": [
    "import os\n",
    "os.chdir('/Users/akiratachibana/Downloads/Classes/ECON4763/Project')\n",
    "\n",
    "import numpy as np\n",
    "import pandas as pd\n",
    "import math\n",
    "from sklearn.model_selection import train_test_split\n",
    "\n",
    "\n",
    "#Import Training and Testing Data\n",
    "train = pd.read_csv('hate_dataset.csv')\n",
    "print(\"Training Set:\"% train.columns, train.shape, len(train))"
   ]
  },
  {
   "cell_type": "code",
   "execution_count": 6,
   "id": "3113d473",
   "metadata": {},
   "outputs": [],
   "source": [
    "#data cleaning\n",
    "porter=PorterStemmer()\n",
    "tok = WordPunctTokenizer()\n",
    "pat1 = r'@[A-Za-z0-9]+'\n",
    "pat2 = r'https?://[A-Za-z0-9./]+'\n",
    "combined_pat = r'|'.join((pat1, pat2))\n",
    "def tweet_cleaner(text):\n",
    "    soup = BeautifulSoup(text, 'lxml')\n",
    "    souped = soup.get_text()\n",
    "    stripped = re.sub(combined_pat, '', souped)\n",
    "    try:\n",
    "        clean = stripped.decode(\"utf-8-sig\").replace(u\"\\ufffd\", \"?\")\n",
    "    except:\n",
    "        clean = stripped\n",
    "    letters_only = re.sub(\"[^a-zA-Z]\", \" \", clean)\n",
    "    lower_case = letters_only.lower()\n",
    "    # During the letters_only process two lines above, it has created unnecessay white spaces,\n",
    "    # I will tokenize and join together to remove unneccessary white spaces\n",
    "    words = tok.tokenize(lower_case)\n",
    "    #Stemming\n",
    "    stem_sentence=[]\n",
    "    for word in words:\n",
    "        stem_sentence.append(porter.stem(word))\n",
    "        stem_sentence.append(\" \")\n",
    "    words=\"\".join(stem_sentence).strip()\n",
    "    return words\n",
    "\n",
    "nums = [0,len(train)]\n",
    "clean_tweet_texts = []\n",
    "for i in range(nums[0],nums[1]):\n",
    "    clean_tweet_texts.append(tweet_cleaner(train['tweet'][i]))\n",
    "\n",
    "    \n",
    "train_clean = pd.DataFrame(clean_tweet_texts,columns=['tweet'])\n",
    "train_clean['label'] = train.label\n",
    "train_clean['id'] = train.id\n",
    "\n"
   ]
  },
  {
   "cell_type": "code",
   "execution_count": 7,
   "id": "f4cc74c5",
   "metadata": {},
   "outputs": [],
   "source": [
    "#split the dataset into training and validation datasets \n",
    "train_x, valid_x, train_y, valid_y = model_selection.train_test_split(train_clean['tweet'],train_clean['label'])\n",
    "\n",
    "#label encode the target variable \n",
    "encoder = preprocessing.LabelEncoder()\n",
    "train_y = encoder.fit_transform(train_y)\n",
    "valid_y = encoder.fit_transform(valid_y)"
   ]
  },
  {
   "cell_type": "code",
   "execution_count": 8,
   "id": "f2f25066",
   "metadata": {},
   "outputs": [],
   "source": [
    "# word level tf-idf\n",
    "tfidf_vect = TfidfVectorizer(analyzer='word', token_pattern=r'\\w{1,}', max_features=100000)\n",
    "tfidf_vect.fit(train_clean['tweet'])\n",
    "xtrain_tfidf =  tfidf_vect.transform(train_x)\n",
    "xvalid_tfidf =  tfidf_vect.transform(valid_x)"
   ]
  },
  {
   "cell_type": "code",
   "execution_count": 9,
   "id": "6e32b2ad",
   "metadata": {},
   "outputs": [
    {
     "name": "stdout",
     "output_type": "stream",
     "text": [
      "Positive:  92.98542018647143 %\n",
      "Negative:  7.014579813528565 %\n",
      "Positive:  29720\n",
      "Negative:  2242\n"
     ]
    }
   ],
   "source": [
    "#Percentage of Positive/Negative\n",
    "print(\"Positive: \", train.label.value_counts()[0]/len(train)*100,\"%\")\n",
    "print(\"Negative: \", train.label.value_counts()[1]/len(train)*100,\"%\")\n",
    "\n",
    "print(\"Positive: \", train.label.value_counts()[0])\n",
    "print(\"Negative: \", train.label.value_counts()[1])"
   ]
  },
  {
   "cell_type": "markdown",
   "id": "2c3e8240",
   "metadata": {},
   "source": [
    "## <font color='green'> Original model accuracy without resampling"
   ]
  },
  {
   "cell_type": "code",
   "execution_count": 11,
   "id": "2d28db71",
   "metadata": {},
   "outputs": [],
   "source": [
    "#Return the f1 Score\n",
    "def train_model(classifier, feature_vector_train, label, feature_vector_valid):\n",
    "    # fit the training dataset on the classifier\n",
    "    classifier.fit(feature_vector_train, label)\n",
    "    \n",
    "    # predict the labels on validation dataset\n",
    "    predictions = classifier.predict(feature_vector_valid)\n",
    "    \n",
    "    return metrics.f1_score(valid_y,predictions)"
   ]
  },
  {
   "cell_type": "code",
   "execution_count": 12,
   "id": "ed87e12c",
   "metadata": {},
   "outputs": [
    {
     "name": "stdout",
     "output_type": "stream",
     "text": [
      "LR Baseline, WordLevel TFIDF:  0.5446009389671361\n",
      "SVM Baseline, WordLevel TFIDF:  0.6853002070393375\n",
      "RF Baseline, WordLevel TFIDF:  0.6853002070393375\n"
     ]
    }
   ],
   "source": [
    "accuracyORIGINAL_LR = train_model(linear_model.LogisticRegression(random_state=0, solver='lbfgs',multi_class='multinomial'),xtrain_tfidf, train_y, xvalid_tfidf)\n",
    "print (\"LR Baseline, WordLevel TFIDF: \", accuracyORIGINAL_LR)\n",
    "accuracyORIGINAL_SVM = train_model(svm.LinearSVC(), xtrain_tfidf, train_y, xvalid_tfidf)\n",
    "print (\"SVM Baseline, WordLevel TFIDF: \", accuracyORIGINAL_SVM)\n",
    "accuracySMOTE_RF = train_model(RF(), xtrain_tfidf, train_y, xvalid_tfidf)\n",
    "print (\"RF Baseline, WordLevel TFIDF: \", accuracyORIGINAL_SVM)"
   ]
  },
  {
   "cell_type": "code",
   "execution_count": 19,
   "id": "c5a5f7e3",
   "metadata": {},
   "outputs": [],
   "source": [
    "def ResamplingPipe(Model):\n",
    "    score_list_LR = []\n",
    "    score_list_SVM = []\n",
    "    score_list_LR.append(accuracyORIGINAL_LR)\n",
    "    score_list_SVM.append(accuracyORIGINAL_SVM)\n",
    "    ratios = [0.25,0.5,0.75,1]\n",
    "    \n",
    "    for ratio in ratios:\n",
    "        over = Model(sampling_strategy=ratio, random_state=777)\n",
    "        steps = [('o', over)]\n",
    "        pipeline = Pipeline(steps=steps)\n",
    "        new_xtrain_tfidf, new_train_y = pipeline.fit_resample(xtrain_tfidf, train_y)\n",
    "        \n",
    "        accuracySMOTE_LR = train_model(linear_model.LogisticRegression(random_state=0, solver='lbfgs',multi_class='multinomial', max_iter=1000),new_xtrain_tfidf, new_train_y, xvalid_tfidf)\n",
    "        print (\"LR, WordLevel TFIDF: \", accuracySMOTE_LR)\n",
    "        score_list_LR.append(accuracySMOTE_LR)\n",
    "        \n",
    "        accuracySMOTE_SVM = train_model(svm.LinearSVC(),new_xtrain_tfidf, new_train_y, xvalid_tfidf)\n",
    "        print (\"SVM, WordLevel TFIDF: \", accuracySMOTE_SVM)\n",
    "        score_list_SVM.append(accuracySMOTE_SVM)\n",
    "        \n",
    "        \n",
    "        #tuned_params = {'n_estimators': [10, 50, 100, 500, 1000], 'max_depth':[None], 'max_features': [math.floor(math.sqrt(n_features))], 'min_samples_split': [2],}\n",
    "        #accuracySMOTE_RF = train_model(RF(), new_xtrain_tfidf, new_train_y, xvalid_tfidf)\n",
    "        #print (\"SVM, WordLevel TFIDF: \", accuracySMOTE_SVM)\n",
    "        #score_list_RF.append(accuracySMOTE_SVM)\n",
    "        \n",
    "    ratios.insert(0, 0.0)\n",
    "    xlabel = \"Oversampling Ratio\"\n",
    "    ylabel = \"F1 Score\"\n",
    "    fig, ax = plt.subplots(figsize=(4, 4))\n",
    "    plotData(score_list_LR ,ratios, 5, xlabel, ylabel, ax, 'blue', lab=\"Logistic Regresssion\")\n",
    "    plotData(score_list_SVM ,ratios, 5, xlabel, ylabel, ax, 'red', lab=\"Support Vector Machine\")\n",
    "    #ax.set_ylim([0, 1])\n",
    "    ax.legend(bbox_to_anchor = (1.0, 1), loc = 'lower right')\n",
    "    \n",
    "    ROS_list = [score_list_LR, score_list_SVM]\n",
    "    \n",
    "    plt.show()\n",
    "    \n",
    "    return ROS_list\n",
    "    "
   ]
  },
  {
   "cell_type": "code",
   "execution_count": 13,
   "id": "3cb7b068",
   "metadata": {},
   "outputs": [],
   "source": [
    "def plotData(Data, x, d, xlabel, ylabel, ax, color, lab):\n",
    "    best_model = max(Data)\n",
    "\n",
    "    for i in range(0, d):\n",
    "        if(Data[i] == best_model):\n",
    "            max_n = i\n",
    "    \n",
    "    ax.plot(x, Data, color=color,marker='o', markerfacecolor=color, markersize=8, label=lab)\n",
    "    ax.plot(x[max_n], best_model, marker='x', markersize=20,  markerfacecolor=color)\n",
    "    \n",
    "    ax.set_xlabel(xlabel)\n",
    "    ax.set_ylabel(ylabel)"
   ]
  },
  {
   "cell_type": "markdown",
   "id": "19c6be09",
   "metadata": {},
   "source": [
    "#https://stackoverflow.com/questions/50245684/using-smote-with-gridsearchcv-in-scikit-learn/50245954\n",
    "def ResamplingPipe2(Model):\n",
    "    score_list = []\n",
    "    score_list.append(accuracyORIGINAL)\n",
    "    ratios = [0.25,0.5,0.75,1]\n",
    "    params_for_method = { 'random_state': [777], 'sampling_strategy': ratios}\n",
    "    \n",
    "\n",
    "    model = Pipeline([\n",
    "        ('sampling', Model()),\n",
    "        ('classification', linear_model.LogisticRegression())\n",
    "    ])\n",
    "\n",
    "    grid = GridSearchCV(model, params_for_method, cv=5, scoring='f1')\n",
    "    clf = grid.fit(xtrain_tfidf, train_y)\n",
    "    print()\n",
    "    print()\n",
    "    print(\"Best parameters set found on train set:\")\n",
    "    print(clf.best_params_)\n",
    "\n",
    "    means = clf.cv_results_['mean_test_score']\n",
    "    stds = clf.cv_results_['std_test_score']\n",
    "    for mean, std, params in zip(means, stds, clf.cv_results_['params']):\n",
    "        print(\"%0.3f (+/-%0.03f) for %r\"\n",
    "              % (mean, std * 2, params))\n",
    "\n",
    "    score_list = means\n",
    "        \n",
    "    ratios.insert(0, 0.0)\n",
    "    plt.plot(ratios, score_list)\n",
    "    plt.xlabel(\"Oversampling Ratio\")\n",
    "    y = np.range(0,1)\n",
    "    plt.ylabel(\"F1 Score\")\n",
    "    plt.show() "
   ]
  },
  {
   "cell_type": "markdown",
   "id": "94835905",
   "metadata": {},
   "source": [
    "## <font color='green'> Random Over-sampling"
   ]
  },
  {
   "cell_type": "code",
   "execution_count": 20,
   "id": "2053f5a5",
   "metadata": {},
   "outputs": [
    {
     "name": "stdout",
     "output_type": "stream",
     "text": [
      "LR, WordLevel TFIDF:  0.687559354226021\n",
      "SVM, WordLevel TFIDF:  0.7220149253731344\n",
      "LR, WordLevel TFIDF:  0.7136788445199661\n",
      "SVM, WordLevel TFIDF:  0.7133984028393967\n",
      "LR, WordLevel TFIDF:  0.7007182761372707\n",
      "SVM, WordLevel TFIDF:  0.706806282722513\n",
      "LR, WordLevel TFIDF:  0.6916030534351144\n",
      "SVM, WordLevel TFIDF:  0.6998284734133792\n"
     ]
    },
    {
     "data": {
      "image/png": "[encoded data removed]",
      "text/plain": [
       "<Figure size 288x288 with 1 Axes>"
      ]
     },
     "metadata": {
      "needs_background": "light"
     },
     "output_type": "display_data"
    }
   ],
   "source": [
    "ROS_list = ResamplingPipe(RandomOverSampler)"
   ]
  },
  {
   "cell_type": "markdown",
   "id": "2a578632",
   "metadata": {},
   "source": [
    "## <font color='green'> SMOTE Over-sampling"
   ]
  },
  {
   "cell_type": "code",
   "execution_count": 47,
   "id": "cea9188c",
   "metadata": {},
   "outputs": [
    {
     "name": "stdout",
     "output_type": "stream",
     "text": [
      "LR, WordLevel TFIDF:  0.6666666666666667\n",
      "SVM, WordLevel TFIDF:  0.700197238658777\n",
      "LR, WordLevel TFIDF:  0.681985294117647\n",
      "SVM, WordLevel TFIDF:  0.6778087279480037\n",
      "LR, WordLevel TFIDF:  0.6791489361702128\n",
      "SVM, WordLevel TFIDF:  0.6799276672694395\n",
      "LR, WordLevel TFIDF:  0.6704918032786885\n",
      "SVM, WordLevel TFIDF:  0.6779359430604982\n",
      "0.5402010050251257\n",
      "0.6666666666666667\n",
      "0.681985294117647\n",
      "0.6791489361702128\n",
      "0.6704918032786885\n",
      "0.692896174863388\n",
      "0.700197238658777\n",
      "0.6778087279480037\n",
      "0.6799276672694395\n",
      "0.6779359430604982\n"
     ]
    },
    {
     "data": {
      "image/png": "[encoded data removed]",
      "text/plain": [
       "<Figure size 288x288 with 1 Axes>"
      ]
     },
     "metadata": {
      "needs_background": "light"
     },
     "output_type": "display_data"
    }
   ],
   "source": [
    "SMOTE_list = ResamplingPipe(SMOTE)"
   ]
  },
  {
   "cell_type": "markdown",
   "id": "b0f49e56",
   "metadata": {},
   "source": [
    "## <font color='green'> ADASYN: Adaptive synthetic sampling (Over-sampling)"
   ]
  },
  {
   "cell_type": "code",
   "execution_count": 48,
   "id": "a202f248",
   "metadata": {},
   "outputs": [
    {
     "name": "stdout",
     "output_type": "stream",
     "text": [
      "LR, WordLevel TFIDF:  0.6727272727272728\n",
      "SVM, WordLevel TFIDF:  0.6828793774319066\n",
      "LR, WordLevel TFIDF:  0.6760070052539405\n",
      "SVM, WordLevel TFIDF:  0.6819012797074955\n",
      "LR, WordLevel TFIDF:  0.6694352159468439\n",
      "SVM, WordLevel TFIDF:  0.6761819803746655\n",
      "LR, WordLevel TFIDF:  0.6546026750590087\n",
      "SVM, WordLevel TFIDF:  0.6725352112676056\n",
      "0.5402010050251257\n",
      "0.6727272727272728\n",
      "0.6760070052539405\n",
      "0.6694352159468439\n",
      "0.6546026750590087\n",
      "0.692896174863388\n",
      "0.6828793774319066\n",
      "0.6819012797074955\n",
      "0.6761819803746655\n",
      "0.6725352112676056\n"
     ]
    },
    {
     "data": {
      "image/png": "[encoded data removed]",
      "text/plain": [
       "<Figure size 288x288 with 1 Axes>"
      ]
     },
     "metadata": {
      "needs_background": "light"
     },
     "output_type": "display_data"
    }
   ],
   "source": [
    "ADASYN_list = ResamplingPipe(ADASYN)"
   ]
  },
  {
   "cell_type": "markdown",
   "id": "24927675",
   "metadata": {},
   "source": [
    "## <font color='green'> SMOTE-NC"
   ]
  },
  {
   "cell_type": "markdown",
   "id": "5cd9e9b3",
   "metadata": {},
   "source": [
    "#SMOTENC\n",
    "smnc = SMOTENC(categorical_features=[0, 2], random_state=0)\n",
    "smnc_xtrain_tfidf, smnc_train_y = smnc.fit_sample(xtrain_tfidf, train_y)\n",
    "accuracySMOTENC = train_model(linear_model.LogisticRegression(random_state=0, solver='lbfgs',multi_class='multinomial'),smnc_xtrain_tfidf, smnc_train_y, xvalid_tfidf)\n",
    "print (\"LR SMOTENC, WordLevel TFIDF: \", accuracySMOTENC)\n",
    "accuracySMOTENC = train_model(svm.LinearSVC(),smnc_xtrain_tfidf, smnc_train_y, xvalid_tfidf)\n",
    "print (\"SVM SMOTENC, WordLevel TFIDF: \", accuracySMOTENC)"
   ]
  },
  {
   "cell_type": "markdown",
   "id": "2a09a034",
   "metadata": {},
   "source": [
    "## <font color='green'> Borderline SMOTE"
   ]
  },
  {
   "cell_type": "code",
   "execution_count": 49,
   "id": "be1b8465",
   "metadata": {},
   "outputs": [
    {
     "name": "stdout",
     "output_type": "stream",
     "text": [
      "LR, WordLevel TFIDF:  0.6735112936344969\n",
      "SVM, WordLevel TFIDF:  0.6917740336967294\n",
      "LR, WordLevel TFIDF:  0.6877323420074349\n",
      "SVM, WordLevel TFIDF:  0.6886792452830189\n",
      "LR, WordLevel TFIDF:  0.6707105719237436\n",
      "SVM, WordLevel TFIDF:  0.6794871794871795\n",
      "LR, WordLevel TFIDF:  0.6605351170568562\n",
      "SVM, WordLevel TFIDF:  0.6756513926325247\n",
      "0.5402010050251257\n",
      "0.6735112936344969\n",
      "0.6877323420074349\n",
      "0.6707105719237436\n",
      "0.6605351170568562\n",
      "0.692896174863388\n",
      "0.6917740336967294\n",
      "0.6886792452830189\n",
      "0.6794871794871795\n",
      "0.6756513926325247\n"
     ]
    },
    {
     "data": {
      "image/png": "[encoded data removed]",
      "text/plain": [
       "<Figure size 288x288 with 1 Axes>"
      ]
     },
     "metadata": {
      "needs_background": "light"
     },
     "output_type": "display_data"
    }
   ],
   "source": [
    "BS_list = ResamplingPipe(BorderlineSMOTE)"
   ]
  },
  {
   "cell_type": "code",
   "execution_count": 50,
   "id": "c7834756",
   "metadata": {},
   "outputs": [
    {
     "data": {
      "text/plain": [
       "[0.5402010050251257,\n",
       " 0.686414708886619,\n",
       " 0.6943192064923354,\n",
       " 0.6823134953897737,\n",
       " 0.6639935846030472]"
      ]
     },
     "execution_count": 50,
     "metadata": {},
     "output_type": "execute_result"
    }
   ],
   "source": [
    "ROS_list[0]#2"
   ]
  },
  {
   "cell_type": "code",
   "execution_count": 51,
   "id": "b4842451",
   "metadata": {},
   "outputs": [
    {
     "data": {
      "text/plain": [
       "[0.5402010050251257,\n",
       " 0.6666666666666667,\n",
       " 0.681985294117647,\n",
       " 0.6791489361702128,\n",
       " 0.6704918032786885]"
      ]
     },
     "execution_count": 51,
     "metadata": {},
     "output_type": "execute_result"
    }
   ],
   "source": [
    "SMOTE_list[0]#2"
   ]
  },
  {
   "cell_type": "code",
   "execution_count": 52,
   "id": "65d4f663",
   "metadata": {},
   "outputs": [
    {
     "data": {
      "text/plain": [
       "[0.5402010050251257,\n",
       " 0.6727272727272728,\n",
       " 0.6760070052539405,\n",
       " 0.6694352159468439,\n",
       " 0.6546026750590087]"
      ]
     },
     "execution_count": 52,
     "metadata": {},
     "output_type": "execute_result"
    }
   ],
   "source": [
    "ADASYN_list[0]#2"
   ]
  },
  {
   "cell_type": "code",
   "execution_count": 53,
   "id": "ea495983",
   "metadata": {},
   "outputs": [
    {
     "data": {
      "text/plain": [
       "[0.5402010050251257,\n",
       " 0.6735112936344969,\n",
       " 0.6877323420074349,\n",
       " 0.6707105719237436,\n",
       " 0.6605351170568562]"
      ]
     },
     "execution_count": 53,
     "metadata": {},
     "output_type": "execute_result"
    }
   ],
   "source": [
    "BS_list[0]#2"
   ]
  },
  {
   "cell_type": "code",
   "execution_count": 54,
   "id": "a7297242",
   "metadata": {},
   "outputs": [
    {
     "data": {
      "text/plain": [
       "[0.692896174863388,\n",
       " 0.6981317600786627,\n",
       " 0.6820702402957486,\n",
       " 0.6792792792792792,\n",
       " 0.6785079928952042]"
      ]
     },
     "execution_count": 54,
     "metadata": {},
     "output_type": "execute_result"
    }
   ],
   "source": [
    "ROS_list[1]#1"
   ]
  },
  {
   "cell_type": "code",
   "execution_count": 55,
   "id": "8b9bc667",
   "metadata": {},
   "outputs": [
    {
     "data": {
      "text/plain": [
       "[0.692896174863388,\n",
       " 0.700197238658777,\n",
       " 0.6778087279480037,\n",
       " 0.6799276672694395,\n",
       " 0.6779359430604982]"
      ]
     },
     "execution_count": 55,
     "metadata": {},
     "output_type": "execute_result"
    }
   ],
   "source": [
    "SMOTE_list[1]#1"
   ]
  },
  {
   "cell_type": "code",
   "execution_count": 56,
   "id": "31512fcd",
   "metadata": {},
   "outputs": [
    {
     "data": {
      "text/plain": [
       "[0.692896174863388,\n",
       " 0.6828793774319066,\n",
       " 0.6819012797074955,\n",
       " 0.6761819803746655,\n",
       " 0.6725352112676056]"
      ]
     },
     "execution_count": 56,
     "metadata": {},
     "output_type": "execute_result"
    }
   ],
   "source": [
    "ADASYN_list[1]#0"
   ]
  },
  {
   "cell_type": "code",
   "execution_count": 57,
   "id": "a5f9a392",
   "metadata": {},
   "outputs": [
    {
     "data": {
      "text/plain": [
       "[0.692896174863388,\n",
       " 0.6917740336967294,\n",
       " 0.6886792452830189,\n",
       " 0.6794871794871795,\n",
       " 0.6756513926325247]"
      ]
     },
     "execution_count": 57,
     "metadata": {},
     "output_type": "execute_result"
    }
   ],
   "source": [
    "BS_list[1]#0"
   ]
  },
  {
   "cell_type": "markdown",
   "id": "aa63c434",
   "metadata": {},
   "source": [
    "## <font color='green'> Visualization"
   ]
  },
  {
   "cell_type": "code",
   "execution_count": 88,
   "id": "17848e23",
   "metadata": {},
   "outputs": [
    {
     "data": {
      "image/png": "[encoded data removed]",
      "text/plain": [
       "<Figure size 720x576 with 2 Axes>"
      ]
     },
     "metadata": {
      "needs_background": "light"
     },
     "output_type": "display_data"
    }
   ],
   "source": [
    "xlabel = 'Oversampling Ratio'\n",
    "ylabel = 'F1 Score'\n",
    "d = 5\n",
    "\n",
    "ratios = [0.0, 0.25, 0.5, 0.75, 1]\n",
    "fig, (ax1, ax2) =  plt.subplots(1,2, figsize=(10,8))\n",
    "plotData(ROS_list[0], ratios, 5, xlabel, ylabel, ax1, color=\"blue\", lab='ROS')\n",
    "plotData(SMOTE_list[0] ,ratios, 5, xlabel, ylabel, ax1, color=\"red\", lab='SMOTE')\n",
    "plotData(ADASYN_list[0] ,ratios, 5, xlabel, ylabel, ax1, color=\"green\", lab='ADASYN')\n",
    "plotData(BS_list[0] ,ratios, 5, xlabel, ylabel, ax1, color=\"yellow\",lab='B-SMOTE')\n",
    "ax1.set_ylim([0.5, 0.75])\n",
    "ax1.set_title('Logistic Regression')\n",
    "ax1.axhline(y =0.6943192064923354, color = 'blue', linestyle = ':')\n",
    "    \n",
    "plotData(ROS_list[1], ratios, 5, xlabel, ylabel, ax2, color=\"blue\",lab='ROS')\n",
    "plotData(SMOTE_list[1] ,ratios, 5, xlabel, ylabel, ax2, color=\"red\", lab='SMOTE')\n",
    "plotData(ADASYN_list[1] ,ratios, 5, xlabel, ylabel, ax2, color=\"green\",lab='ADASYN')\n",
    "plotData(BS_list[1] ,ratios, 5, xlabel, ylabel, ax2, color=\"yellow\", lab='B-SMOTE')\n",
    "ax2.set_ylim([0.5, 0.75])\n",
    "ax2.axhline(y =0.700197238658777, color = 'red', linestyle = ':')\n",
    "ax2.set_title('Support Vector Machine')\n",
    "ax2.legend(bbox_to_anchor = (1.0, 1), loc = 'upper right')\n",
    "\n",
    "plt.show()"
   ]
  },
  {
   "cell_type": "markdown",
   "id": "3c1d67a5",
   "metadata": {},
   "source": [
    "## <font color='green'> Summary"
   ]
  },
  {
   "cell_type": "code",
   "execution_count": null,
   "id": "b0ac3b2c",
   "metadata": {},
   "outputs": [],
   "source": []
  },
  {
   "cell_type": "code",
   "execution_count": null,
   "id": "7238b3fa",
   "metadata": {},
   "outputs": [],
   "source": []
  }
 ],
 "metadata": {
  "kernelspec": {
   "display_name": "Python 3 (ipykernel)",
   "language": "python",
   "name": "python3"
  },
  "language_info": {
   "codemirror_mode": {
    "name": "ipython",
    "version": 3
   },
   "file_extension": ".py",
   "mimetype": "text/x-python",
   "name": "python",
   "nbconvert_exporter": "python",
   "pygments_lexer": "ipython3",
   "version": "3.9.7"
  }
 },
 "nbformat": 4,
 "nbformat_minor": 5
}
